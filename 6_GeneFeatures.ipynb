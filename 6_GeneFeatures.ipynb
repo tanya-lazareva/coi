{
 "cells": [
  {
   "cell_type": "markdown",
   "id": "8cb0476e",
   "metadata": {},
   "source": [
    "# Library"
   ]
  },
  {
   "cell_type": "markdown",
   "id": "b0063cf5",
   "metadata": {},
   "source": [
    "## Python packages"
   ]
  },
  {
   "cell_type": "code",
   "execution_count": 1,
   "id": "685b70f4",
   "metadata": {},
   "outputs": [
    {
     "name": "stderr",
     "output_type": "stream",
     "text": [
      "/Users/tanya/anaconda3/lib/python3.11/site-packages/pandas/core/arrays/masked.py:60: UserWarning: Pandas requires version '1.3.6' or newer of 'bottleneck' (version '1.3.5' currently installed).\n",
      "  from pandas.core import (\n"
     ]
    }
   ],
   "source": [
    "import pandas as pd\n",
    "import numpy as np\n",
    "import regex as re\n",
    "import rpy2\n",
    "import os\n",
    "import functools as fct\n",
    "from collections import Counter\n",
    "import pickle"
   ]
  },
  {
   "cell_type": "markdown",
   "id": "9afe8d1c",
   "metadata": {},
   "source": [
    "## R packages "
   ]
  },
  {
   "cell_type": "code",
   "execution_count": 2,
   "id": "8b77dcb5",
   "metadata": {},
   "outputs": [],
   "source": [
    "%load_ext rpy2.ipython"
   ]
  },
  {
   "cell_type": "code",
   "execution_count": 3,
   "id": "43df4a92",
   "metadata": {},
   "outputs": [
    {
     "data": {
      "text/plain": [
       "\n",
       "Attaching package: ‘dplyr’\n",
       "\n",
       "The following objects are masked from ‘package:stats’:\n",
       "\n",
       "    filter, lag\n",
       "\n",
       "The following objects are masked from ‘package:base’:\n",
       "\n",
       "    intersect, setdiff, setequal, union\n",
       "\n",
       "\n",
       "Attaching package: ‘ape’\n",
       "\n",
       "The following object is masked from ‘package:dplyr’:\n",
       "\n",
       "    where\n",
       "\n"
      ]
     },
     "metadata": {},
     "output_type": "display_data"
    }
   ],
   "source": [
    "%%R\n",
    "library(rlang)\n",
    "library(ggplot2)\n",
    "library(dplyr)\n",
    "library(scales)\n",
    "library(reshape2)\n",
    "library(cowplot)\n",
    "library(ape)\n",
    "library(stringr)"
   ]
  },
  {
   "cell_type": "markdown",
   "id": "e5627dd9",
   "metadata": {},
   "source": [
    "## Set path "
   ]
  },
  {
   "cell_type": "code",
   "execution_count": 4,
   "id": "c5a5802a",
   "metadata": {},
   "outputs": [],
   "source": [
    "path_to_data = '/Users/tanya/Documents/OTT/Conflicts_ClinVar/data'\n",
    "path_to_vcfs = '/Users/tanya/Documents/OTT/Conflicts_ClinVar/data/vcfs'   # path to initial ClinVar dfs\n",
    "path_to_gatk = '/Users/tanya/Documents/tools/gatk-4.5.0.0/gatk'\n",
    "path_to_tables = '/Users/tanya/Documents/OTT/Conflicts_ClinVar/tables'\n",
    "path_to_plots = '/Users/tanya/Documents/OTT/Conflicts_ClinVar/plots'\n",
    "path_to_temp = '/Users/tanya/Documents/OTT/Conflicts_ClinVar/temp'"
   ]
  },
  {
   "cell_type": "markdown",
   "id": "db8f3a45",
   "metadata": {},
   "source": [
    "## Load data"
   ]
  },
  {
   "cell_type": "code",
   "execution_count": 10,
   "id": "d773cf53",
   "metadata": {},
   "outputs": [
    {
     "name": "stderr",
     "output_type": "stream",
     "text": [
      "/var/folders/sy/0s6mz48x25xdw7n08d30rp5w0000gn/T/ipykernel_11871/2434831373.py:1: DtypeWarning: Columns (0,25) have mixed types. Specify dtype option on import or set low_memory=False.\n",
      "  vep = pd.read_csv(f'{path_to_tables}/VEP_jn5mod.csv', sep=',')\n"
     ]
    },
    {
     "data": {
      "text/plain": [
       "(2296245, 28)"
      ]
     },
     "execution_count": 10,
     "metadata": {},
     "output_type": "execute_result"
    }
   ],
   "source": [
    "vep = pd.read_csv(f'{path_to_tables}/VEP_jn5mod.csv', sep=',')\n",
    "vep.shape"
   ]
  },
  {
   "cell_type": "code",
   "execution_count": 11,
   "id": "851131d8",
   "metadata": {},
   "outputs": [
    {
     "data": {
      "text/html": [
       "<div>\n",
       "<style scoped>\n",
       "    .dataframe tbody tr th:only-of-type {\n",
       "        vertical-align: middle;\n",
       "    }\n",
       "\n",
       "    .dataframe tbody tr th {\n",
       "        vertical-align: top;\n",
       "    }\n",
       "\n",
       "    .dataframe thead th {\n",
       "        text-align: right;\n",
       "    }\n",
       "</style>\n",
       "<table border=\"1\" class=\"dataframe\">\n",
       "  <thead>\n",
       "    <tr style=\"text-align: right;\">\n",
       "      <th></th>\n",
       "      <th>ENSEMBL</th>\n",
       "      <th>SYMBOL</th>\n",
       "    </tr>\n",
       "  </thead>\n",
       "  <tbody>\n",
       "    <tr>\n",
       "      <th>0</th>\n",
       "      <td>ENSG00000210049</td>\n",
       "      <td>MT-TF</td>\n",
       "    </tr>\n",
       "    <tr>\n",
       "      <th>1</th>\n",
       "      <td>ENSG00000211459</td>\n",
       "      <td>MT-RNR1</td>\n",
       "    </tr>\n",
       "    <tr>\n",
       "      <th>2</th>\n",
       "      <td>ENSG00000210077</td>\n",
       "      <td>MT-TV</td>\n",
       "    </tr>\n",
       "    <tr>\n",
       "      <th>3</th>\n",
       "      <td>ENSG00000210082</td>\n",
       "      <td>MT-RNR2</td>\n",
       "    </tr>\n",
       "    <tr>\n",
       "      <th>4</th>\n",
       "      <td>ENSG00000209082</td>\n",
       "      <td>MT-TL1</td>\n",
       "    </tr>\n",
       "    <tr>\n",
       "      <th>...</th>\n",
       "      <td>...</td>\n",
       "      <td>...</td>\n",
       "    </tr>\n",
       "    <tr>\n",
       "      <th>70699</th>\n",
       "      <td>ENSG00000282872</td>\n",
       "      <td>C1orf232</td>\n",
       "    </tr>\n",
       "    <tr>\n",
       "      <th>70700</th>\n",
       "      <td>ENSG00000236782</td>\n",
       "      <td>ZNF593OS</td>\n",
       "    </tr>\n",
       "    <tr>\n",
       "      <th>70701</th>\n",
       "      <td>ENSG00000142684</td>\n",
       "      <td>ZNF593</td>\n",
       "    </tr>\n",
       "    <tr>\n",
       "      <th>70702</th>\n",
       "      <td>ENSG00000142675</td>\n",
       "      <td>CNKSR1</td>\n",
       "    </tr>\n",
       "    <tr>\n",
       "      <th>70709</th>\n",
       "      <td>ENSG00000227232</td>\n",
       "      <td>WASH7P</td>\n",
       "    </tr>\n",
       "  </tbody>\n",
       "</table>\n",
       "<p>41042 rows × 2 columns</p>\n",
       "</div>"
      ],
      "text/plain": [
       "               ENSEMBL    SYMBOL\n",
       "0      ENSG00000210049     MT-TF\n",
       "1      ENSG00000211459   MT-RNR1\n",
       "2      ENSG00000210077     MT-TV\n",
       "3      ENSG00000210082   MT-RNR2\n",
       "4      ENSG00000209082    MT-TL1\n",
       "...                ...       ...\n",
       "70699  ENSG00000282872  C1orf232\n",
       "70700  ENSG00000236782  ZNF593OS\n",
       "70701  ENSG00000142684    ZNF593\n",
       "70702  ENSG00000142675    CNKSR1\n",
       "70709  ENSG00000227232    WASH7P\n",
       "\n",
       "[41042 rows x 2 columns]"
      ]
     },
     "execution_count": 11,
     "metadata": {},
     "output_type": "execute_result"
    }
   ],
   "source": [
    "ensembl_ids = pd.read_csv(f'{path_to_data}/features/ensembl_ids.txt', sep='\\t')\n",
    "ensembl_ids.columns = ['ENSEMBL', 'SYMBOL']\n",
    "ensembl_ids = ensembl_ids.dropna()\n",
    "ensembl_ids.drop_duplicates(subset=['SYMBOL'])"
   ]
  },
  {
   "cell_type": "code",
   "execution_count": 12,
   "id": "71b9c522",
   "metadata": {},
   "outputs": [
    {
     "data": {
      "text/html": [
       "<div>\n",
       "<style scoped>\n",
       "    .dataframe tbody tr th:only-of-type {\n",
       "        vertical-align: middle;\n",
       "    }\n",
       "\n",
       "    .dataframe tbody tr th {\n",
       "        vertical-align: top;\n",
       "    }\n",
       "\n",
       "    .dataframe thead th {\n",
       "        text-align: right;\n",
       "    }\n",
       "</style>\n",
       "<table border=\"1\" class=\"dataframe\">\n",
       "  <thead>\n",
       "    <tr style=\"text-align: right;\">\n",
       "      <th></th>\n",
       "      <th>SYMBOL</th>\n",
       "      <th>OMIM</th>\n",
       "      <th>INH</th>\n",
       "      <th>ENSEMBL</th>\n",
       "    </tr>\n",
       "  </thead>\n",
       "  <tbody>\n",
       "    <tr>\n",
       "      <th>0</th>\n",
       "      <td>A4GALT</td>\n",
       "      <td>OMIM:111400</td>\n",
       "      <td>AD</td>\n",
       "      <td>ENSG00000128274</td>\n",
       "    </tr>\n",
       "    <tr>\n",
       "      <th>1</th>\n",
       "      <td>AAAS</td>\n",
       "      <td>OMIM:231550</td>\n",
       "      <td>AR</td>\n",
       "      <td>ENSG00000094914</td>\n",
       "    </tr>\n",
       "    <tr>\n",
       "      <th>2</th>\n",
       "      <td>AAGAB</td>\n",
       "      <td>OMIM:148600</td>\n",
       "      <td>AD</td>\n",
       "      <td>ENSG00000103591</td>\n",
       "    </tr>\n",
       "  </tbody>\n",
       "</table>\n",
       "</div>"
      ],
      "text/plain": [
       "   SYMBOL         OMIM INH          ENSEMBL\n",
       "0  A4GALT  OMIM:111400  AD  ENSG00000128274\n",
       "1    AAAS  OMIM:231550  AR  ENSG00000094914\n",
       "2   AAGAB  OMIM:148600  AD  ENSG00000103591"
      ]
     },
     "execution_count": 12,
     "metadata": {},
     "output_type": "execute_result"
    }
   ],
   "source": [
    "hpo_table = pd.read_csv(f'{path_to_data}/features/hpo_table.csv', sep='\\t')\n",
    "hpo_table.columns = ['SYMBOL', 'OMIM', 'INH', 'ENSEMBL']\n",
    "hpo_table.head(3)"
   ]
  },
  {
   "cell_type": "code",
   "execution_count": 13,
   "id": "dccdc8cb",
   "metadata": {},
   "outputs": [],
   "source": [
    "%%R\n",
    "\n",
    "bmrt_mims <- read.csv('./data/features/bioMart_Gene_MIM.txt', sep='\\t')\n",
    "colnames(bmrt_mims) <- c('ENSEMBL', 'SYMBOL', 'MIM_per_GENE')\n",
    "\n",
    "gene_mim_summary <- na.omit(bmrt_mims) %>%\n",
    "  group_by(SYMBOL) %>%\n",
    "  summarise(\n",
    "    MIM_per_GENE = paste(MIM_per_GENE, collapse = \";\"))\n",
    "\n",
    "gene_mim_summary\n",
    "write.table(gene_mim_summary, './tables/biomrt_gene_MIM.csv', sep='\\t', quote=FALSE)"
   ]
  },
  {
   "cell_type": "code",
   "execution_count": 14,
   "id": "1143c85a",
   "metadata": {},
   "outputs": [
    {
     "data": {
      "text/plain": [
       "(2296245, 29)"
      ]
     },
     "execution_count": 14,
     "metadata": {},
     "output_type": "execute_result"
    }
   ],
   "source": [
    "# bioMart - diseases list\n",
    "\n",
    "bmrt_mims = pd.read_csv('./data/features/biomrt_gene_MIM.csv', sep=',')\n",
    "bmrt_mims.columns = ['SYMBOL', 'MIM_per_GENE']\n",
    "\n",
    "vep = vep.merge(bmrt_mims, on =['SYMBOL'], how='left')\n",
    "#vep = vep.drop(columns = ['MIM_per_GENE_x', 'MIM_per_GENE_y'])\n",
    "vep.shape"
   ]
  },
  {
   "cell_type": "code",
   "execution_count": 15,
   "id": "5cf1a78c",
   "metadata": {},
   "outputs": [
    {
     "data": {
      "text/html": [
       "<div>\n",
       "<style scoped>\n",
       "    .dataframe tbody tr th:only-of-type {\n",
       "        vertical-align: middle;\n",
       "    }\n",
       "\n",
       "    .dataframe tbody tr th {\n",
       "        vertical-align: top;\n",
       "    }\n",
       "\n",
       "    .dataframe thead th {\n",
       "        text-align: right;\n",
       "    }\n",
       "</style>\n",
       "<table border=\"1\" class=\"dataframe\">\n",
       "  <thead>\n",
       "    <tr style=\"text-align: right;\">\n",
       "      <th></th>\n",
       "      <th>CHROM</th>\n",
       "      <th>POS</th>\n",
       "      <th>ID</th>\n",
       "      <th>REF</th>\n",
       "      <th>ALT</th>\n",
       "      <th>SYMBOL</th>\n",
       "      <th>IMPACT</th>\n",
       "      <th>Consequence</th>\n",
       "      <th>MAX_AF</th>\n",
       "      <th>MAX_AF_POPS</th>\n",
       "      <th>...</th>\n",
       "      <th>gnomADg_OTH_AF</th>\n",
       "      <th>gnomADg_SAS_AF</th>\n",
       "      <th>LOCALAFDB_AF_healthy</th>\n",
       "      <th>CLNVC</th>\n",
       "      <th>CLNDISDB</th>\n",
       "      <th>CLNSIG_MASK</th>\n",
       "      <th>INITIAL_CLNSIG</th>\n",
       "      <th>Consequence_MASK</th>\n",
       "      <th>MIN_AF</th>\n",
       "      <th>MIM_per_GENE</th>\n",
       "    </tr>\n",
       "  </thead>\n",
       "  <tbody>\n",
       "    <tr>\n",
       "      <th>0</th>\n",
       "      <td>1</td>\n",
       "      <td>1014063</td>\n",
       "      <td>1354468</td>\n",
       "      <td>T</td>\n",
       "      <td>A</td>\n",
       "      <td>ISG15</td>\n",
       "      <td>MODERATE</td>\n",
       "      <td>missense_variant</td>\n",
       "      <td>6.539e-05</td>\n",
       "      <td>gnomADg_AMR</td>\n",
       "      <td>...</td>\n",
       "      <td>0</td>\n",
       "      <td>0</td>\n",
       "      <td>.</td>\n",
       "      <td>single_nucleotide_variant</td>\n",
       "      <td>MONDO:MONDO:0014502,MedGen:C4015293,OMIM:61612...</td>\n",
       "      <td>COI</td>\n",
       "      <td>VUS</td>\n",
       "      <td>Missense</td>\n",
       "      <td>0</td>\n",
       "      <td>616126</td>\n",
       "    </tr>\n",
       "    <tr>\n",
       "      <th>1</th>\n",
       "      <td>1</td>\n",
       "      <td>1014131</td>\n",
       "      <td>1644340</td>\n",
       "      <td>G</td>\n",
       "      <td>T</td>\n",
       "      <td>ISG15</td>\n",
       "      <td>MODERATE</td>\n",
       "      <td>missense_variant</td>\n",
       "      <td>0.0051</td>\n",
       "      <td>SAS</td>\n",
       "      <td>...</td>\n",
       "      <td>0</td>\n",
       "      <td>0.002894</td>\n",
       "      <td>0.00030432136335970786</td>\n",
       "      <td>single_nucleotide_variant</td>\n",
       "      <td>MedGen:C3661900|MONDO:MONDO:0014502,MedGen:C40...</td>\n",
       "      <td>COI</td>\n",
       "      <td>LB</td>\n",
       "      <td>Missense</td>\n",
       "      <td>0</td>\n",
       "      <td>616126</td>\n",
       "    </tr>\n",
       "    <tr>\n",
       "      <th>2</th>\n",
       "      <td>1</td>\n",
       "      <td>1014138</td>\n",
       "      <td>652606</td>\n",
       "      <td>C</td>\n",
       "      <td>T</td>\n",
       "      <td>ISG15</td>\n",
       "      <td>MODERATE</td>\n",
       "      <td>missense_variant</td>\n",
       "      <td>9.805e-05</td>\n",
       "      <td>gnomADe_SAS</td>\n",
       "      <td>...</td>\n",
       "      <td>0</td>\n",
       "      <td>0</td>\n",
       "      <td>.</td>\n",
       "      <td>single_nucleotide_variant</td>\n",
       "      <td>MONDO:MONDO:0014502,MedGen:C4015293,OMIM:61612...</td>\n",
       "      <td>COI</td>\n",
       "      <td>VUS</td>\n",
       "      <td>Missense</td>\n",
       "      <td>0</td>\n",
       "      <td>616126</td>\n",
       "    </tr>\n",
       "    <tr>\n",
       "      <th>3</th>\n",
       "      <td>1</td>\n",
       "      <td>1014276</td>\n",
       "      <td>568195</td>\n",
       "      <td>G</td>\n",
       "      <td>A</td>\n",
       "      <td>ISG15</td>\n",
       "      <td>MODERATE</td>\n",
       "      <td>missense_variant</td>\n",
       "      <td>0.002871</td>\n",
       "      <td>gnomADg_OTH</td>\n",
       "      <td>...</td>\n",
       "      <td>0.002871</td>\n",
       "      <td>0</td>\n",
       "      <td>.</td>\n",
       "      <td>single_nucleotide_variant</td>\n",
       "      <td>MeSH:D030342,MedGen:C0950123|MONDO:MONDO:00145...</td>\n",
       "      <td>COI</td>\n",
       "      <td>VUS</td>\n",
       "      <td>Missense</td>\n",
       "      <td>0</td>\n",
       "      <td>616126</td>\n",
       "    </tr>\n",
       "    <tr>\n",
       "      <th>4</th>\n",
       "      <td>1</td>\n",
       "      <td>1020239</td>\n",
       "      <td>210112</td>\n",
       "      <td>G</td>\n",
       "      <td>C</td>\n",
       "      <td>AGRN</td>\n",
       "      <td>MODERATE</td>\n",
       "      <td>missense_variant</td>\n",
       "      <td>0.03373</td>\n",
       "      <td>gnomADe_SAS</td>\n",
       "      <td>...</td>\n",
       "      <td>0.009126</td>\n",
       "      <td>0.03081</td>\n",
       "      <td>0.01928374655647383</td>\n",
       "      <td>single_nucleotide_variant</td>\n",
       "      <td>MedGen:C3661900|.|MONDO:MONDO:0014052,MedGen:C...</td>\n",
       "      <td>COI</td>\n",
       "      <td>COI</td>\n",
       "      <td>Missense</td>\n",
       "      <td>0</td>\n",
       "      <td>615120</td>\n",
       "    </tr>\n",
       "    <tr>\n",
       "      <th>...</th>\n",
       "      <td>...</td>\n",
       "      <td>...</td>\n",
       "      <td>...</td>\n",
       "      <td>...</td>\n",
       "      <td>...</td>\n",
       "      <td>...</td>\n",
       "      <td>...</td>\n",
       "      <td>...</td>\n",
       "      <td>...</td>\n",
       "      <td>...</td>\n",
       "      <td>...</td>\n",
       "      <td>...</td>\n",
       "      <td>...</td>\n",
       "      <td>...</td>\n",
       "      <td>...</td>\n",
       "      <td>...</td>\n",
       "      <td>...</td>\n",
       "      <td>...</td>\n",
       "      <td>...</td>\n",
       "      <td>...</td>\n",
       "      <td>...</td>\n",
       "    </tr>\n",
       "    <tr>\n",
       "      <th>2296240</th>\n",
       "      <td>Y</td>\n",
       "      <td>12915726</td>\n",
       "      <td>3044219</td>\n",
       "      <td>C</td>\n",
       "      <td>T</td>\n",
       "      <td>DDX3Y</td>\n",
       "      <td>LOW</td>\n",
       "      <td>synonymous_variant</td>\n",
       "      <td>0.0042</td>\n",
       "      <td>EUR</td>\n",
       "      <td>...</td>\n",
       "      <td>0</td>\n",
       "      <td>0</td>\n",
       "      <td>.</td>\n",
       "      <td>single_nucleotide_variant</td>\n",
       "      <td>.</td>\n",
       "      <td>LB</td>\n",
       "      <td>NaN</td>\n",
       "      <td>Other</td>\n",
       "      <td>0</td>\n",
       "      <td>415000</td>\n",
       "    </tr>\n",
       "    <tr>\n",
       "      <th>2296241</th>\n",
       "      <td>Y</td>\n",
       "      <td>12915947</td>\n",
       "      <td>2429752</td>\n",
       "      <td>CTG</td>\n",
       "      <td>C</td>\n",
       "      <td>DDX3Y</td>\n",
       "      <td>HIGH</td>\n",
       "      <td>frameshift_variant</td>\n",
       "      <td>.</td>\n",
       "      <td>.</td>\n",
       "      <td>...</td>\n",
       "      <td>.</td>\n",
       "      <td>.</td>\n",
       "      <td>.</td>\n",
       "      <td>Deletion</td>\n",
       "      <td>Human_Phenotype_Ontology:HP:0011961,MedGen:C40...</td>\n",
       "      <td>LP</td>\n",
       "      <td>NaN</td>\n",
       "      <td>pLOF</td>\n",
       "      <td>.</td>\n",
       "      <td>415000</td>\n",
       "    </tr>\n",
       "    <tr>\n",
       "      <th>2296242</th>\n",
       "      <td>Y</td>\n",
       "      <td>12915989</td>\n",
       "      <td>2429753</td>\n",
       "      <td>A</td>\n",
       "      <td>AT</td>\n",
       "      <td>DDX3Y</td>\n",
       "      <td>HIGH</td>\n",
       "      <td>frameshift_variant</td>\n",
       "      <td>.</td>\n",
       "      <td>.</td>\n",
       "      <td>...</td>\n",
       "      <td>.</td>\n",
       "      <td>.</td>\n",
       "      <td>.</td>\n",
       "      <td>Duplication</td>\n",
       "      <td>Human_Phenotype_Ontology:HP:0011961,MedGen:C40...</td>\n",
       "      <td>LP</td>\n",
       "      <td>NaN</td>\n",
       "      <td>pLOF</td>\n",
       "      <td>.</td>\n",
       "      <td>415000</td>\n",
       "    </tr>\n",
       "    <tr>\n",
       "      <th>2296243</th>\n",
       "      <td>Y</td>\n",
       "      <td>12916632</td>\n",
       "      <td>2429754</td>\n",
       "      <td>TG</td>\n",
       "      <td>T</td>\n",
       "      <td>DDX3Y</td>\n",
       "      <td>HIGH</td>\n",
       "      <td>frameshift_variant&amp;splice_region_variant</td>\n",
       "      <td>.</td>\n",
       "      <td>.</td>\n",
       "      <td>...</td>\n",
       "      <td>.</td>\n",
       "      <td>.</td>\n",
       "      <td>.</td>\n",
       "      <td>Deletion</td>\n",
       "      <td>Human_Phenotype_Ontology:HP:0011961,MedGen:C40...</td>\n",
       "      <td>LP</td>\n",
       "      <td>NaN</td>\n",
       "      <td>pLOF</td>\n",
       "      <td>.</td>\n",
       "      <td>415000</td>\n",
       "    </tr>\n",
       "    <tr>\n",
       "      <th>2296244</th>\n",
       "      <td>Y</td>\n",
       "      <td>21548157</td>\n",
       "      <td>2689863</td>\n",
       "      <td>G</td>\n",
       "      <td>T</td>\n",
       "      <td>RBMY1A1</td>\n",
       "      <td>MODERATE</td>\n",
       "      <td>missense_variant</td>\n",
       "      <td>.</td>\n",
       "      <td>.</td>\n",
       "      <td>...</td>\n",
       "      <td>.</td>\n",
       "      <td>.</td>\n",
       "      <td>.</td>\n",
       "      <td>single_nucleotide_variant</td>\n",
       "      <td>MedGen:C3661900</td>\n",
       "      <td>VUS</td>\n",
       "      <td>NaN</td>\n",
       "      <td>Missense</td>\n",
       "      <td>.</td>\n",
       "      <td>415000</td>\n",
       "    </tr>\n",
       "  </tbody>\n",
       "</table>\n",
       "<p>2296245 rows × 29 columns</p>\n",
       "</div>"
      ],
      "text/plain": [
       "        CHROM       POS       ID  REF ALT   SYMBOL    IMPACT  \\\n",
       "0           1   1014063  1354468    T   A    ISG15  MODERATE   \n",
       "1           1   1014131  1644340    G   T    ISG15  MODERATE   \n",
       "2           1   1014138   652606    C   T    ISG15  MODERATE   \n",
       "3           1   1014276   568195    G   A    ISG15  MODERATE   \n",
       "4           1   1020239   210112    G   C     AGRN  MODERATE   \n",
       "...       ...       ...      ...  ...  ..      ...       ...   \n",
       "2296240     Y  12915726  3044219    C   T    DDX3Y       LOW   \n",
       "2296241     Y  12915947  2429752  CTG   C    DDX3Y      HIGH   \n",
       "2296242     Y  12915989  2429753    A  AT    DDX3Y      HIGH   \n",
       "2296243     Y  12916632  2429754   TG   T    DDX3Y      HIGH   \n",
       "2296244     Y  21548157  2689863    G   T  RBMY1A1  MODERATE   \n",
       "\n",
       "                                      Consequence     MAX_AF  MAX_AF_POPS  \\\n",
       "0                                missense_variant  6.539e-05  gnomADg_AMR   \n",
       "1                                missense_variant     0.0051          SAS   \n",
       "2                                missense_variant  9.805e-05  gnomADe_SAS   \n",
       "3                                missense_variant   0.002871  gnomADg_OTH   \n",
       "4                                missense_variant    0.03373  gnomADe_SAS   \n",
       "...                                           ...        ...          ...   \n",
       "2296240                        synonymous_variant     0.0042          EUR   \n",
       "2296241                        frameshift_variant          .            .   \n",
       "2296242                        frameshift_variant          .            .   \n",
       "2296243  frameshift_variant&splice_region_variant          .            .   \n",
       "2296244                          missense_variant          .            .   \n",
       "\n",
       "         ... gnomADg_OTH_AF gnomADg_SAS_AF    LOCALAFDB_AF_healthy  \\\n",
       "0        ...              0              0                       .   \n",
       "1        ...              0       0.002894  0.00030432136335970786   \n",
       "2        ...              0              0                       .   \n",
       "3        ...       0.002871              0                       .   \n",
       "4        ...       0.009126        0.03081     0.01928374655647383   \n",
       "...      ...            ...            ...                     ...   \n",
       "2296240  ...              0              0                       .   \n",
       "2296241  ...              .              .                       .   \n",
       "2296242  ...              .              .                       .   \n",
       "2296243  ...              .              .                       .   \n",
       "2296244  ...              .              .                       .   \n",
       "\n",
       "                             CLNVC  \\\n",
       "0        single_nucleotide_variant   \n",
       "1        single_nucleotide_variant   \n",
       "2        single_nucleotide_variant   \n",
       "3        single_nucleotide_variant   \n",
       "4        single_nucleotide_variant   \n",
       "...                            ...   \n",
       "2296240  single_nucleotide_variant   \n",
       "2296241                   Deletion   \n",
       "2296242                Duplication   \n",
       "2296243                   Deletion   \n",
       "2296244  single_nucleotide_variant   \n",
       "\n",
       "                                                  CLNDISDB CLNSIG_MASK  \\\n",
       "0        MONDO:MONDO:0014502,MedGen:C4015293,OMIM:61612...         COI   \n",
       "1        MedGen:C3661900|MONDO:MONDO:0014502,MedGen:C40...         COI   \n",
       "2        MONDO:MONDO:0014502,MedGen:C4015293,OMIM:61612...         COI   \n",
       "3        MeSH:D030342,MedGen:C0950123|MONDO:MONDO:00145...         COI   \n",
       "4        MedGen:C3661900|.|MONDO:MONDO:0014052,MedGen:C...         COI   \n",
       "...                                                    ...         ...   \n",
       "2296240                                                  .          LB   \n",
       "2296241  Human_Phenotype_Ontology:HP:0011961,MedGen:C40...          LP   \n",
       "2296242  Human_Phenotype_Ontology:HP:0011961,MedGen:C40...          LP   \n",
       "2296243  Human_Phenotype_Ontology:HP:0011961,MedGen:C40...          LP   \n",
       "2296244                                    MedGen:C3661900         VUS   \n",
       "\n",
       "        INITIAL_CLNSIG Consequence_MASK MIN_AF MIM_per_GENE  \n",
       "0                  VUS         Missense      0       616126  \n",
       "1                   LB         Missense      0       616126  \n",
       "2                  VUS         Missense      0       616126  \n",
       "3                  VUS         Missense      0       616126  \n",
       "4                  COI         Missense      0       615120  \n",
       "...                ...              ...    ...          ...  \n",
       "2296240            NaN            Other      0       415000  \n",
       "2296241            NaN             pLOF      .       415000  \n",
       "2296242            NaN             pLOF      .       415000  \n",
       "2296243            NaN             pLOF      .       415000  \n",
       "2296244            NaN         Missense      .       415000  \n",
       "\n",
       "[2296245 rows x 29 columns]"
      ]
     },
     "execution_count": 15,
     "metadata": {},
     "output_type": "execute_result"
    }
   ],
   "source": [
    "vep"
   ]
  },
  {
   "cell_type": "markdown",
   "id": "992d3a0a",
   "metadata": {},
   "source": [
    "# Lists of genes"
   ]
  },
  {
   "cell_type": "markdown",
   "id": "448a9faa",
   "metadata": {},
   "source": [
    "## P1 "
   ]
  },
  {
   "cell_type": "markdown",
   "id": "ad4c0016",
   "metadata": {},
   "source": [
    "### by Symbol "
   ]
  },
  {
   "cell_type": "code",
   "execution_count": 18,
   "id": "00bddd7d",
   "metadata": {},
   "outputs": [
    {
     "data": {
      "text/plain": [
       "3703"
      ]
     },
     "execution_count": 18,
     "metadata": {},
     "output_type": "execute_result"
    }
   ],
   "source": [
    "# genes with COI  (genes with at least one associated MIM)\n",
    " \n",
    "coi_genes_list = vep[vep['CLNSIG_MASK'] == 'COI']['SYMBOL'].unique()\n",
    "coi_genes_list = [x for x in coi_genes_list if str(x) != 'nan']\n",
    "len(coi_genes_list)"
   ]
  },
  {
   "cell_type": "code",
   "execution_count": 19,
   "id": "09ba09c7",
   "metadata": {},
   "outputs": [
    {
     "data": {
      "text/plain": [
       "1028"
      ]
     },
     "execution_count": 19,
     "metadata": {},
     "output_type": "execute_result"
    }
   ],
   "source": [
    "# genes w/o COI (genes with at least one associated MIM)\n",
    "\n",
    "nocoi_genes_list = vep[vep['CLNSIG_MASK'] != 'COI']['SYMBOL'].unique()\n",
    "nocoi_genes_list = [x for x in nocoi_genes_list if str(x) != 'nan']\n",
    "nocoi_genes_list = [x for x in nocoi_genes_list if x not in coi_genes_list]\n",
    "\n",
    "len(nocoi_genes_list)"
   ]
  },
  {
   "cell_type": "code",
   "execution_count": 23,
   "id": "b3525506",
   "metadata": {},
   "outputs": [
    {
     "data": {
      "text/plain": [
       "4719"
      ]
     },
     "execution_count": 23,
     "metadata": {},
     "output_type": "execute_result"
    }
   ],
   "source": [
    "# genes with at least one associated MIM\n",
    "\n",
    "#mim_genes_df = vep.dropna(subset=['MIM_per_GENE'])\n",
    "#mim_genes_list = list(mim_genes_df['SYMBOL'].unique())\n",
    "#len(mim_genes_list)"
   ]
  },
  {
   "cell_type": "code",
   "execution_count": 12,
   "id": "38c99a81",
   "metadata": {},
   "outputs": [
    {
     "data": {
      "text/plain": [
       "4702"
      ]
     },
     "execution_count": 12,
     "metadata": {},
     "output_type": "execute_result"
    }
   ],
   "source": [
    "# genes have at least one P variant\n",
    "\n",
    "#pathogenic_genes_list = list(vep[vep['CLNSIG_MASK'] == 'P']['SYMBOL'].unique())\n",
    "#pathogenic_genes_list = [x for x in pathogenic_genes_list if str(x) != 'nan']\n",
    "#len(pathogenic_genes_list)"
   ]
  },
  {
   "cell_type": "code",
   "execution_count": 25,
   "id": "018bd61a",
   "metadata": {},
   "outputs": [
    {
     "name": "stdout",
     "output_type": "stream",
     "text": [
      "Genes are only in MIM-genes list: (516, 2)\n",
      "Genes are only in P-genes list: (533, 2)\n",
      "Intersected genes: (4186, 2)\n"
     ]
    }
   ],
   "source": [
    "# compare filter (by at least one P vs at least one MIM)\n",
    "\n",
    "#compare = pd.merge(pd.DataFrame(mim_genes_list, columns=['SYMBOL']), pd.DataFrame(pathogenic_genes_list, columns=['SYMBOL']),\n",
    "#         on=['SYMBOL'],how='outer', indicator=True )\n",
    "\n",
    "#print('Genes are only in MIM-genes list:', compare[compare['_merge'] == 'right_only'].shape)\n",
    "#print('Genes are only in P-genes list:', compare[compare['_merge'] == 'left_only'].shape)\n",
    "#print('Intersected genes:', compare[compare['_merge'] == 'both'].shape)"
   ]
  },
  {
   "cell_type": "code",
   "execution_count": 26,
   "id": "71d158f9",
   "metadata": {},
   "outputs": [],
   "source": [
    "#with open(\"pathogenic_genes_list\", \"wb\") as fp:   #Pickling\n",
    "#    pickle.dump(pathogenic_genes_list, fp)"
   ]
  },
  {
   "cell_type": "code",
   "execution_count": 27,
   "id": "414c901f",
   "metadata": {},
   "outputs": [],
   "source": [
    "#with open(\"coi_genes_list\", \"wb\") as fp:   #Pickling\n",
    "#    pickle.dump(coi_genes_list, fp)"
   ]
  },
  {
   "cell_type": "code",
   "execution_count": 13,
   "id": "c12bbd1d",
   "metadata": {},
   "outputs": [
    {
     "data": {
      "text/plain": [
       "3627"
      ]
     },
     "execution_count": 13,
     "metadata": {},
     "output_type": "execute_result"
    }
   ],
   "source": [
    "# genes with COI and with at least one P\n",
    "\n",
    "#coi_pgenes_list = vep[vep['CLNSIG_MASK'] == 'COI']['SYMBOL'].unique()\n",
    "\n",
    "#coi_pgenes_list = [x for x in coi_pgenes_list if x in pathogenic_genes_list]\n",
    "#coi_pgenes_list = [x for x in coi_pgenes_list if str(x) != 'nan']\n",
    "#len(coi_pgenes_list)"
   ]
  },
  {
   "cell_type": "code",
   "execution_count": 15,
   "id": "cb6956be",
   "metadata": {},
   "outputs": [
    {
     "data": {
      "text/plain": [
       "1075"
      ]
     },
     "execution_count": 15,
     "metadata": {},
     "output_type": "execute_result"
    }
   ],
   "source": [
    "# genes with no COI and at least one P\n",
    "\n",
    "#pathogenic_genes_list_nocoi = [x for x in pathogenic_genes_list if x not in coi_pgenes_list]\n",
    "#len(pathogenic_genes_list_nocoi)"
   ]
  },
  {
   "cell_type": "code",
   "execution_count": 30,
   "id": "41b38fd9",
   "metadata": {},
   "outputs": [
    {
     "data": {
      "text/plain": [
       "1025"
      ]
     },
     "execution_count": 30,
     "metadata": {},
     "output_type": "execute_result"
    }
   ],
   "source": [
    "# genes with no COI and at least one associated MIM\n",
    "\n",
    "#mim_genes_list_nocoi = [x for x in mim_genes_list if x not in coi_genes_list]\n",
    "#len(mim_genes_list_nocoi)"
   ]
  },
  {
   "cell_type": "markdown",
   "id": "2b3a4a04",
   "metadata": {},
   "source": [
    "### Ensembl IDs "
   ]
  },
  {
   "cell_type": "code",
   "execution_count": 20,
   "id": "79737220",
   "metadata": {},
   "outputs": [
    {
     "data": {
      "text/html": [
       "<div>\n",
       "<style scoped>\n",
       "    .dataframe tbody tr th:only-of-type {\n",
       "        vertical-align: middle;\n",
       "    }\n",
       "\n",
       "    .dataframe tbody tr th {\n",
       "        vertical-align: top;\n",
       "    }\n",
       "\n",
       "    .dataframe thead th {\n",
       "        text-align: right;\n",
       "    }\n",
       "</style>\n",
       "<table border=\"1\" class=\"dataframe\">\n",
       "  <thead>\n",
       "    <tr style=\"text-align: right;\">\n",
       "      <th></th>\n",
       "      <th>ENSEMBL</th>\n",
       "      <th>SYMBOL</th>\n",
       "    </tr>\n",
       "  </thead>\n",
       "  <tbody>\n",
       "    <tr>\n",
       "      <th>0</th>\n",
       "      <td>ENSG00000210049</td>\n",
       "      <td>MT-TF</td>\n",
       "    </tr>\n",
       "    <tr>\n",
       "      <th>1</th>\n",
       "      <td>ENSG00000211459</td>\n",
       "      <td>MT-RNR1</td>\n",
       "    </tr>\n",
       "    <tr>\n",
       "      <th>2</th>\n",
       "      <td>ENSG00000210077</td>\n",
       "      <td>MT-TV</td>\n",
       "    </tr>\n",
       "  </tbody>\n",
       "</table>\n",
       "</div>"
      ],
      "text/plain": [
       "           ENSEMBL   SYMBOL\n",
       "0  ENSG00000210049    MT-TF\n",
       "1  ENSG00000211459  MT-RNR1\n",
       "2  ENSG00000210077    MT-TV"
      ]
     },
     "execution_count": 20,
     "metadata": {},
     "output_type": "execute_result"
    }
   ],
   "source": [
    "ensembl_ids = pd.read_csv(f'{path_to_data}/features/ensembl_ids.txt', sep='\\t')\n",
    "ensembl_ids.columns = ['ENSEMBL', 'SYMBOL']\n",
    "ensembl_ids = ensembl_ids.dropna()\n",
    "ensembl_ids = ensembl_ids.drop_duplicates(subset=['SYMBOL'])\n",
    "ensembl_ids.head(3)"
   ]
  },
  {
   "cell_type": "code",
   "execution_count": 32,
   "id": "db884095",
   "metadata": {},
   "outputs": [
    {
     "data": {
      "text/plain": [
       "4719"
      ]
     },
     "execution_count": 32,
     "metadata": {},
     "output_type": "execute_result"
    }
   ],
   "source": [
    "# genes with at least one associated MIM\n",
    "\n",
    "#ensmbl_mim_genes_list = pd.merge(pd.DataFrame(mim_genes_list, columns=['SYMBOL']),\n",
    "                                 ensembl_ids, on=['SYMBOL'], how='inner')\n",
    "\n",
    "#ensmbl_mim_genes_list = ensmbl_mim_genes_list['ENSEMBL'].to_list()\n",
    "\n",
    "#len(ensmbl_mim_genes_list)"
   ]
  },
  {
   "cell_type": "code",
   "execution_count": 17,
   "id": "8625d115",
   "metadata": {},
   "outputs": [
    {
     "data": {
      "text/plain": [
       "4660"
      ]
     },
     "execution_count": 17,
     "metadata": {},
     "output_type": "execute_result"
    }
   ],
   "source": [
    "# genes have at least one P variant\n",
    "\n",
    "#ensmbl_pathogenic_genes_list = pd.merge(pd.DataFrame(pathogenic_genes_list, columns=['SYMBOL']),\n",
    "#                                 ensembl_ids, on=['SYMBOL'], how='inner')\n",
    "\n",
    "#ensmbl_pathogenic_genes_list = ensmbl_pathogenic_genes_list['ENSEMBL'].dropna().to_list()\n",
    "\n",
    "#len(ensmbl_pathogenic_genes_list)"
   ]
  },
  {
   "cell_type": "code",
   "execution_count": 21,
   "id": "dd41268f",
   "metadata": {},
   "outputs": [
    {
     "data": {
      "text/plain": [
       "3703"
      ]
     },
     "execution_count": 21,
     "metadata": {},
     "output_type": "execute_result"
    }
   ],
   "source": [
    "# all genes with COI \n",
    "\n",
    "ensmbl_coi_genes_list = pd.merge(pd.DataFrame(coi_genes_list, columns=['SYMBOL']),\n",
    "                                 ensembl_ids, on=['SYMBOL'], how='inner')\n",
    "\n",
    "ensmbl_coi_genes_list = ensmbl_coi_genes_list['ENSEMBL'].dropna().to_list()\n",
    "\n",
    "len(ensmbl_coi_genes_list)"
   ]
  },
  {
   "cell_type": "code",
   "execution_count": 23,
   "id": "848c42ad",
   "metadata": {},
   "outputs": [],
   "source": [
    "# genes  with COI  and with at least one P\n",
    "\n",
    "#ensmbl_coi_pgenes_list = pd.merge(pd.DataFrame(coi_pgenes_list, columns=['SYMBOL']),\n",
    "#                                 ensembl_ids, on=['SYMBOL'], how='inner')\n",
    "\n",
    "#ensmbl_coi_pgenes_list = ensmbl_coi_pgenes_list['ENSEMBL'].dropna().to_list()\n",
    "\n",
    "#len(coi_pgenes_list)"
   ]
  },
  {
   "cell_type": "code",
   "execution_count": 24,
   "id": "0def0637",
   "metadata": {},
   "outputs": [
    {
     "data": {
      "text/plain": [
       "1028"
      ]
     },
     "execution_count": 24,
     "metadata": {},
     "output_type": "execute_result"
    }
   ],
   "source": [
    "# all genes w/o COI\n",
    "\n",
    "ensmbl_nocoi_genes_list = pd.merge(pd.DataFrame(nocoi_genes_list, columns=['SYMBOL']),\n",
    "                                 ensembl_ids, on=['SYMBOL'], how='inner')\n",
    "\n",
    "ensmbl_nocoi_genes_list = ensmbl_nocoi_genes_list['ENSEMBL'].dropna().to_list()\n",
    "\n",
    "len(ensmbl_nocoi_genes_list)"
   ]
  },
  {
   "cell_type": "code",
   "execution_count": 37,
   "id": "d3385f9c",
   "metadata": {},
   "outputs": [
    {
     "data": {
      "text/plain": [
       "1051"
      ]
     },
     "execution_count": 37,
     "metadata": {},
     "output_type": "execute_result"
    }
   ],
   "source": [
    "# genes with no COI and at least one P\n",
    "\n",
    "#ensmbl_pathogenic_genes_list_nocoi = pd.merge(pd.DataFrame(pathogenic_genes_list_nocoi, columns=['SYMBOL']),\n",
    "#                                 ensembl_ids, on=['SYMBOL'], how='inner')\n",
    "\n",
    "#ensmbl_pathogenic_genes_list_nocoi = ensmbl_pathogenic_genes_list_nocoi['ENSEMBL'].dropna().to_list()\n",
    "\n",
    "#len(ensmbl_pathogenic_genes_list_nocoi)"
   ]
  },
  {
   "cell_type": "code",
   "execution_count": 38,
   "id": "0902bc74",
   "metadata": {},
   "outputs": [
    {
     "data": {
      "text/plain": [
       "1025"
      ]
     },
     "execution_count": 38,
     "metadata": {},
     "output_type": "execute_result"
    }
   ],
   "source": [
    "# genes with no COI and at least one associated MIM\n",
    "\n",
    "#ensmbl_mim_genes_list_nocoi = pd.merge(pd.DataFrame(mim_genes_list_nocoi, columns=['SYMBOL']),\n",
    "#                                 ensembl_ids, on=['SYMBOL'], how='inner')\n",
    "\n",
    "#ensmbl_mim_genes_list_nocoi = ensmbl_mim_genes_list_nocoi['ENSEMBL'].dropna().to_list()\n",
    "\n",
    "#len(ensmbl_mim_genes_list_nocoi)"
   ]
  },
  {
   "cell_type": "markdown",
   "id": "8e4c33c0",
   "metadata": {},
   "source": [
    "## P2 "
   ]
  },
  {
   "cell_type": "code",
   "execution_count": 30,
   "id": "398916b0",
   "metadata": {},
   "outputs": [
    {
     "name": "stdout",
     "output_type": "stream",
     "text": [
      "292\n",
      "3627\n"
     ]
    }
   ],
   "source": [
    "# Genes enriched with COI variants\n",
    "\n",
    "ea_coi_pgenes = pd.read_csv(f'{path_to_temp}/coi_pgenes_ea_flt.csv', sep='\\t')\n",
    "ea_coi_pgenes_list = list(ea_coi_pgenes['gene'].unique())\n",
    "\n",
    "print(len(ea_coi_pgenes_list))\n",
    "# Control - pgenes with at least one COI record\n",
    "# genes  with COI  and with at least one P\n",
    "\n",
    "coi_pgenes_list = vep[vep['CLNSIG_MASK'] == 'COI']['SYMBOL'].unique()\n",
    "\n",
    "coi_pgenes_list = [x for x in coi_pgenes_list if x in pathogenic_genes_list]\n",
    "coi_pgenes_list = [x for x in coi_pgenes_list if str(x) != 'nan']\n",
    "print(len(coi_pgenes_list))"
   ]
  },
  {
   "cell_type": "code",
   "execution_count": 31,
   "id": "acface1d",
   "metadata": {},
   "outputs": [
    {
     "name": "stdout",
     "output_type": "stream",
     "text": [
      "290\n",
      "3627\n"
     ]
    }
   ],
   "source": [
    "# ENSEMBL\n",
    "\n",
    "# enriched\n",
    "ensmbl_ea_coi_pgenes_list = pd.merge(pd.DataFrame(ea_coi_pgenes_list, columns=['SYMBOL']),\n",
    "                                 ensembl_ids, on=['SYMBOL'], how='inner')\n",
    "\n",
    "ensmbl_ea_coi_pgenes_list = ensmbl_ea_coi_pgenes_list['SYMBOL'].to_list()\n",
    "\n",
    "print(len(ensmbl_ea_coi_pgenes_list))\n",
    "\n",
    "\n",
    "# genes  with COI  and with at least one P\n",
    "\n",
    "ensmbl_coi_pgenes_list = pd.merge(pd.DataFrame(coi_pgenes_list, columns=['SYMBOL']),\n",
    "                                 ensembl_ids, on=['SYMBOL'], how='inner')\n",
    "\n",
    "ensmbl_coi_pgenes_list = ensmbl_coi_pgenes_list['ENSEMBL'].dropna().to_list()\n",
    "\n",
    "print(len(coi_pgenes_list))"
   ]
  },
  {
   "cell_type": "markdown",
   "id": "4094525d",
   "metadata": {},
   "source": [
    "# Inheritance"
   ]
  },
  {
   "cell_type": "code",
   "execution_count": 25,
   "id": "33044e76",
   "metadata": {},
   "outputs": [],
   "source": [
    "# All genes\n",
    "# merge groups of genes and calculate inh by category \n",
    "\n",
    "coi_genes_inh = pd.DataFrame(coi_genes_list, columns=['SYMBOL']).merge(hpo_table, on=['SYMBOL'], how=\"left\")\n",
    "coi_genes_inh['FLAG'] = 'COI'\n",
    "\n",
    "nocoi_genes_inh = pd.DataFrame(nocoi_genes_list, columns=['SYMBOL']).merge(hpo_table, on=['SYMBOL'], how=\"left\")\n",
    "nocoi_genes_inh['FLAG'] = 'NO_COI'\n",
    "\n",
    "coi_ncoi_inh_all = pd.concat([coi_genes_inh, nocoi_genes_inh])"
   ]
  },
  {
   "cell_type": "code",
   "execution_count": 22,
   "id": "74cb9f93",
   "metadata": {},
   "outputs": [],
   "source": [
    "# Genes with at least one P\n",
    "# merge groups of genes and calculate inh by category \n",
    "\n",
    "#coi_pgenes_inh = pd.DataFrame(coi_pgenes_list, columns=['SYMBOL']).merge(hpo_table, on=['SYMBOL'], how=\"left\")\n",
    "#coi_pgenes_inh['FLAG'] = 'COI'\n",
    "\n",
    "#nocoi_pgenes_inh = pd.DataFrame(pathogenic_genes_list_nocoi, columns=['SYMBOL']).merge(hpo_table, on=['SYMBOL'], how=\"left\")\n",
    "#nocoi_pgenes_inh['FLAG'] = 'NO_COI'\n",
    "\n",
    "#coi_ncoi_inh_pgenes = pd.concat([coi_pgenes_inh, nocoi_pgenes_inh])"
   ]
  },
  {
   "cell_type": "code",
   "execution_count": 32,
   "id": "70a66457",
   "metadata": {},
   "outputs": [
    {
     "data": {
      "text/html": [
       "<div>\n",
       "<style scoped>\n",
       "    .dataframe tbody tr th:only-of-type {\n",
       "        vertical-align: middle;\n",
       "    }\n",
       "\n",
       "    .dataframe tbody tr th {\n",
       "        vertical-align: top;\n",
       "    }\n",
       "\n",
       "    .dataframe thead th {\n",
       "        text-align: right;\n",
       "    }\n",
       "</style>\n",
       "<table border=\"1\" class=\"dataframe\">\n",
       "  <thead>\n",
       "    <tr style=\"text-align: right;\">\n",
       "      <th></th>\n",
       "      <th>SYMBOL</th>\n",
       "      <th>OMIM</th>\n",
       "      <th>INH</th>\n",
       "      <th>ENSEMBL</th>\n",
       "      <th>FLAG</th>\n",
       "    </tr>\n",
       "  </thead>\n",
       "  <tbody>\n",
       "    <tr>\n",
       "      <th>0</th>\n",
       "      <td>BRCA2</td>\n",
       "      <td>NaN</td>\n",
       "      <td>NaN</td>\n",
       "      <td>NaN</td>\n",
       "      <td>E_COI</td>\n",
       "    </tr>\n",
       "    <tr>\n",
       "      <th>1</th>\n",
       "      <td>TTN</td>\n",
       "      <td>OMIM:600334</td>\n",
       "      <td>AD</td>\n",
       "      <td>ENSG00000155657</td>\n",
       "      <td>E_COI</td>\n",
       "    </tr>\n",
       "    <tr>\n",
       "      <th>2</th>\n",
       "      <td>TTN</td>\n",
       "      <td>OMIM:603689</td>\n",
       "      <td>AD</td>\n",
       "      <td>ENSG00000155657</td>\n",
       "      <td>E_COI</td>\n",
       "    </tr>\n",
       "    <tr>\n",
       "      <th>3</th>\n",
       "      <td>TTN</td>\n",
       "      <td>OMIM:604145</td>\n",
       "      <td>AD</td>\n",
       "      <td>ENSG00000155657</td>\n",
       "      <td>E_COI</td>\n",
       "    </tr>\n",
       "    <tr>\n",
       "      <th>4</th>\n",
       "      <td>TTN</td>\n",
       "      <td>OMIM:608807</td>\n",
       "      <td>AR</td>\n",
       "      <td>ENSG00000155657</td>\n",
       "      <td>E_COI</td>\n",
       "    </tr>\n",
       "    <tr>\n",
       "      <th>...</th>\n",
       "      <td>...</td>\n",
       "      <td>...</td>\n",
       "      <td>...</td>\n",
       "      <td>...</td>\n",
       "      <td>...</td>\n",
       "    </tr>\n",
       "    <tr>\n",
       "      <th>5015</th>\n",
       "      <td>F8</td>\n",
       "      <td>OMIM:306700</td>\n",
       "      <td>XL</td>\n",
       "      <td>ENSG00000185010</td>\n",
       "      <td>COI</td>\n",
       "    </tr>\n",
       "    <tr>\n",
       "      <th>5016</th>\n",
       "      <td>RAB39B</td>\n",
       "      <td>OMIM:300271</td>\n",
       "      <td>XL</td>\n",
       "      <td>ENSG00000155961</td>\n",
       "      <td>COI</td>\n",
       "    </tr>\n",
       "    <tr>\n",
       "      <th>5017</th>\n",
       "      <td>RAB39B</td>\n",
       "      <td>OMIM:311510</td>\n",
       "      <td>XL</td>\n",
       "      <td>ENSG00000155961</td>\n",
       "      <td>COI</td>\n",
       "    </tr>\n",
       "    <tr>\n",
       "      <th>5018</th>\n",
       "      <td>TMLHE</td>\n",
       "      <td>OMIM:300872</td>\n",
       "      <td>XL</td>\n",
       "      <td>ENSG00000185973</td>\n",
       "      <td>COI</td>\n",
       "    </tr>\n",
       "    <tr>\n",
       "      <th>5019</th>\n",
       "      <td>.</td>\n",
       "      <td>NaN</td>\n",
       "      <td>NaN</td>\n",
       "      <td>NaN</td>\n",
       "      <td>COI</td>\n",
       "    </tr>\n",
       "  </tbody>\n",
       "</table>\n",
       "<p>5649 rows × 5 columns</p>\n",
       "</div>"
      ],
      "text/plain": [
       "      SYMBOL         OMIM  INH          ENSEMBL   FLAG\n",
       "0      BRCA2          NaN  NaN              NaN  E_COI\n",
       "1        TTN  OMIM:600334   AD  ENSG00000155657  E_COI\n",
       "2        TTN  OMIM:603689   AD  ENSG00000155657  E_COI\n",
       "3        TTN  OMIM:604145   AD  ENSG00000155657  E_COI\n",
       "4        TTN  OMIM:608807   AR  ENSG00000155657  E_COI\n",
       "...      ...          ...  ...              ...    ...\n",
       "5015      F8  OMIM:306700   XL  ENSG00000185010    COI\n",
       "5016  RAB39B  OMIM:300271   XL  ENSG00000155961    COI\n",
       "5017  RAB39B  OMIM:311510   XL  ENSG00000155961    COI\n",
       "5018   TMLHE  OMIM:300872   XL  ENSG00000185973    COI\n",
       "5019       .          NaN  NaN              NaN    COI\n",
       "\n",
       "[5649 rows x 5 columns]"
      ]
     },
     "execution_count": 32,
     "metadata": {},
     "output_type": "execute_result"
    }
   ],
   "source": [
    "# Genes enriched with COI\n",
    "# merge groups of genes and calculate inh by category\n",
    "\n",
    "ea_coi_pgenes_inh = pd.DataFrame(ea_coi_pgenes_list, columns=['SYMBOL']).merge(hpo_table, on=['SYMBOL'], how=\"left\")\n",
    "ea_coi_pgenes_inh['FLAG'] = 'E_COI'\n",
    "\n",
    "coi_pgenes_inh = pd.DataFrame(coi_pgenes_list, columns=['SYMBOL']).merge(hpo_table, on=['SYMBOL'], how=\"left\")\n",
    "coi_pgenes_inh['FLAG'] = 'COI'\n",
    "\n",
    "coi_inh_ea = pd.concat([ea_coi_pgenes_inh, coi_pgenes_inh])\n",
    "coi_inh_ea"
   ]
  },
  {
   "cell_type": "code",
   "execution_count": 27,
   "id": "7f81bbdb",
   "metadata": {},
   "outputs": [
    {
     "name": "stdout",
     "output_type": "stream",
     "text": [
      "`summarise()` has grouped output by 'FLAG'. You can override using the\n",
      "`.groups` argument.\n"
     ]
    },
    {
     "name": "stderr",
     "output_type": "stream",
     "text": [
      "/Users/tanya/anaconda3/lib/python3.11/site-packages/rpy2/robjects/pandas2ri.py:56: UserWarning: DataFrame contains duplicated elements in the index, which will lead to loss of the row names in the resulting data.frame\n",
      "  warnings.warn('DataFrame contains duplicated elements in the index, '\n"
     ]
    },
    {
     "name": "stdout",
     "output_type": "stream",
     "text": [
      "# A tibble: 9 × 4\n",
      "# Groups:   FLAG [2]\n",
      "  FLAG   INH   count    prop\n",
      "  <chr>  <chr> <int>   <dbl>\n",
      "1 COI    AD     1775 0.382  \n",
      "2 COI    ADAR    158 0.0340 \n",
      "3 COI    AR     2434 0.524  \n",
      "4 COI    XL      282 0.0607 \n",
      "5 NO_COI AD      213 0.359  \n",
      "6 NO_COI ADAR      8 0.0135 \n",
      "7 NO_COI AR      343 0.578  \n",
      "8 NO_COI XL       25 0.0422 \n",
      "9 NO_COI YL        4 0.00675\n"
     ]
    }
   ],
   "source": [
    "%%R -i coi_ncoi_inh_all\n",
    "#%%R -i coi_inh_ea\n",
    "#%%R -i coi_ncoi_inh_pgenes\n",
    "\n",
    "\n",
    "\n",
    "coi_inh_stat <- na.omit(coi_ncoi_inh_all)  %>%\n",
    "#coi_inh_stat <- na.omit(coi_ncoi_inh_pgenes)  %>%\n",
    "#coi_inh_stat <- na.omit(coi_inh_ea)  %>%\n",
    "  group_by(FLAG, INH) %>%\n",
    "  summarise(count = n() ) %>%\n",
    "  mutate( prop = count / sum(count))\n",
    "\n",
    "coi_inh_stat"
   ]
  },
  {
   "cell_type": "code",
   "execution_count": 28,
   "id": "d8c1d442",
   "metadata": {},
   "outputs": [],
   "source": [
    "%%R\n",
    "\n",
    "write.table(coi_inh_stat, './plots/pgenes_ea_inh.csv', sep=',', quote=FALSE)"
   ]
  },
  {
   "cell_type": "code",
   "execution_count": null,
   "id": "dc782017",
   "metadata": {},
   "outputs": [],
   "source": [
    "%%R\n",
    "\n",
    "#  all\n",
    "coi_ncoi_all <- data.frame(INH=c(rep(\"AD\",2018),rep(\"ADAR\",168),rep(\"AR\",2802), rep(\"XL\",311), rep(\"YL\",4)), \n",
    "                  \n",
    "                  FLAG=c(rep('NO_COI',217), rep('COI',1801), rep('NO_COI',8), rep('COI',160),\n",
    "                        rep('NO_COI',344), rep('COI',2458), rep('NO_COI',25), rep('COI',286), \n",
    "                        rep('NO_COI',4), rep('COI',0)))\n",
    "\n",
    "table(coi_ncoi_all)\n",
    "chisq.test(coi_ncoi_all$FLAG, coi_ncoi_all$INH)"
   ]
  },
  {
   "cell_type": "code",
   "execution_count": null,
   "id": "c9ed312e",
   "metadata": {},
   "outputs": [],
   "source": [
    "%%R\n",
    "\n",
    "# coi_ncoi pgenes\n",
    "#coi_ncoi_p_flt <- data.frame(INH=c(rep(\"AD\",1954),rep(\"ADAR\",165),rep(\"AR\",2772), rep(\"XL\",310), rep(\"YL\",2)), \n",
    "                  \n",
    "#                  FLAG=c(rep('NO_COI',153), rep('COI',1801), rep('NO_COI',5), rep('COI',160),\n",
    "#                        rep('NO_COI',314), rep('COI',2458), rep('NO_COI',24), rep('COI',286), \n",
    "#                        rep('NO_COI',2), rep('COI',0)))\n",
    "\n",
    "#table(coi_ncoi_p_flt)\n",
    "#chisq.test(coi_ncoi_p_flt$FLAG, coi_ncoi_p_flt$INH)"
   ]
  },
  {
   "cell_type": "code",
   "execution_count": 57,
   "id": "84f5ff43",
   "metadata": {},
   "outputs": [
    {
     "name": "stdout",
     "output_type": "stream",
     "text": [
      "\n",
      "\tPearson's Chi-squared test\n",
      "\n",
      "data:  coi_ea$FLAG and coi_ea$INH\n",
      "X-squared = 59.039, df = 3, p-value = 9.429e-13\n",
      "\n"
     ]
    }
   ],
   "source": [
    "%%R\n",
    "\n",
    "# ea\n",
    "\n",
    "coi_ea <- data.frame(INH=c(rep(\"AD\",2016),rep(\"ADAR\",181),rep(\"AR\",2635), rep(\"XL\",306)), \n",
    "                  \n",
    "                  FLAG=c(rep('COI',1702), rep('E_COI',314), rep('COI',152), rep('E_COI',29),\n",
    "                        rep('COI',2405), rep('E_COI',230), rep('COI',281), rep('E_COI',25)))\n",
    "\n",
    "table(coi_ea)\n",
    "chisq.test(coi_ea$FLAG, coi_ea$INH)"
   ]
  },
  {
   "cell_type": "code",
   "execution_count": 25,
   "id": "991eca66",
   "metadata": {},
   "outputs": [
    {
     "data": {
      "image/png": "[encoded data removed]",
      "text/plain": [
       "<IPython.core.display.Image object>"
      ]
     },
     "metadata": {},
     "output_type": "display_data"
    }
   ],
   "source": [
    "%%R\n",
    "\n",
    "coi_inh_stat$INH <- factor(coi_inh_stat$INH, levels= c(\"AD\", \"ADAR\", \"AR\", \"XL\", \"YL\"))\n",
    "\n",
    "coi_inh_plt <- ggplot(coi_inh_stat, aes(x=FLAG, y=prop, fill=forcats::fct_rev(INH))) + \n",
    "  geom_bar(stat='identity') +theme_void() +\n",
    "  theme(legend.position = \"bottom\", \n",
    "        axis.text=element_text(size=12),\n",
    "        axis.title=element_text(size=12)) + ylab('') +\n",
    "  xlab(\"\")  + scale_x_discrete(limits=rev) + scale_y_continuous(labels = percent_format()) +\n",
    "  scale_fill_manual(values = c( \"#cccccc\", # for ea\n",
    "                               \"#F1E3D3\",\"#8CAFA1\", \"#E07A50\", \"#5e7692\"))\n",
    "\n",
    "coi_inh_plt <- coi_inh_plt + theme(aspect.ratio = 1/2)  + coord_flip() +\n",
    "guides(fill=guide_legend(title=NULL, nrow=1, byrow=TRUE, reverse=TRUE, label.theme = element_text(size=14)))\n",
    "coi_inh_plt\n",
    "\n",
    "#ggsave(\"./plots/coi_ncoi_inh_all.png\")\n",
    "#ggsave(\"./plots/coi_ncoi_inh_pgenes.png\")\n",
    "#ggsave(\"./plots/ecoi_coi_inh_pgenes.png\")"
   ]
  },
  {
   "cell_type": "markdown",
   "id": "86f0a36b",
   "metadata": {},
   "source": [
    "# Number of diseases"
   ]
  },
  {
   "cell_type": "code",
   "execution_count": 35,
   "id": "7000fdb4",
   "metadata": {},
   "outputs": [
    {
     "data": {
      "text/html": [
       "<div>\n",
       "<style scoped>\n",
       "    .dataframe tbody tr th:only-of-type {\n",
       "        vertical-align: middle;\n",
       "    }\n",
       "\n",
       "    .dataframe tbody tr th {\n",
       "        vertical-align: top;\n",
       "    }\n",
       "\n",
       "    .dataframe thead th {\n",
       "        text-align: right;\n",
       "    }\n",
       "</style>\n",
       "<table border=\"1\" class=\"dataframe\">\n",
       "  <thead>\n",
       "    <tr style=\"text-align: right;\">\n",
       "      <th></th>\n",
       "      <th>SYMBOL</th>\n",
       "      <th>N_DIS</th>\n",
       "    </tr>\n",
       "  </thead>\n",
       "  <tbody>\n",
       "    <tr>\n",
       "      <th>0</th>\n",
       "      <td>A4GALT</td>\n",
       "      <td>1</td>\n",
       "    </tr>\n",
       "    <tr>\n",
       "      <th>1</th>\n",
       "      <td>AAAS</td>\n",
       "      <td>1</td>\n",
       "    </tr>\n",
       "    <tr>\n",
       "      <th>2</th>\n",
       "      <td>AAGAB</td>\n",
       "      <td>1</td>\n",
       "    </tr>\n",
       "    <tr>\n",
       "      <th>3</th>\n",
       "      <td>AARS1</td>\n",
       "      <td>3</td>\n",
       "    </tr>\n",
       "    <tr>\n",
       "      <th>4</th>\n",
       "      <td>AARS2</td>\n",
       "      <td>2</td>\n",
       "    </tr>\n",
       "    <tr>\n",
       "      <th>...</th>\n",
       "      <td>...</td>\n",
       "      <td>...</td>\n",
       "    </tr>\n",
       "    <tr>\n",
       "      <th>3899</th>\n",
       "      <td>ZP1</td>\n",
       "      <td>1</td>\n",
       "    </tr>\n",
       "    <tr>\n",
       "      <th>3900</th>\n",
       "      <td>ZP2</td>\n",
       "      <td>1</td>\n",
       "    </tr>\n",
       "    <tr>\n",
       "      <th>3901</th>\n",
       "      <td>ZP3</td>\n",
       "      <td>1</td>\n",
       "    </tr>\n",
       "    <tr>\n",
       "      <th>3902</th>\n",
       "      <td>ZSWIM6</td>\n",
       "      <td>2</td>\n",
       "    </tr>\n",
       "    <tr>\n",
       "      <th>3903</th>\n",
       "      <td>ZSWIM7</td>\n",
       "      <td>1</td>\n",
       "    </tr>\n",
       "  </tbody>\n",
       "</table>\n",
       "<p>3904 rows × 2 columns</p>\n",
       "</div>"
      ],
      "text/plain": [
       "      SYMBOL  N_DIS\n",
       "0     A4GALT      1\n",
       "1       AAAS      1\n",
       "2      AAGAB      1\n",
       "3      AARS1      3\n",
       "4      AARS2      2\n",
       "...      ...    ...\n",
       "3899     ZP1      1\n",
       "3900     ZP2      1\n",
       "3901     ZP3      1\n",
       "3902  ZSWIM6      2\n",
       "3903  ZSWIM7      1\n",
       "\n",
       "[3904 rows x 2 columns]"
      ]
     },
     "execution_count": 35,
     "metadata": {},
     "output_type": "execute_result"
    }
   ],
   "source": [
    "n_dis = hpo_table[['SYMBOL', 'OMIM']].groupby('SYMBOL').size().to_frame(name='N_DIS').reset_index()\n",
    "n_dis"
   ]
  },
  {
   "cell_type": "code",
   "execution_count": null,
   "id": "afd2391b",
   "metadata": {},
   "outputs": [],
   "source": [
    "# All genes\n",
    "# merge groups of genes and calculate number of associated diseases by category \n",
    "\n",
    "coi_genes_ndis = pd.DataFrame(coi_genes_list, columns=['SYMBOL']).merge(n_dis, on=['SYMBOL'], how=\"left\")\n",
    "coi_genes_ndis['FLAG'] = 'COI'\n",
    "\n",
    "nocoi_genes_ndis = pd.DataFrame(nocoi_genes_list, columns=['SYMBOL']).merge(n_dis, on=['SYMBOL'], how=\"left\")\n",
    "nocoi_genes_ndis['FLAG'] = 'NO_COI'\n",
    "\n",
    "coi_ncoi_ndis_all = pd.concat([coi_genes_ndis, nocoi_genes_ndis])"
   ]
  },
  {
   "cell_type": "code",
   "execution_count": 41,
   "id": "a3dce9d9",
   "metadata": {},
   "outputs": [],
   "source": [
    "# Genes with at least one P (pgenes)\n",
    "# merge groups of genes and calculate number of associated diseases by category \n",
    "\n",
    "coi_pgenes_ndis = pd.DataFrame(coi_pgenes_list, columns=['SYMBOL']).merge(n_dis, on=['SYMBOL'], how=\"left\")\n",
    "coi_pgenes_ndis['FLAG'] = 'COI'\n",
    "\n",
    "nocoi_pgenes_ndis = pd.DataFrame(pathogenic_genes_list_nocoi, columns=['SYMBOL']).merge(n_dis, on=['SYMBOL'], how=\"left\")\n",
    "nocoi_pgenes_ndis['FLAG'] = 'NO_COI'\n",
    "\n",
    "coi_ncoi_ndis_pgenes = pd.concat([coi_pgenes_ndis, nocoi_pgenes_ndis])"
   ]
  },
  {
   "cell_type": "code",
   "execution_count": 44,
   "id": "6a57cacd",
   "metadata": {},
   "outputs": [],
   "source": [
    "# Genes enriched with COI\n",
    "# merge groups of genes and calculate inh by category\n",
    "\n",
    "ea_coi_pgenes_ndis = pd.DataFrame(ea_coi_pgenes_list, columns=['SYMBOL']).merge(n_dis, on=['SYMBOL'], how=\"left\")\n",
    "ea_coi_pgenes_ndis['FLAG'] = 'E_COI'\n",
    "\n",
    "coi_pgenes_ndis = pd.DataFrame(coi_pgenes_list, columns=['SYMBOL']).merge(n_dis, on=['SYMBOL'], how=\"left\")\n",
    "coi_pgenes_ndis['FLAG'] = 'COI'\n",
    "\n",
    "coi_ncoi_ndis_ea = pd.concat([ea_coi_pgenes_ndis, coi_pgenes_ndis])"
   ]
  },
  {
   "cell_type": "code",
   "execution_count": 45,
   "id": "9896c533",
   "metadata": {},
   "outputs": [
    {
     "name": "stdout",
     "output_type": "stream",
     "text": [
      "`summarise()` has grouped output by 'FLAG'. You can override using the\n",
      "`.groups` argument.\n",
      "# A tibble: 22 × 4\n",
      "# Groups:   FLAG [2]\n",
      "   FLAG  N_DIS count     prop\n",
      "   <chr> <dbl> <int>    <dbl>\n",
      " 1 COI       1  2267 0.625   \n",
      " 2 COI       2   580 0.160   \n",
      " 3 COI       3   189 0.0521  \n",
      " 4 COI       4    64 0.0176  \n",
      " 5 COI       5    25 0.00689 \n",
      " 6 COI       6    11 0.00303 \n",
      " 7 COI       7     7 0.00193 \n",
      " 8 COI       8     4 0.00110 \n",
      " 9 COI       9     1 0.000276\n",
      "10 COI      11     1 0.000276\n",
      "# ℹ 12 more rows\n",
      "# ℹ Use `print(n = ...)` to see more rows\n"
     ]
    },
    {
     "name": "stderr",
     "output_type": "stream",
     "text": [
      "/Users/tanya/anaconda3/lib/python3.11/site-packages/rpy2/robjects/pandas2ri.py:56: UserWarning: DataFrame contains duplicated elements in the index, which will lead to loss of the row names in the resulting data.frame\n",
      "  warnings.warn('DataFrame contains duplicated elements in the index, '\n"
     ]
    }
   ],
   "source": [
    "%%R -i coi_ncoi_ndis_ea\n",
    "#%%R -i coi_ncoi_ndis_pgenes\n",
    "\n",
    "#%%R -i coi_ncoi_ndis_all\n",
    "\n",
    "\n",
    "\n",
    "\n",
    "#coi_ncoi_ndis_stat <- coi_ncoi_ndis_all  %>%\n",
    "#coi_ncoi_ndis_stat <- coi_ncoi_ndis_pgenes  %>%\n",
    "coi_ncoi_ndis_stat <- coi_ncoi_ndis_ea  %>%\n",
    "  group_by(FLAG, N_DIS) %>%\n",
    "  summarise(count = n() ) %>%\n",
    "  mutate( prop = count / sum(count))\n",
    "\n",
    "coi_ncoi_ndis_stat"
   ]
  },
  {
   "cell_type": "code",
   "execution_count": 47,
   "id": "ec3a9809",
   "metadata": {},
   "outputs": [],
   "source": [
    "%%R\n",
    "write.table(coi_ncoi_ndis_stat, './plots/coi_ncoi_ndis_ea.csv', sep=',', quote=FALSE)"
   ]
  },
  {
   "cell_type": "code",
   "execution_count": 66,
   "id": "48c4c847",
   "metadata": {},
   "outputs": [
    {
     "name": "stdout",
     "output_type": "stream",
     "text": [
      "\n",
      "\tWilcoxon rank sum test with continuity correction\n",
      "\n",
      "data:  coi_ncoi_ndis_ea$N_DIS[coi_ncoi_ndis_ea$FLAG == \"COI\"] and coi_ncoi_ndis_ea$N_DIS[coi_ncoi_ndis_ea$FLAG == \"Enr_COI\"]\n",
      "W = 266178, p-value < 2.2e-16\n",
      "alternative hypothesis: true location shift is not equal to 0\n",
      "\n"
     ]
    }
   ],
   "source": [
    "%%R\n",
    "\n",
    "# All genes\n",
    "#wilcox.test(coi_ncoi_ndis_all$N_DIS[coi_ncoi_ndis_all$FLAG == 'NO_COI'], coi_ncoi_ndis_all$N_DIS[coi_ncoi_ndis_all$FLAG == 'COI'])\n",
    "\n",
    "# P genes\n",
    "#wilcox.test(coi_ncoi_ndis_pgenes$N_DIS[coi_ncoi_ndis_pgenes$FLAG == 'NO_COI'], coi_ncoi_ndis_pgenes$N_DIS[coi_ncoi_ndis_pgenes$FLAG == 'COI'])\n",
    "\n",
    "# COI enriched P genes\n",
    "wilcox.test(coi_ncoi_ndis_ea$N_DIS[coi_ncoi_ndis_ea$FLAG == 'COI'], coi_ncoi_ndis_ea$N_DIS[coi_ncoi_ndis_ea$FLAG == 'Enr_COI'])"
   ]
  },
  {
   "cell_type": "code",
   "execution_count": 39,
   "id": "2776c90b",
   "metadata": {},
   "outputs": [
    {
     "name": "stderr",
     "output_type": "stream",
     "text": [
      "R[write to console]: In addition: \n",
      "R[write to console]: Warning message:\n",
      "\n",
      "R[write to console]: Removed 2 rows containing missing values or values outside the scale range\n",
      "(`geom_bar()`). \n",
      "\n"
     ]
    },
    {
     "data": {
      "image/png": "[encoded data removed]",
      "text/plain": [
       "<IPython.core.display.Image object>"
      ]
     },
     "metadata": {},
     "output_type": "display_data"
    }
   ],
   "source": [
    "%%R\n",
    "\n",
    "n_genes <- ggplot(coi_ncoi_ndis_stat, aes(x=N_DIS, y=count, fill=FLAG)) + \n",
    "  geom_bar(stat='identity', linewidth=0.25, color='black') +\n",
    "  xlab('Number of diseases') + ylab('Number of genes')  + scale_fill_manual(values=c(\"#3B75E9\",\"#F32737\"))\n",
    "#+ scale_fill_manual(values=c(\"#833B49\", \"#256C68\")) \n",
    "\n",
    "\n",
    "n_genes <- n_genes + \n",
    "  theme(axis.text=element_text(size=12, color='black'), \n",
    "        axis.title= element_text(size=14, color='black'), text=element_text(family='Helvetica'),\n",
    "        axis.title.y = element_text(angle=90))\n",
    "\n",
    "n_genes <- n_genes + \n",
    "  theme(axis.text=element_text(size=12, color='black'), \n",
    "        axis.title= element_text(size=14, color='black'),\n",
    "        text=element_text(family='Helvetica'), \n",
    "        plot.margin = margin(0.5,1,0.5,1,\"cm\")) \n",
    "n_genes <- n_genes + facet_wrap(~FLAG,nrow=2) + theme_bw()  + theme(legend.position=\"none\")\n",
    "n_genes\n",
    "\n",
    "#ggsave(\"./plots/coi_ncoi_ndis_all.png\")\n",
    "#ggsave(\"coi_ncoi_ndis_pgenes.png\")\n",
    "#ggsave(\"ecoi_coi_ndis_pgenes.png\")"
   ]
  },
  {
   "cell_type": "markdown",
   "id": "786df49a",
   "metadata": {},
   "source": [
    "# Constraint Metrics"
   ]
  },
  {
   "cell_type": "code",
   "execution_count": null,
   "id": "416f3b46",
   "metadata": {},
   "outputs": [],
   "source": [
    "! wget https://storage.googleapis.com/gcp-public-data--gnomad/release/2.1.1/constraint/gnomad.v2.1.1.lof_metrics.by_gene.txt.bgz\n",
    "    \n",
    "! gunzip -c  gnomad.v2.1.1.lof_metrics.by_gene.txt.bgz  | cut -f1,21,30,36 > ./data/gnomad.v2.1.1.pli_loeuf.txt"
   ]
  },
  {
   "cell_type": "code",
   "execution_count": 83,
   "id": "8909fbf5",
   "metadata": {},
   "outputs": [
    {
     "data": {
      "text/html": [
       "<div>\n",
       "<style scoped>\n",
       "    .dataframe tbody tr th:only-of-type {\n",
       "        vertical-align: middle;\n",
       "    }\n",
       "\n",
       "    .dataframe tbody tr th {\n",
       "        vertical-align: top;\n",
       "    }\n",
       "\n",
       "    .dataframe thead th {\n",
       "        text-align: right;\n",
       "    }\n",
       "</style>\n",
       "<table border=\"1\" class=\"dataframe\">\n",
       "  <thead>\n",
       "    <tr style=\"text-align: right;\">\n",
       "      <th></th>\n",
       "      <th>SYMBOL</th>\n",
       "      <th>pLI</th>\n",
       "      <th>oe_lof_upper</th>\n",
       "      <th>oe_lof_upper_bin</th>\n",
       "    </tr>\n",
       "  </thead>\n",
       "  <tbody>\n",
       "    <tr>\n",
       "      <th>0</th>\n",
       "      <td>MED13</td>\n",
       "      <td>1.0</td>\n",
       "      <td>0.030</td>\n",
       "      <td>0.0</td>\n",
       "    </tr>\n",
       "    <tr>\n",
       "      <th>1</th>\n",
       "      <td>NIPBL</td>\n",
       "      <td>1.0</td>\n",
       "      <td>0.032</td>\n",
       "      <td>0.0</td>\n",
       "    </tr>\n",
       "  </tbody>\n",
       "</table>\n",
       "</div>"
      ],
      "text/plain": [
       "  SYMBOL  pLI  oe_lof_upper  oe_lof_upper_bin\n",
       "0  MED13  1.0         0.030               0.0\n",
       "1  NIPBL  1.0         0.032               0.0"
      ]
     },
     "execution_count": 83,
     "metadata": {},
     "output_type": "execute_result"
    }
   ],
   "source": [
    "# pLI & loeuf data from gnomAD\n",
    "\n",
    "gnomad = pd.read_csv('./data/features/gnomad.v2.1.1.pli_loeuf.txt', sep='\\t')\n",
    "gnomad.columns = ['SYMBOL', 'pLI', 'oe_lof_upper', 'oe_lof_upper_bin']\n",
    "gnomad.head(2)"
   ]
  },
  {
   "cell_type": "code",
   "execution_count": 84,
   "id": "91e72687",
   "metadata": {},
   "outputs": [
    {
     "ename": "NameError",
     "evalue": "name 'coi_genes_list' is not defined",
     "output_type": "error",
     "traceback": [
      "\u001b[0;31m---------------------------------------------------------------------------\u001b[0m",
      "\u001b[0;31mNameError\u001b[0m                                 Traceback (most recent call last)",
      "Cell \u001b[0;32mIn[84], line 4\u001b[0m\n\u001b[1;32m      1\u001b[0m \u001b[38;5;66;03m# All genes\u001b[39;00m\n\u001b[1;32m      2\u001b[0m \u001b[38;5;66;03m# merge groups of genes and calculate inh by category \u001b[39;00m\n\u001b[0;32m----> 4\u001b[0m coi_genes_cstr \u001b[38;5;241m=\u001b[39m pd\u001b[38;5;241m.\u001b[39mDataFrame(coi_genes_list, columns\u001b[38;5;241m=\u001b[39m[\u001b[38;5;124m'\u001b[39m\u001b[38;5;124mSYMBOL\u001b[39m\u001b[38;5;124m'\u001b[39m])\u001b[38;5;241m.\u001b[39mmerge(gnomad, on\u001b[38;5;241m=\u001b[39m[\u001b[38;5;124m'\u001b[39m\u001b[38;5;124mSYMBOL\u001b[39m\u001b[38;5;124m'\u001b[39m], how\u001b[38;5;241m=\u001b[39m\u001b[38;5;124m\"\u001b[39m\u001b[38;5;124mleft\u001b[39m\u001b[38;5;124m\"\u001b[39m)\n\u001b[1;32m      5\u001b[0m coi_genes_cstr[\u001b[38;5;124m'\u001b[39m\u001b[38;5;124mFLAG\u001b[39m\u001b[38;5;124m'\u001b[39m] \u001b[38;5;241m=\u001b[39m \u001b[38;5;124m'\u001b[39m\u001b[38;5;124mCOI\u001b[39m\u001b[38;5;124m'\u001b[39m\n\u001b[1;32m      7\u001b[0m nocoi_genes_cstr \u001b[38;5;241m=\u001b[39m pd\u001b[38;5;241m.\u001b[39mDataFrame(nocoi_genes_list, columns\u001b[38;5;241m=\u001b[39m[\u001b[38;5;124m'\u001b[39m\u001b[38;5;124mSYMBOL\u001b[39m\u001b[38;5;124m'\u001b[39m])\u001b[38;5;241m.\u001b[39mmerge(gnomad, on\u001b[38;5;241m=\u001b[39m[\u001b[38;5;124m'\u001b[39m\u001b[38;5;124mSYMBOL\u001b[39m\u001b[38;5;124m'\u001b[39m], how\u001b[38;5;241m=\u001b[39m\u001b[38;5;124m\"\u001b[39m\u001b[38;5;124mleft\u001b[39m\u001b[38;5;124m\"\u001b[39m)\n",
      "\u001b[0;31mNameError\u001b[0m: name 'coi_genes_list' is not defined"
     ]
    }
   ],
   "source": [
    "# All genes\n",
    "# merge groups of genes and calculate inh by category \n",
    "\n",
    "coi_genes_cstr = pd.DataFrame(coi_genes_list, columns=['SYMBOL']).merge(gnomad, on=['SYMBOL'], how=\"left\")\n",
    "coi_genes_cstr['FLAG'] = 'COI'\n",
    "\n",
    "nocoi_genes_cstr = pd.DataFrame(nocoi_genes_list, columns=['SYMBOL']).merge(gnomad, on=['SYMBOL'], how=\"left\")\n",
    "nocoi_genes_cstr['FLAG'] = 'NO_COI'\n",
    "\n",
    "coi_ncoi_cstr_all = pd.concat([coi_genes_cstr, nocoi_genes_cstr])\n"
   ]
  },
  {
   "cell_type": "code",
   "execution_count": 96,
   "id": "0e17a234",
   "metadata": {},
   "outputs": [],
   "source": [
    "# P genes\n",
    "\n",
    "coi_pgenes_cstr = pd.DataFrame(coi_pgenes_list, columns=['SYMBOL']).merge(gnomad, on=['SYMBOL'], how=\"left\")\n",
    "coi_pgenes_cstr['FLAG'] = 'COI'\n",
    "\n",
    "nocoi_pgenes_cstr = pd.DataFrame(pathogenic_genes_list_nocoi, columns=['SYMBOL']).merge(gnomad, on=['SYMBOL'], how=\"left\")\n",
    "nocoi_pgenes_cstr['FLAG'] = 'NO_COI'\n",
    "\n",
    "coi_ncoi_cstr_pgenes = pd.concat([coi_pgenes_cstr,nocoi_pgenes_cstr])"
   ]
  },
  {
   "cell_type": "code",
   "execution_count": 89,
   "id": "5bb5301d",
   "metadata": {},
   "outputs": [],
   "source": [
    "# COI enriched genes\n",
    "\n",
    "ea_coi_pgenes_cstr = pd.DataFrame(ea_coi_pgenes_list, columns=['SYMBOL']).merge(gnomad, on=['SYMBOL'], how=\"left\")\n",
    "ea_coi_pgenes_cstr['FLAG'] = 'E_COI'\n",
    "\n",
    "coi_pgenes_cstr = pd.DataFrame(coi_pgenes_list, columns=['SYMBOL']).merge(gnomad, on=['SYMBOL'], how=\"left\")\n",
    "coi_pgenes_cstr['FLAG'] = 'COI'\n",
    "\n",
    "coi_coi_cstr_ea = pd.concat([ea_coi_pgenes_cstr, coi_pgenes_cstr])"
   ]
  },
  {
   "cell_type": "markdown",
   "id": "71032430",
   "metadata": {},
   "source": [
    "###  pLI"
   ]
  },
  {
   "cell_type": "code",
   "execution_count": 87,
   "id": "32969b92",
   "metadata": {},
   "outputs": [
    {
     "name": "stdout",
     "output_type": "stream",
     "text": [
      "`summarise()` has grouped output by 'FLAG'. You can override using the\n",
      "`.groups` argument.\n",
      "# A tibble: 6 × 4\n",
      "# Groups:   FLAG [2]\n",
      "  FLAG    class                       count  prop\n",
      "  <chr>   <chr>                       <int> <dbl>\n",
      "1 COI     intermediate tolerance        448 0.129\n",
      "2 COI     pLOF intolerant (pLI >=0.9)   879 0.252\n",
      "3 COI     pLOF tolerant (pLI <=0.1)    2155 0.619\n",
      "4 Enr_COI intermediate tolerance         31 0.108\n",
      "5 Enr_COI pLOF intolerant (pLI >=0.9)    70 0.245\n",
      "6 Enr_COI pLOF tolerant (pLI <=0.1)     185 0.647\n"
     ]
    },
    {
     "name": "stderr",
     "output_type": "stream",
     "text": [
      "/Users/tanya/anaconda3/lib/python3.11/site-packages/rpy2/robjects/pandas2ri.py:56: UserWarning: DataFrame contains duplicated elements in the index, which will lead to loss of the row names in the resulting data.frame\n",
      "  warnings.warn('DataFrame contains duplicated elements in the index, '\n"
     ]
    }
   ],
   "source": [
    "%%R -i coi_coi_cstr_ea\n",
    "#%%R -i coi_ncoi_cstr_pgenes\n",
    "#%%R -i coi_ncoi_cstr_all\n",
    "\n",
    "\n",
    "\n",
    "\n",
    "# classify pLI value \n",
    "\n",
    "#coi_ncoi_cstr_all$pLI <- as.character(coi_ncoi_cstr_all$pLI)\n",
    "#coi_ncoi_cstr_all$pLI <- as.numeric(coi_ncoi_cstr_all$pLI)\n",
    "\n",
    "#coi_ncoi_cstr_pgenes$pLI <- as.character(coi_ncoi_cstr_pgenes$pLI)\n",
    "#coi_ncoi_cstr_pgenes$pLI <- as.numeric(coi_ncoi_cstr_pgenes$pLI)\n",
    "\n",
    "coi_coi_cstr_ea$pLI <- as.character(coi_coi_cstr_ea$pLI)\n",
    "coi_coi_cstr_ea$pLI <- as.numeric(coi_coi_cstr_ea$pLI)\n",
    "\n",
    "#coi_ncoi_pli_stat <- coi_ncoi_cstr_all %>% \n",
    "#coi_ncoi_pli_stat <- coi_ncoi_cstr_pgenes %>%\n",
    "coi_ncoi_pli_stat <- coi_coi_cstr_ea %>%\n",
    "  mutate(class = case_when(\n",
    "    pLI <= 0.1 ~ 'pLOF tolerant (pLI <=0.1)',\n",
    "    pLI >= 0.9 ~ 'pLOF intolerant (pLI >=0.9)',\n",
    "    pLI > 0.1 & pLI < 0.9 ~ 'intermediate tolerance'))\n",
    "\n",
    "# count\n",
    "coi_ncoi_pli_stat <- na.omit(coi_ncoi_pli_stat) %>%\n",
    "  group_by(FLAG, class) %>%\n",
    "  summarize(count = n()) %>%\n",
    "  mutate(prop = (count/sum(count)))\n",
    "\n",
    "\n",
    "coi_ncoi_pli_stat"
   ]
  },
  {
   "cell_type": "code",
   "execution_count": null,
   "id": "41d70e2f",
   "metadata": {},
   "outputs": [],
   "source": [
    "%%R\n",
    "\n",
    "coi_ncoi_pli_all <- data.frame(pli=c(rep(\"InTol\",2924),rep(\"Tol\",11262)), \n",
    "                  \n",
    "                  FLAG=c(rep('NO_COI',285), rep('COI',1040), rep('NO_COI',8602), rep('COI',2660)))\n",
    "\n",
    "table(coi_ncoi_pli_all)\n",
    "chisq.test(coi_ncoi_pli_all $FLAG, coi_ncoi_pli_all $pli)"
   ]
  },
  {
   "cell_type": "code",
   "execution_count": null,
   "id": "ee9bddb3",
   "metadata": {},
   "outputs": [],
   "source": [
    "%%R\n",
    "\n",
    "coi_ncoi_pli_pgenes <- data.frame(pli=c(rep(\"InTol\",1261),rep(\"Tol\",3187)), \n",
    "                  \n",
    "                  FLAG=c(rep('NO_COI',221), rep('COI',1040), rep('NO_COI',527), rep('COI',2660)))\n",
    "\n",
    "table(coi_ncoi_pli_pgenes)\n",
    "chisq.test(coi_ncoi_pli_pgenes$FLAG, coi_ncoi_pli_pgenes$pli)"
   ]
  },
  {
   "cell_type": "code",
   "execution_count": 75,
   "id": "a7c92f99",
   "metadata": {},
   "outputs": [
    {
     "name": "stdout",
     "output_type": "stream",
     "text": [
      "\n",
      "\tPearson's Chi-squared test with Yates' continuity correction\n",
      "\n",
      "data:  coi_coi_cstr_ea$FLAG and coi_coi_cstr_ea$pli\n",
      "X-squared = 0.19608, df = 1, p-value = 0.6579\n",
      "\n"
     ]
    }
   ],
   "source": [
    "%%R\n",
    "\n",
    "coi_coi_cstr_ea <- data.frame(pli=c(rep(\"InTol\",949),rep(\"Tol\",2340)), \n",
    "                  \n",
    "                  FLAG=c(rep('COI',879), rep('E_COI',70), rep('COI',2155), rep('E_COI',185)))\n",
    "\n",
    "table(coi_coi_cstr_ea)\n",
    "chisq.test(coi_coi_cstr_ea$FLAG, coi_coi_cstr_ea$pli)"
   ]
  },
  {
   "cell_type": "code",
   "execution_count": 76,
   "id": "6369ba55",
   "metadata": {},
   "outputs": [
    {
     "data": {
      "image/png": "[encoded data removed]",
      "text/plain": [
       "<IPython.core.display.Image object>"
      ]
     },
     "metadata": {},
     "output_type": "display_data"
    }
   ],
   "source": [
    "%%R\n",
    "\n",
    "\n",
    "coi_ncoi_pli_stat$class <- factor(coi_ncoi_pli_stat$class, levels=c(\"pLOF intolerant (pLI >=0.9)\",\n",
    "                                                           \"intermediate tolerance\",\n",
    "                                                           \"pLOF tolerant (pLI <=0.1)\"))\n",
    "\n",
    "\n",
    "coi_ncoi_pli_plt <- ggplot(na.omit(coi_ncoi_pli_stat), aes(y=prop, x=FLAG, fill=class, label=count)) +\n",
    "    geom_bar(position=\"stack\", stat=\"identity\")+ theme_void() + theme(axis.text = element_text(size = 12),\n",
    "                       axis.title =  element_text(size=14),\n",
    "                       legend.text=element_text(size=14)) + \n",
    "    xlab('') +  ylab(NULL) + \n",
    "    scale_y_continuous(labels = percent_format())\n",
    "\n",
    "coi_ncoi_pli_plt <- coi_ncoi_pli_plt + guides(fill=guide_legend(title=NULL, nrow=3, byrow=TRUE)) + theme(legend.position=\"bottom\") +\n",
    "                            scale_fill_manual(values=c('#96281B','#fcf9f0','#4e5b8b'))+ geom_text(size = 4, position = position_stack(vjust = 0.5))\n",
    "coi_ncoi_pli_plt <- coi_ncoi_pli_plt + theme(aspect.ratio = 1/2)  + coord_flip() \n",
    "coi_ncoi_pli_plt\n",
    "\n",
    "#ggsave(\"./plots/coi_ncoi_pli_all.png\")\n",
    "#ggsave(\"./plots/coi_ncoi_pli_pgenes.png\")\n",
    "#ggsave(\"./plots/coi_coi_pli_ea.png\")"
   ]
  },
  {
   "cell_type": "markdown",
   "id": "b566d35e",
   "metadata": {},
   "source": [
    "### LOEUF "
   ]
  },
  {
   "cell_type": "code",
   "execution_count": 98,
   "id": "c4b316bb",
   "metadata": {},
   "outputs": [
    {
     "name": "stdout",
     "output_type": "stream",
     "text": [
      "`summarise()` has grouped output by 'FLAG'. You can override using the\n",
      "`.groups` argument.\n"
     ]
    }
   ],
   "source": [
    "%%R -i coi_coi_cstr_ea\n",
    "#%%R -i coi_ncoi_cstr_pgenes\n",
    "\n",
    "\n",
    "#%%R -i coi_ncoi_cstr_all\n",
    "\n",
    "\n",
    "# count\n",
    "#coi_ncoi_loeuf_dec <- na.omit(coi_ncoi_cstr_all)%>%\n",
    "#coi_ncoi_loeuf_dec <- na.omit(coi_ncoi_cstr_pgenes)%>%\n",
    "coi_ncoi_loeuf_dec <- na.omit(coi_coi_cstr_ea)%>%\n",
    "  group_by(FLAG, oe_lof_upper_bin) %>%\n",
    "  summarize(count = n()) %>%\n",
    "  mutate(prop = (count/sum(count)))\n",
    "\n",
    "coi_ncoi_loeuf_dec\n",
    "\n",
    "write.table(coi_ncoi_loeuf_dec, './plots/coi_ncoi_loeuf_ea.csv', sep=',', quote=FALSE)"
   ]
  },
  {
   "cell_type": "code",
   "execution_count": 78,
   "id": "cb757eb5",
   "metadata": {},
   "outputs": [
    {
     "name": "stdout",
     "output_type": "stream",
     "text": [
      "\n",
      "\tWilcoxon rank sum test with continuity correction\n",
      "\n",
      "data:  coi_coi_cstr_ea$oe_lof_upper_bin[coi_coi_cstr_ea$FLAG == \"COI\"] and coi_coi_cstr_ea$oe_lof_upper_bin[coi_coi_cstr_ea$FLAG == \"Enr_COI\"]\n",
      "W = 500221, p-value = 0.896\n",
      "alternative hypothesis: true location shift is not equal to 0\n",
      "\n"
     ]
    }
   ],
   "source": [
    "%%R\n",
    "\n",
    "# All\n",
    "#wilcox.test(coi_ncoi_cstr_all$oe_lof_upper_bin[coi_ncoi_cstr_all$FLAG == 'NO_COI'], coi_ncoi_cstr_all$oe_lof_upper_bin[coi_ncoi_cstr_all$FLAG == 'COI'])\n",
    "\n",
    "# P genes\n",
    "#wilcox.test(coi_ncoi_cstr_pgenes$oe_lof_upper_bin[coi_ncoi_cstr_pgenes$FLAG == 'NO_COI'], coi_ncoi_cstr_pgenes$oe_lof_upper_bin[coi_ncoi_cstr_pgenes$FLAG == 'COI'])\n",
    "\n",
    "# COI enriched\n",
    "wilcox.test(coi_coi_cstr_ea$oe_lof_upper_bin[coi_coi_cstr_ea$FLAG == 'COI'], coi_coi_cstr_ea$oe_lof_upper_bin[coi_coi_cstr_ea$FLAG == 'Enr_COI'])"
   ]
  },
  {
   "cell_type": "code",
   "execution_count": 91,
   "id": "14ffd7f5",
   "metadata": {},
   "outputs": [
    {
     "data": {
      "image/png": "[encoded data removed]",
      "text/plain": [
       "<IPython.core.display.Image object>"
      ]
     },
     "metadata": {},
     "output_type": "display_data"
    }
   ],
   "source": [
    "%%R\n",
    "\n",
    "\n",
    "coi_ncoi_loeuf_dec_plt <- ggplot(coi_ncoi_loeuf_dec, aes(x=as.factor(oe_lof_upper_bin),\n",
    "                                                         y=prop, fill=FLAG)) + \n",
    "  geom_bar(position=\"stack\",\n",
    "           stat=\"identity\",\n",
    "           color='black', \n",
    "           linewidth=0.25)+\n",
    "  theme(axis.text = element_text(size = 8),\n",
    "        axis.title =  element_text(size=10, color='black'), \n",
    "        legend.position = \"none\",\n",
    "        legend.text=element_text(size=8, color='black'),\n",
    "        plot.margin = margin(0.5,1,0.5,1,\"cm\")) + \n",
    "  xlab('LOEUF decile') + scale_fill_manual(values=c(\"#3B75E9\",\"#F32737\")) + #+ scale_fill_manual(values=c(\"#833B49\", \"#256C68\")) +\n",
    "  ylab(NULL) + scale_y_continuous(labels = percent_format())   + theme_bw()\n",
    "\n",
    "\n",
    "coi_ncoi_loeuf_dec_plt <- coi_ncoi_loeuf_dec_plt + facet_wrap(. ~ FLAG, nrow=2) +\n",
    "  theme(strip.text.x = element_text(size = 10),\n",
    "        text=element_text(family='Helvetica'),\n",
    "        strip.background =element_rect(fill=\"#D9DDDC\", color = \"black\"),\n",
    "        strip.text = element_text(colour = 'black'), legend.position = \"none\")\n",
    "\n",
    "coi_ncoi_loeuf_dec_plt\n",
    "\n",
    "#ggsave(\"./plots/coi_ncoi_loeuf_dec_all.png\")\n",
    "#ggsave(\"./plots/coi_ncoi_loeuf_dec_pgenes.png\")\n",
    "#ggsave(\"./plots/coi_ncoi_loeuf_dec_ea.png\")"
   ]
  },
  {
   "cell_type": "markdown",
   "id": "97b3bcd4",
   "metadata": {},
   "source": [
    "# GTEx"
   ]
  },
  {
   "cell_type": "code",
   "execution_count": 61,
   "id": "a7bda411",
   "metadata": {},
   "outputs": [
    {
     "name": "stdout",
     "output_type": "stream",
     "text": [
      "(199324, 56)\n"
     ]
    },
    {
     "data": {
      "text/html": [
       "<div>\n",
       "<style scoped>\n",
       "    .dataframe tbody tr th:only-of-type {\n",
       "        vertical-align: middle;\n",
       "    }\n",
       "\n",
       "    .dataframe tbody tr th {\n",
       "        vertical-align: top;\n",
       "    }\n",
       "\n",
       "    .dataframe thead th {\n",
       "        text-align: right;\n",
       "    }\n",
       "</style>\n",
       "<table border=\"1\" class=\"dataframe\">\n",
       "  <thead>\n",
       "    <tr style=\"text-align: right;\">\n",
       "      <th></th>\n",
       "      <th>ADPSBQ</th>\n",
       "      <th>ADPVSC</th>\n",
       "      <th>ADRNLG</th>\n",
       "      <th>ARTAORT</th>\n",
       "      <th>ARTCRN</th>\n",
       "      <th>ARTTBL</th>\n",
       "      <th>BLDDER</th>\n",
       "      <th>BRNAMY</th>\n",
       "      <th>BRNACC</th>\n",
       "      <th>BRNCDT</th>\n",
       "      <th>...</th>\n",
       "      <th>SNTTRM</th>\n",
       "      <th>SPLEEN</th>\n",
       "      <th>STMACH</th>\n",
       "      <th>TESTIS</th>\n",
       "      <th>THYROID</th>\n",
       "      <th>UTERUS</th>\n",
       "      <th>VAGINA</th>\n",
       "      <th>WHLBLD</th>\n",
       "      <th>transcript_id</th>\n",
       "      <th>gene_id</th>\n",
       "    </tr>\n",
       "  </thead>\n",
       "  <tbody>\n",
       "    <tr>\n",
       "      <th>0</th>\n",
       "      <td>95.78</td>\n",
       "      <td>82.85</td>\n",
       "      <td>74.265</td>\n",
       "      <td>101.550</td>\n",
       "      <td>98.41</td>\n",
       "      <td>98.90</td>\n",
       "      <td>90.84</td>\n",
       "      <td>83.945</td>\n",
       "      <td>113.950</td>\n",
       "      <td>104.300</td>\n",
       "      <td>...</td>\n",
       "      <td>83.64</td>\n",
       "      <td>96.68</td>\n",
       "      <td>78.87</td>\n",
       "      <td>107.30</td>\n",
       "      <td>93.28</td>\n",
       "      <td>114.550</td>\n",
       "      <td>117.250</td>\n",
       "      <td>55.01</td>\n",
       "      <td>ENST00000000233</td>\n",
       "      <td>ENSG00000004059</td>\n",
       "    </tr>\n",
       "    <tr>\n",
       "      <th>1</th>\n",
       "      <td>30.75</td>\n",
       "      <td>27.57</td>\n",
       "      <td>30.230</td>\n",
       "      <td>33.615</td>\n",
       "      <td>31.00</td>\n",
       "      <td>34.92</td>\n",
       "      <td>39.77</td>\n",
       "      <td>7.995</td>\n",
       "      <td>9.580</td>\n",
       "      <td>12.405</td>\n",
       "      <td>...</td>\n",
       "      <td>28.12</td>\n",
       "      <td>39.97</td>\n",
       "      <td>17.07</td>\n",
       "      <td>37.39</td>\n",
       "      <td>33.54</td>\n",
       "      <td>35.550</td>\n",
       "      <td>25.450</td>\n",
       "      <td>9.25</td>\n",
       "      <td>ENST00000000412</td>\n",
       "      <td>ENSG00000003056</td>\n",
       "    </tr>\n",
       "    <tr>\n",
       "      <th>2</th>\n",
       "      <td>16.81</td>\n",
       "      <td>16.82</td>\n",
       "      <td>19.080</td>\n",
       "      <td>12.005</td>\n",
       "      <td>14.22</td>\n",
       "      <td>13.12</td>\n",
       "      <td>24.44</td>\n",
       "      <td>8.230</td>\n",
       "      <td>10.955</td>\n",
       "      <td>11.185</td>\n",
       "      <td>...</td>\n",
       "      <td>33.11</td>\n",
       "      <td>19.41</td>\n",
       "      <td>23.70</td>\n",
       "      <td>5.30</td>\n",
       "      <td>21.17</td>\n",
       "      <td>9.745</td>\n",
       "      <td>19.225</td>\n",
       "      <td>6.62</td>\n",
       "      <td>ENST00000000442</td>\n",
       "      <td>ENSG00000173153</td>\n",
       "    </tr>\n",
       "  </tbody>\n",
       "</table>\n",
       "<p>3 rows × 56 columns</p>\n",
       "</div>"
      ],
      "text/plain": [
       "   ADPSBQ  ADPVSC  ADRNLG  ARTAORT  ARTCRN  ARTTBL  BLDDER  BRNAMY   BRNACC  \\\n",
       "0   95.78   82.85  74.265  101.550   98.41   98.90   90.84  83.945  113.950   \n",
       "1   30.75   27.57  30.230   33.615   31.00   34.92   39.77   7.995    9.580   \n",
       "2   16.81   16.82  19.080   12.005   14.22   13.12   24.44   8.230   10.955   \n",
       "\n",
       "    BRNCDT  ...  SNTTRM  SPLEEN  STMACH  TESTIS  THYROID   UTERUS   VAGINA  \\\n",
       "0  104.300  ...   83.64   96.68   78.87  107.30    93.28  114.550  117.250   \n",
       "1   12.405  ...   28.12   39.97   17.07   37.39    33.54   35.550   25.450   \n",
       "2   11.185  ...   33.11   19.41   23.70    5.30    21.17    9.745   19.225   \n",
       "\n",
       "   WHLBLD    transcript_id          gene_id  \n",
       "0   55.01  ENST00000000233  ENSG00000004059  \n",
       "1    9.25  ENST00000000412  ENSG00000003056  \n",
       "2    6.62  ENST00000000442  ENSG00000173153  \n",
       "\n",
       "[3 rows x 56 columns]"
      ]
     },
     "execution_count": 61,
     "metadata": {},
     "output_type": "execute_result"
    }
   ],
   "source": [
    "tx_medians = pd.read_csv(f'{path_to_data}/features/GTEx.V8.tx_medians.021620.csv', sep='\\t')\n",
    "print(tx_medians.shape)\n",
    "tx_medians.head(3)"
   ]
  },
  {
   "cell_type": "code",
   "execution_count": 62,
   "id": "76d76a56",
   "metadata": {},
   "outputs": [
    {
     "data": {
      "text/html": [
       "<div>\n",
       "<style scoped>\n",
       "    .dataframe tbody tr th:only-of-type {\n",
       "        vertical-align: middle;\n",
       "    }\n",
       "\n",
       "    .dataframe tbody tr th {\n",
       "        vertical-align: top;\n",
       "    }\n",
       "\n",
       "    .dataframe thead th {\n",
       "        text-align: right;\n",
       "    }\n",
       "</style>\n",
       "<table border=\"1\" class=\"dataframe\">\n",
       "  <thead>\n",
       "    <tr style=\"text-align: right;\">\n",
       "      <th></th>\n",
       "      <th>ADPSBQ</th>\n",
       "      <th>ADPVSC</th>\n",
       "      <th>ADRNLG</th>\n",
       "      <th>ARTAORT</th>\n",
       "      <th>ARTCRN</th>\n",
       "      <th>ARTTBL</th>\n",
       "      <th>BLDDER</th>\n",
       "      <th>BRNAMY</th>\n",
       "      <th>BRNACC</th>\n",
       "      <th>BRNCDT</th>\n",
       "      <th>...</th>\n",
       "      <th>SPLEEN</th>\n",
       "      <th>STMACH</th>\n",
       "      <th>TESTIS</th>\n",
       "      <th>THYROID</th>\n",
       "      <th>UTERUS</th>\n",
       "      <th>VAGINA</th>\n",
       "      <th>WHLBLD</th>\n",
       "      <th>transcript_id</th>\n",
       "      <th>gene_id</th>\n",
       "      <th>SYMBOL</th>\n",
       "    </tr>\n",
       "  </thead>\n",
       "  <tbody>\n",
       "    <tr>\n",
       "      <th>0</th>\n",
       "      <td>95.78</td>\n",
       "      <td>82.85</td>\n",
       "      <td>74.265</td>\n",
       "      <td>101.550</td>\n",
       "      <td>98.41</td>\n",
       "      <td>98.90</td>\n",
       "      <td>90.84</td>\n",
       "      <td>83.945</td>\n",
       "      <td>113.950</td>\n",
       "      <td>104.300</td>\n",
       "      <td>...</td>\n",
       "      <td>96.68</td>\n",
       "      <td>78.87</td>\n",
       "      <td>107.30</td>\n",
       "      <td>93.28</td>\n",
       "      <td>114.550</td>\n",
       "      <td>117.250</td>\n",
       "      <td>55.01</td>\n",
       "      <td>ENST00000000233</td>\n",
       "      <td>ENSG00000004059</td>\n",
       "      <td>ARF5</td>\n",
       "    </tr>\n",
       "    <tr>\n",
       "      <th>1</th>\n",
       "      <td>30.75</td>\n",
       "      <td>27.57</td>\n",
       "      <td>30.230</td>\n",
       "      <td>33.615</td>\n",
       "      <td>31.00</td>\n",
       "      <td>34.92</td>\n",
       "      <td>39.77</td>\n",
       "      <td>7.995</td>\n",
       "      <td>9.580</td>\n",
       "      <td>12.405</td>\n",
       "      <td>...</td>\n",
       "      <td>39.97</td>\n",
       "      <td>17.07</td>\n",
       "      <td>37.39</td>\n",
       "      <td>33.54</td>\n",
       "      <td>35.550</td>\n",
       "      <td>25.450</td>\n",
       "      <td>9.25</td>\n",
       "      <td>ENST00000000412</td>\n",
       "      <td>ENSG00000003056</td>\n",
       "      <td>M6PR</td>\n",
       "    </tr>\n",
       "    <tr>\n",
       "      <th>2</th>\n",
       "      <td>16.81</td>\n",
       "      <td>16.82</td>\n",
       "      <td>19.080</td>\n",
       "      <td>12.005</td>\n",
       "      <td>14.22</td>\n",
       "      <td>13.12</td>\n",
       "      <td>24.44</td>\n",
       "      <td>8.230</td>\n",
       "      <td>10.955</td>\n",
       "      <td>11.185</td>\n",
       "      <td>...</td>\n",
       "      <td>19.41</td>\n",
       "      <td>23.70</td>\n",
       "      <td>5.30</td>\n",
       "      <td>21.17</td>\n",
       "      <td>9.745</td>\n",
       "      <td>19.225</td>\n",
       "      <td>6.62</td>\n",
       "      <td>ENST00000000442</td>\n",
       "      <td>ENSG00000173153</td>\n",
       "      <td>ESRRA</td>\n",
       "    </tr>\n",
       "  </tbody>\n",
       "</table>\n",
       "<p>3 rows × 57 columns</p>\n",
       "</div>"
      ],
      "text/plain": [
       "   ADPSBQ  ADPVSC  ADRNLG  ARTAORT  ARTCRN  ARTTBL  BLDDER  BRNAMY   BRNACC  \\\n",
       "0   95.78   82.85  74.265  101.550   98.41   98.90   90.84  83.945  113.950   \n",
       "1   30.75   27.57  30.230   33.615   31.00   34.92   39.77   7.995    9.580   \n",
       "2   16.81   16.82  19.080   12.005   14.22   13.12   24.44   8.230   10.955   \n",
       "\n",
       "    BRNCDT  ...  SPLEEN  STMACH  TESTIS  THYROID   UTERUS   VAGINA  WHLBLD  \\\n",
       "0  104.300  ...   96.68   78.87  107.30    93.28  114.550  117.250   55.01   \n",
       "1   12.405  ...   39.97   17.07   37.39    33.54   35.550   25.450    9.25   \n",
       "2   11.185  ...   19.41   23.70    5.30    21.17    9.745   19.225    6.62   \n",
       "\n",
       "     transcript_id          gene_id  SYMBOL  \n",
       "0  ENST00000000233  ENSG00000004059    ARF5  \n",
       "1  ENST00000000412  ENSG00000003056    M6PR  \n",
       "2  ENST00000000442  ENSG00000173153   ESRRA  \n",
       "\n",
       "[3 rows x 57 columns]"
      ]
     },
     "execution_count": 62,
     "metadata": {},
     "output_type": "execute_result"
    }
   ],
   "source": [
    "ensembl_ids = pd.read_csv(f'{path_to_data}/features/ensembl_ids.txt', sep='\\t')\n",
    "ensembl_ids.columns = ['gene_id', 'SYMBOL']\n",
    "tx_medians = tx_medians.merge(ensembl_ids, on=['gene_id'], how=\"left\")\n",
    "tx_medians.head(3)"
   ]
  },
  {
   "cell_type": "code",
   "execution_count": 63,
   "id": "3d9ff1e3",
   "metadata": {},
   "outputs": [
    {
     "data": {
      "text/html": [
       "<div>\n",
       "<style scoped>\n",
       "    .dataframe tbody tr th:only-of-type {\n",
       "        vertical-align: middle;\n",
       "    }\n",
       "\n",
       "    .dataframe tbody tr th {\n",
       "        vertical-align: top;\n",
       "    }\n",
       "\n",
       "    .dataframe thead th {\n",
       "        text-align: right;\n",
       "    }\n",
       "</style>\n",
       "<table border=\"1\" class=\"dataframe\">\n",
       "  <thead>\n",
       "    <tr style=\"text-align: right;\">\n",
       "      <th></th>\n",
       "      <th>transcript_id</th>\n",
       "      <th>gene_id</th>\n",
       "      <th>SYMBOL</th>\n",
       "      <th>ADPSBQ</th>\n",
       "      <th>ADPVSC</th>\n",
       "      <th>ADRNLG</th>\n",
       "      <th>ARTAORT</th>\n",
       "      <th>ARTCRN</th>\n",
       "      <th>ARTTBL</th>\n",
       "      <th>BLDDER</th>\n",
       "      <th>...</th>\n",
       "      <th>SKINNS</th>\n",
       "      <th>SKINS</th>\n",
       "      <th>SNTTRM</th>\n",
       "      <th>SPLEEN</th>\n",
       "      <th>STMACH</th>\n",
       "      <th>TESTIS</th>\n",
       "      <th>THYROID</th>\n",
       "      <th>UTERUS</th>\n",
       "      <th>VAGINA</th>\n",
       "      <th>WHLBLD</th>\n",
       "    </tr>\n",
       "  </thead>\n",
       "  <tbody>\n",
       "    <tr>\n",
       "      <th>0</th>\n",
       "      <td>ENST00000000233</td>\n",
       "      <td>ENSG00000004059</td>\n",
       "      <td>ARF5</td>\n",
       "      <td>95.78</td>\n",
       "      <td>82.85</td>\n",
       "      <td>74.265</td>\n",
       "      <td>101.550</td>\n",
       "      <td>98.41</td>\n",
       "      <td>98.90</td>\n",
       "      <td>90.84</td>\n",
       "      <td>...</td>\n",
       "      <td>166.500</td>\n",
       "      <td>179.80</td>\n",
       "      <td>83.64</td>\n",
       "      <td>96.68</td>\n",
       "      <td>78.87</td>\n",
       "      <td>107.30</td>\n",
       "      <td>93.28</td>\n",
       "      <td>114.550</td>\n",
       "      <td>117.250</td>\n",
       "      <td>55.01</td>\n",
       "    </tr>\n",
       "    <tr>\n",
       "      <th>1</th>\n",
       "      <td>ENST00000000412</td>\n",
       "      <td>ENSG00000003056</td>\n",
       "      <td>M6PR</td>\n",
       "      <td>30.75</td>\n",
       "      <td>27.57</td>\n",
       "      <td>30.230</td>\n",
       "      <td>33.615</td>\n",
       "      <td>31.00</td>\n",
       "      <td>34.92</td>\n",
       "      <td>39.77</td>\n",
       "      <td>...</td>\n",
       "      <td>21.145</td>\n",
       "      <td>23.32</td>\n",
       "      <td>28.12</td>\n",
       "      <td>39.97</td>\n",
       "      <td>17.07</td>\n",
       "      <td>37.39</td>\n",
       "      <td>33.54</td>\n",
       "      <td>35.550</td>\n",
       "      <td>25.450</td>\n",
       "      <td>9.25</td>\n",
       "    </tr>\n",
       "    <tr>\n",
       "      <th>2</th>\n",
       "      <td>ENST00000000442</td>\n",
       "      <td>ENSG00000173153</td>\n",
       "      <td>ESRRA</td>\n",
       "      <td>16.81</td>\n",
       "      <td>16.82</td>\n",
       "      <td>19.080</td>\n",
       "      <td>12.005</td>\n",
       "      <td>14.22</td>\n",
       "      <td>13.12</td>\n",
       "      <td>24.44</td>\n",
       "      <td>...</td>\n",
       "      <td>20.895</td>\n",
       "      <td>22.71</td>\n",
       "      <td>33.11</td>\n",
       "      <td>19.41</td>\n",
       "      <td>23.70</td>\n",
       "      <td>5.30</td>\n",
       "      <td>21.17</td>\n",
       "      <td>9.745</td>\n",
       "      <td>19.225</td>\n",
       "      <td>6.62</td>\n",
       "    </tr>\n",
       "    <tr>\n",
       "      <th>3</th>\n",
       "      <td>ENST00000001008</td>\n",
       "      <td>ENSG00000004478</td>\n",
       "      <td>FKBP4</td>\n",
       "      <td>15.62</td>\n",
       "      <td>21.32</td>\n",
       "      <td>24.325</td>\n",
       "      <td>25.020</td>\n",
       "      <td>24.47</td>\n",
       "      <td>32.21</td>\n",
       "      <td>33.98</td>\n",
       "      <td>...</td>\n",
       "      <td>38.315</td>\n",
       "      <td>37.11</td>\n",
       "      <td>17.45</td>\n",
       "      <td>15.78</td>\n",
       "      <td>30.32</td>\n",
       "      <td>57.79</td>\n",
       "      <td>35.03</td>\n",
       "      <td>25.660</td>\n",
       "      <td>38.750</td>\n",
       "      <td>5.04</td>\n",
       "    </tr>\n",
       "    <tr>\n",
       "      <th>4</th>\n",
       "      <td>ENST00000001146</td>\n",
       "      <td>ENSG00000003137</td>\n",
       "      <td>CYP26B1</td>\n",
       "      <td>9.26</td>\n",
       "      <td>6.61</td>\n",
       "      <td>1.050</td>\n",
       "      <td>2.675</td>\n",
       "      <td>2.14</td>\n",
       "      <td>1.46</td>\n",
       "      <td>1.25</td>\n",
       "      <td>...</td>\n",
       "      <td>10.450</td>\n",
       "      <td>13.43</td>\n",
       "      <td>1.42</td>\n",
       "      <td>0.69</td>\n",
       "      <td>0.19</td>\n",
       "      <td>5.43</td>\n",
       "      <td>7.88</td>\n",
       "      <td>1.655</td>\n",
       "      <td>1.920</td>\n",
       "      <td>0.00</td>\n",
       "    </tr>\n",
       "  </tbody>\n",
       "</table>\n",
       "<p>5 rows × 57 columns</p>\n",
       "</div>"
      ],
      "text/plain": [
       "     transcript_id          gene_id   SYMBOL  ADPSBQ  ADPVSC  ADRNLG  ARTAORT  \\\n",
       "0  ENST00000000233  ENSG00000004059     ARF5   95.78   82.85  74.265  101.550   \n",
       "1  ENST00000000412  ENSG00000003056     M6PR   30.75   27.57  30.230   33.615   \n",
       "2  ENST00000000442  ENSG00000173153    ESRRA   16.81   16.82  19.080   12.005   \n",
       "3  ENST00000001008  ENSG00000004478    FKBP4   15.62   21.32  24.325   25.020   \n",
       "4  ENST00000001146  ENSG00000003137  CYP26B1    9.26    6.61   1.050    2.675   \n",
       "\n",
       "   ARTCRN  ARTTBL  BLDDER  ...   SKINNS   SKINS  SNTTRM  SPLEEN  STMACH  \\\n",
       "0   98.41   98.90   90.84  ...  166.500  179.80   83.64   96.68   78.87   \n",
       "1   31.00   34.92   39.77  ...   21.145   23.32   28.12   39.97   17.07   \n",
       "2   14.22   13.12   24.44  ...   20.895   22.71   33.11   19.41   23.70   \n",
       "3   24.47   32.21   33.98  ...   38.315   37.11   17.45   15.78   30.32   \n",
       "4    2.14    1.46    1.25  ...   10.450   13.43    1.42    0.69    0.19   \n",
       "\n",
       "   TESTIS  THYROID   UTERUS   VAGINA  WHLBLD  \n",
       "0  107.30    93.28  114.550  117.250   55.01  \n",
       "1   37.39    33.54   35.550   25.450    9.25  \n",
       "2    5.30    21.17    9.745   19.225    6.62  \n",
       "3   57.79    35.03   25.660   38.750    5.04  \n",
       "4    5.43     7.88    1.655    1.920    0.00  \n",
       "\n",
       "[5 rows x 57 columns]"
      ]
     },
     "execution_count": 63,
     "metadata": {},
     "output_type": "execute_result"
    }
   ],
   "source": [
    "cols = tx_medians.columns.tolist()\n",
    "cols = cols[-1:] + cols[:-1]\n",
    "cols = cols[-1:] + cols[:-1]\n",
    "cols = cols[-1:] + cols[:-1]\n",
    "tx_medians = tx_medians[cols]\n",
    "tx_medians.head()"
   ]
  },
  {
   "cell_type": "code",
   "execution_count": 64,
   "id": "92e70966",
   "metadata": {},
   "outputs": [
    {
     "name": "stdout",
     "output_type": "stream",
     "text": [
      "(53659, 57)\n",
      "(199324, 57)\n"
     ]
    },
    {
     "data": {
      "text/html": [
       "<div>\n",
       "<style scoped>\n",
       "    .dataframe tbody tr th:only-of-type {\n",
       "        vertical-align: middle;\n",
       "    }\n",
       "\n",
       "    .dataframe tbody tr th {\n",
       "        vertical-align: top;\n",
       "    }\n",
       "\n",
       "    .dataframe thead th {\n",
       "        text-align: right;\n",
       "    }\n",
       "</style>\n",
       "<table border=\"1\" class=\"dataframe\">\n",
       "  <thead>\n",
       "    <tr style=\"text-align: right;\">\n",
       "      <th></th>\n",
       "      <th>transcript_id</th>\n",
       "      <th>gene_id</th>\n",
       "      <th>SYMBOL</th>\n",
       "      <th>ADPSBQ</th>\n",
       "      <th>ADPVSC</th>\n",
       "      <th>ADRNLG</th>\n",
       "      <th>ARTAORT</th>\n",
       "      <th>ARTCRN</th>\n",
       "      <th>ARTTBL</th>\n",
       "      <th>BLDDER</th>\n",
       "      <th>...</th>\n",
       "      <th>SKINNS</th>\n",
       "      <th>SKINS</th>\n",
       "      <th>SNTTRM</th>\n",
       "      <th>SPLEEN</th>\n",
       "      <th>STMACH</th>\n",
       "      <th>TESTIS</th>\n",
       "      <th>THYROID</th>\n",
       "      <th>UTERUS</th>\n",
       "      <th>VAGINA</th>\n",
       "      <th>WHLBLD</th>\n",
       "    </tr>\n",
       "  </thead>\n",
       "  <tbody>\n",
       "    <tr>\n",
       "      <th>0</th>\n",
       "      <td>ENST00000000233</td>\n",
       "      <td>ENSG00000004059</td>\n",
       "      <td>ARF5</td>\n",
       "      <td>95.78</td>\n",
       "      <td>82.85</td>\n",
       "      <td>74.265</td>\n",
       "      <td>101.550</td>\n",
       "      <td>98.41</td>\n",
       "      <td>98.90</td>\n",
       "      <td>90.84</td>\n",
       "      <td>...</td>\n",
       "      <td>166.500</td>\n",
       "      <td>179.80</td>\n",
       "      <td>83.64</td>\n",
       "      <td>96.68</td>\n",
       "      <td>78.87</td>\n",
       "      <td>107.30</td>\n",
       "      <td>93.28</td>\n",
       "      <td>114.550</td>\n",
       "      <td>117.250</td>\n",
       "      <td>55.01</td>\n",
       "    </tr>\n",
       "    <tr>\n",
       "      <th>1</th>\n",
       "      <td>ENST00000000412</td>\n",
       "      <td>ENSG00000003056</td>\n",
       "      <td>M6PR</td>\n",
       "      <td>30.75</td>\n",
       "      <td>27.57</td>\n",
       "      <td>30.230</td>\n",
       "      <td>33.615</td>\n",
       "      <td>31.00</td>\n",
       "      <td>34.92</td>\n",
       "      <td>39.77</td>\n",
       "      <td>...</td>\n",
       "      <td>21.145</td>\n",
       "      <td>23.32</td>\n",
       "      <td>28.12</td>\n",
       "      <td>39.97</td>\n",
       "      <td>17.07</td>\n",
       "      <td>37.39</td>\n",
       "      <td>33.54</td>\n",
       "      <td>35.550</td>\n",
       "      <td>25.450</td>\n",
       "      <td>9.25</td>\n",
       "    </tr>\n",
       "    <tr>\n",
       "      <th>2</th>\n",
       "      <td>ENST00000000442</td>\n",
       "      <td>ENSG00000173153</td>\n",
       "      <td>ESRRA</td>\n",
       "      <td>16.81</td>\n",
       "      <td>16.82</td>\n",
       "      <td>19.080</td>\n",
       "      <td>12.005</td>\n",
       "      <td>14.22</td>\n",
       "      <td>13.12</td>\n",
       "      <td>24.44</td>\n",
       "      <td>...</td>\n",
       "      <td>20.895</td>\n",
       "      <td>22.71</td>\n",
       "      <td>33.11</td>\n",
       "      <td>19.41</td>\n",
       "      <td>23.70</td>\n",
       "      <td>5.30</td>\n",
       "      <td>21.17</td>\n",
       "      <td>9.745</td>\n",
       "      <td>19.225</td>\n",
       "      <td>6.62</td>\n",
       "    </tr>\n",
       "    <tr>\n",
       "      <th>3</th>\n",
       "      <td>ENST00000001008</td>\n",
       "      <td>ENSG00000004478</td>\n",
       "      <td>FKBP4</td>\n",
       "      <td>15.62</td>\n",
       "      <td>21.32</td>\n",
       "      <td>24.325</td>\n",
       "      <td>25.020</td>\n",
       "      <td>24.47</td>\n",
       "      <td>32.21</td>\n",
       "      <td>33.98</td>\n",
       "      <td>...</td>\n",
       "      <td>38.315</td>\n",
       "      <td>37.11</td>\n",
       "      <td>17.45</td>\n",
       "      <td>15.78</td>\n",
       "      <td>30.32</td>\n",
       "      <td>57.79</td>\n",
       "      <td>35.03</td>\n",
       "      <td>25.660</td>\n",
       "      <td>38.750</td>\n",
       "      <td>5.04</td>\n",
       "    </tr>\n",
       "    <tr>\n",
       "      <th>4</th>\n",
       "      <td>ENST00000001146</td>\n",
       "      <td>ENSG00000003137</td>\n",
       "      <td>CYP26B1</td>\n",
       "      <td>9.26</td>\n",
       "      <td>6.61</td>\n",
       "      <td>1.050</td>\n",
       "      <td>2.675</td>\n",
       "      <td>2.14</td>\n",
       "      <td>1.46</td>\n",
       "      <td>1.25</td>\n",
       "      <td>...</td>\n",
       "      <td>10.450</td>\n",
       "      <td>13.43</td>\n",
       "      <td>1.42</td>\n",
       "      <td>0.69</td>\n",
       "      <td>0.19</td>\n",
       "      <td>5.43</td>\n",
       "      <td>7.88</td>\n",
       "      <td>1.655</td>\n",
       "      <td>1.920</td>\n",
       "      <td>0.00</td>\n",
       "    </tr>\n",
       "  </tbody>\n",
       "</table>\n",
       "<p>5 rows × 57 columns</p>\n",
       "</div>"
      ],
      "text/plain": [
       "     transcript_id          gene_id   SYMBOL  ADPSBQ  ADPVSC  ADRNLG  ARTAORT  \\\n",
       "0  ENST00000000233  ENSG00000004059     ARF5   95.78   82.85  74.265  101.550   \n",
       "1  ENST00000000412  ENSG00000003056     M6PR   30.75   27.57  30.230   33.615   \n",
       "2  ENST00000000442  ENSG00000173153    ESRRA   16.81   16.82  19.080   12.005   \n",
       "3  ENST00000001008  ENSG00000004478    FKBP4   15.62   21.32  24.325   25.020   \n",
       "4  ENST00000001146  ENSG00000003137  CYP26B1    9.26    6.61   1.050    2.675   \n",
       "\n",
       "   ARTCRN  ARTTBL  BLDDER  ...   SKINNS   SKINS  SNTTRM  SPLEEN  STMACH  \\\n",
       "0   98.41   98.90   90.84  ...  166.500  179.80   83.64   96.68   78.87   \n",
       "1   31.00   34.92   39.77  ...   21.145   23.32   28.12   39.97   17.07   \n",
       "2   14.22   13.12   24.44  ...   20.895   22.71   33.11   19.41   23.70   \n",
       "3   24.47   32.21   33.98  ...   38.315   37.11   17.45   15.78   30.32   \n",
       "4    2.14    1.46    1.25  ...   10.450   13.43    1.42    0.69    0.19   \n",
       "\n",
       "   TESTIS  THYROID   UTERUS   VAGINA  WHLBLD  \n",
       "0  107.30    93.28  114.550  117.250   55.01  \n",
       "1   37.39    33.54   35.550   25.450    9.25  \n",
       "2    5.30    21.17    9.745   19.225    6.62  \n",
       "3   57.79    35.03   25.660   38.750    5.04  \n",
       "4    5.43     7.88    1.655    1.920    0.00  \n",
       "\n",
       "[5 rows x 57 columns]"
      ]
     },
     "execution_count": 64,
     "metadata": {},
     "output_type": "execute_result"
    }
   ],
   "source": [
    "# check if any value in a row is bigger than 5\n",
    "\n",
    "def check_row(row):\n",
    "    row_to_filter = row[3:]\n",
    "    return any(row_to_filter > 5)\n",
    "\n",
    "# Apply the function to each row and filter the DataFrame\n",
    "tx_medians_flt = tx_medians[tx_medians.apply(check_row, axis=1)]\n",
    "\n",
    "\n",
    "print(tx_medians_flt.shape)\n",
    "print(tx_medians.shape)\n",
    "\n",
    "tx_medians_flt.head()"
   ]
  },
  {
   "cell_type": "code",
   "execution_count": 65,
   "id": "d25dbfd4",
   "metadata": {},
   "outputs": [
    {
     "data": {
      "text/html": [
       "<div>\n",
       "<style scoped>\n",
       "    .dataframe tbody tr th:only-of-type {\n",
       "        vertical-align: middle;\n",
       "    }\n",
       "\n",
       "    .dataframe tbody tr th {\n",
       "        vertical-align: top;\n",
       "    }\n",
       "\n",
       "    .dataframe thead th {\n",
       "        text-align: right;\n",
       "    }\n",
       "</style>\n",
       "<table border=\"1\" class=\"dataframe\">\n",
       "  <thead>\n",
       "    <tr style=\"text-align: right;\">\n",
       "      <th></th>\n",
       "      <th>SYMBOL</th>\n",
       "      <th>tx_per_gene</th>\n",
       "    </tr>\n",
       "  </thead>\n",
       "  <tbody>\n",
       "    <tr>\n",
       "      <th>0</th>\n",
       "      <td>5_8S_rRNA</td>\n",
       "      <td>1</td>\n",
       "    </tr>\n",
       "    <tr>\n",
       "      <th>1</th>\n",
       "      <td>A1BG</td>\n",
       "      <td>4</td>\n",
       "    </tr>\n",
       "    <tr>\n",
       "      <th>2</th>\n",
       "      <td>A1CF</td>\n",
       "      <td>2</td>\n",
       "    </tr>\n",
       "    <tr>\n",
       "      <th>3</th>\n",
       "      <td>A2M</td>\n",
       "      <td>5</td>\n",
       "    </tr>\n",
       "    <tr>\n",
       "      <th>4</th>\n",
       "      <td>A2M-AS1</td>\n",
       "      <td>1</td>\n",
       "    </tr>\n",
       "  </tbody>\n",
       "</table>\n",
       "</div>"
      ],
      "text/plain": [
       "      SYMBOL  tx_per_gene\n",
       "0  5_8S_rRNA            1\n",
       "1       A1BG            4\n",
       "2       A1CF            2\n",
       "3        A2M            5\n",
       "4    A2M-AS1            1"
      ]
     },
     "execution_count": 65,
     "metadata": {},
     "output_type": "execute_result"
    }
   ],
   "source": [
    "gene_tx_flt = tx_medians_flt[['SYMBOL', 'transcript_id']]\n",
    "tx_medians_flt_per_gene= gene_tx_flt.groupby(['SYMBOL']).size().reset_index(name = 'tx_per_gene')\n",
    "tx_medians_flt_per_gene.head()"
   ]
  },
  {
   "cell_type": "code",
   "execution_count": null,
   "id": "d61dbb76",
   "metadata": {},
   "outputs": [],
   "source": [
    "# ALl\n",
    "\n",
    "tx_medians_coi = tx_medians_flt_per_gene[tx_medians_flt_per_gene['SYMBOL'].isin(coi_genes_list)]\n",
    "tx_medians_coi['FLAG'] = 'COI'\n",
    "print(tx_medians_coi.shape)\n",
    "\n",
    "tx_medians_no_coi = tx_medians_flt_per_gene[tx_medians_flt_per_gene['SYMBOL'].isin(nocoi_genes_list)]\n",
    "tx_medians_no_coi['FLAG'] = 'NO_COI'\n",
    "print(tx_medians_no_coi.shape)\n",
    "\n",
    "tx_medians_concat_all = pd.concat([tx_medians_coi, tx_medians_no_coi])"
   ]
  },
  {
   "cell_type": "code",
   "execution_count": null,
   "id": "15656c72",
   "metadata": {},
   "outputs": [],
   "source": [
    "# P genes\n",
    "\n",
    "tx_medians_coi_pgenes = tx_medians_flt_per_gene[tx_medians_flt_per_gene['SYMBOL'].isin(coi_pgenes_list)]\n",
    "tx_medians_coi_pgenes['FLAG'] = 'COI'\n",
    "print(tx_medians_coi_pgenes.shape)\n",
    "\n",
    "tx_medians_ncoi_pgenes = tx_medians_flt_per_gene[tx_medians_flt_per_gene['SYMBOL'].isin(pathogenic_genes_list_nocoi)]\n",
    "tx_medians_ncoi_pgenes['FLAG'] = 'NO_COI'\n",
    "print(tx_medians_ncoi_pgenes .shape)\n",
    "\n",
    "\n",
    "tx_medians_concat_pgenes = pd.concat([tx_medians_coi_pgenes,tx_medians_ncoi_pgenes])"
   ]
  },
  {
   "cell_type": "code",
   "execution_count": 86,
   "id": "8d4c0208",
   "metadata": {},
   "outputs": [
    {
     "name": "stdout",
     "output_type": "stream",
     "text": [
      "(271, 3)\n",
      "(3286, 3)\n"
     ]
    },
    {
     "name": "stderr",
     "output_type": "stream",
     "text": [
      "/var/folders/sy/0s6mz48x25xdw7n08d30rp5w0000gn/T/ipykernel_62541/3580737994.py:4: SettingWithCopyWarning: \n",
      "A value is trying to be set on a copy of a slice from a DataFrame.\n",
      "Try using .loc[row_indexer,col_indexer] = value instead\n",
      "\n",
      "See the caveats in the documentation: https://pandas.pydata.org/pandas-docs/stable/user_guide/indexing.html#returning-a-view-versus-a-copy\n",
      "  tx_medians_ecoi['FLAG'] = 'Enr_COI'\n",
      "/var/folders/sy/0s6mz48x25xdw7n08d30rp5w0000gn/T/ipykernel_62541/3580737994.py:8: SettingWithCopyWarning: \n",
      "A value is trying to be set on a copy of a slice from a DataFrame.\n",
      "Try using .loc[row_indexer,col_indexer] = value instead\n",
      "\n",
      "See the caveats in the documentation: https://pandas.pydata.org/pandas-docs/stable/user_guide/indexing.html#returning-a-view-versus-a-copy\n",
      "  tx_medians_coi_pgenes['FLAG'] = 'COI'\n"
     ]
    }
   ],
   "source": [
    "# Enriched !!!!!!!!\n",
    "\n",
    "tx_medians_ecoi = tx_medians_flt_per_gene[tx_medians_flt_per_gene['SYMBOL'].isin(ea_coi_pgenes_list)]\n",
    "tx_medians_ecoi['FLAG'] = 'Enr_COI'\n",
    "print(tx_medians_ecoi.shape)\n",
    "\n",
    "tx_medians_coi_pgenes = tx_medians_flt_per_gene[tx_medians_flt_per_gene['SYMBOL'].isin(coi_pgenes_list)]\n",
    "tx_medians_coi_pgenes['FLAG'] = 'COI'\n",
    "print(tx_medians_coi_pgenes.shape)\n",
    "\n",
    "\n",
    "tx_medians_concat_ea = pd.concat([tx_medians_ecoi, tx_medians_coi_pgenes])"
   ]
  },
  {
   "cell_type": "code",
   "execution_count": 88,
   "id": "dd804317",
   "metadata": {},
   "outputs": [
    {
     "data": {
      "image/png": "[encoded data removed]",
      "text/plain": [
       "<IPython.core.display.Image object>"
      ]
     },
     "metadata": {},
     "output_type": "display_data"
    }
   ],
   "source": [
    "%%R -i tx_medians_concat_ea\n",
    "#%%R -i tx_medians_concat_pgenes\n",
    "#%%R -i tx_medians_concat_all\n",
    "\n",
    "\n",
    "\n",
    "\n",
    "ggplot(\n",
    "    #tx_medians_concat_all,\n",
    "    #tx_medians_concat_pgenes,\n",
    "    tx_medians_concat_ea,\n",
    "       aes(x=tx_per_gene, fill=FLAG)) + \n",
    "geom_histogram(aes(y=..density..),binwidth=1) + \n",
    "geom_density(alpha=.2) + facet_wrap(~FLAG,nrow=3) + scale_fill_manual(values=c(\"#3B75E9\",\"#F32737\"))+ #scale_fill_manual(values=c(\"#833B49\", \"#256C68\")) +\n",
    "theme_bw()+ theme(legend.position = \"none\")\n",
    "\n",
    "#ggsave(\"./plots/tx_medians_all.png\")\n",
    "#ggsave(\"tx_medians_pgenes.png\")\n",
    "#ggsave(\"tx_medians_ea.png\")"
   ]
  },
  {
   "cell_type": "code",
   "execution_count": 90,
   "id": "934d7c2e",
   "metadata": {},
   "outputs": [
    {
     "name": "stdout",
     "output_type": "stream",
     "text": [
      "\n",
      "\tWilcoxon rank sum test with continuity correction\n",
      "\n",
      "data:  tx_medians_concat_ea$tx_per_gene[tx_medians_concat_ea$FLAG == \"COI\"] and tx_medians_concat_ea$tx_per_gene[tx_medians_concat_ea$FLAG == \"Enr_COI\"]\n",
      "W = 408742, p-value = 0.01096\n",
      "alternative hypothesis: true location shift is less than 0\n",
      "\n"
     ]
    }
   ],
   "source": [
    "%%R\n",
    "\n",
    "# COI - non COI\n",
    "#wilcox.test(tx_medians_concat_all$tx_per_gene[tx_medians_concat_all$FLAG == 'NO_COI'], tx_medians_concat_all$tx_per_gene[tx_medians_concat_all$FLAG == 'COI'], alternative=\"less\")\n",
    "\n",
    "# COI - only genes with P and w/o COI\n",
    "#wilcox.test(tx_medians_concat_pgenes$tx_per_gene[tx_medians_concat_pgenes$FLAG == 'NO_COI'], tx_medians_concat_pgenes$tx_per_gene[tx_medians_concat_pgenes$FLAG == 'COI'], alternative=\"less\")\n",
    "\n",
    "# COI enriched\n",
    "wilcox.test(tx_medians_concat_ea$tx_per_gene[tx_medians_concat_ea$FLAG == 'COI'], tx_medians_concat_ea$tx_per_gene[tx_medians_concat_ea$FLAG == 'Enr_COI'], alternative=\"less\")"
   ]
  },
  {
   "cell_type": "code",
   "execution_count": null,
   "id": "fd0b8fb7",
   "metadata": {},
   "outputs": [],
   "source": [
    "tx_medians.head(2)"
   ]
  },
  {
   "cell_type": "code",
   "execution_count": null,
   "id": "50a31440",
   "metadata": {},
   "outputs": [],
   "source": [
    "tx_medians[['transcript_id', 'SYMBOL']].to_csv(f'{path_to_temp}/tr_gene.csv', sep='\\t', index=False)\n",
    "tr_symbol_tbl = tx_medians[['transcript_id', 'SYMBOL']]"
   ]
  },
  {
   "cell_type": "markdown",
   "id": "4e46e027",
   "metadata": {},
   "source": [
    "# Transcript length"
   ]
  },
  {
   "cell_type": "code",
   "execution_count": 48,
   "id": "10102bd3",
   "metadata": {},
   "outputs": [
    {
     "data": {
      "text/html": [
       "<div>\n",
       "<style scoped>\n",
       "    .dataframe tbody tr th:only-of-type {\n",
       "        vertical-align: middle;\n",
       "    }\n",
       "\n",
       "    .dataframe tbody tr th {\n",
       "        vertical-align: top;\n",
       "    }\n",
       "\n",
       "    .dataframe thead th {\n",
       "        text-align: right;\n",
       "    }\n",
       "</style>\n",
       "<table border=\"1\" class=\"dataframe\">\n",
       "  <thead>\n",
       "    <tr style=\"text-align: right;\">\n",
       "      <th></th>\n",
       "      <th>GeneID</th>\n",
       "      <th>TrID</th>\n",
       "      <th>EnCanonical</th>\n",
       "      <th>Tr_length_inclUTRCDS</th>\n",
       "      <th>SYMBOL</th>\n",
       "    </tr>\n",
       "  </thead>\n",
       "  <tbody>\n",
       "    <tr>\n",
       "      <th>0</th>\n",
       "      <td>ENSG00000210049</td>\n",
       "      <td>ENST00000387314</td>\n",
       "      <td>1.0</td>\n",
       "      <td>71</td>\n",
       "      <td>MT-TF</td>\n",
       "    </tr>\n",
       "    <tr>\n",
       "      <th>1</th>\n",
       "      <td>ENSG00000211459</td>\n",
       "      <td>ENST00000389680</td>\n",
       "      <td>1.0</td>\n",
       "      <td>954</td>\n",
       "      <td>MT-RNR1</td>\n",
       "    </tr>\n",
       "    <tr>\n",
       "      <th>2</th>\n",
       "      <td>ENSG00000210077</td>\n",
       "      <td>ENST00000387342</td>\n",
       "      <td>1.0</td>\n",
       "      <td>69</td>\n",
       "      <td>MT-TV</td>\n",
       "    </tr>\n",
       "  </tbody>\n",
       "</table>\n",
       "</div>"
      ],
      "text/plain": [
       "            GeneID             TrID  EnCanonical  Tr_length_inclUTRCDS  \\\n",
       "0  ENSG00000210049  ENST00000387314          1.0                    71   \n",
       "1  ENSG00000211459  ENST00000389680          1.0                   954   \n",
       "2  ENSG00000210077  ENST00000387342          1.0                    69   \n",
       "\n",
       "    SYMBOL  \n",
       "0    MT-TF  \n",
       "1  MT-RNR1  \n",
       "2    MT-TV  "
      ]
     },
     "execution_count": 48,
     "metadata": {},
     "output_type": "execute_result"
    }
   ],
   "source": [
    "biomrt_tr_len = pd.read_csv('./data/features/bioMart_TranscriptLength.txt', sep='\\t')\n",
    "biomrt_tr_len.columns = ['GeneID', 'TrID', 'EnCanonical', 'Tr_length_inclUTRCDS', 'SYMBOL']\n",
    "biomrt_can_tr_len = biomrt_tr_len[biomrt_tr_len['EnCanonical'] == 1]\n",
    "biomrt_can_tr_len.head(3)"
   ]
  },
  {
   "cell_type": "code",
   "execution_count": null,
   "id": "5d99ba36",
   "metadata": {},
   "outputs": [],
   "source": [
    "# All genes\n",
    "\n",
    "coi_genes_tr = biomrt_can_tr_len[biomrt_tr_len['SYMBOL'].isin(coi_genes_list)]\n",
    "coi_genes_tr['FLAG'] = 'COI'\n",
    "print(coi_pgenes_tr.shape)  \n",
    "\n",
    "nocoi_genes_tr = biomrt_can_tr_len[biomrt_tr_len['SYMBOL'].isin(nocoi_genes_list)]\n",
    "nocoi_genes_tr['FLAG'] = 'NO_COI'\n",
    "print(nocoi_genes_tr.shape)\n",
    "\n",
    "# concat\n",
    "genes_tr_len = pd.concat([coi_genes_tr,nocoi_genes_tr])"
   ]
  },
  {
   "cell_type": "code",
   "execution_count": 53,
   "id": "fd41a509",
   "metadata": {},
   "outputs": [
    {
     "name": "stdout",
     "output_type": "stream",
     "text": [
      "(3961, 6)\n",
      "(1185, 6)\n"
     ]
    },
    {
     "name": "stderr",
     "output_type": "stream",
     "text": [
      "/var/folders/sy/0s6mz48x25xdw7n08d30rp5w0000gn/T/ipykernel_7699/3736815125.py:3: UserWarning: Boolean Series key will be reindexed to match DataFrame index.\n",
      "  coi_pgenes_tr = biomrt_can_tr_len[biomrt_tr_len['SYMBOL'].isin(coi_pgenes_list)]\n",
      "/var/folders/sy/0s6mz48x25xdw7n08d30rp5w0000gn/T/ipykernel_7699/3736815125.py:4: SettingWithCopyWarning: \n",
      "A value is trying to be set on a copy of a slice from a DataFrame.\n",
      "Try using .loc[row_indexer,col_indexer] = value instead\n",
      "\n",
      "See the caveats in the documentation: https://pandas.pydata.org/pandas-docs/stable/user_guide/indexing.html#returning-a-view-versus-a-copy\n",
      "  coi_pgenes_tr['FLAG'] = 'COI'\n",
      "/var/folders/sy/0s6mz48x25xdw7n08d30rp5w0000gn/T/ipykernel_7699/3736815125.py:7: UserWarning: Boolean Series key will be reindexed to match DataFrame index.\n",
      "  nocoi_pgenes_tr = biomrt_can_tr_len[biomrt_tr_len['SYMBOL'].isin(pathogenic_genes_list_nocoi)]\n",
      "/var/folders/sy/0s6mz48x25xdw7n08d30rp5w0000gn/T/ipykernel_7699/3736815125.py:8: SettingWithCopyWarning: \n",
      "A value is trying to be set on a copy of a slice from a DataFrame.\n",
      "Try using .loc[row_indexer,col_indexer] = value instead\n",
      "\n",
      "See the caveats in the documentation: https://pandas.pydata.org/pandas-docs/stable/user_guide/indexing.html#returning-a-view-versus-a-copy\n",
      "  nocoi_pgenes_tr['FLAG'] = 'NO_COI'\n"
     ]
    }
   ],
   "source": [
    "# P genes\n",
    "\n",
    "coi_pgenes_tr = biomrt_can_tr_len[biomrt_tr_len['SYMBOL'].isin(coi_pgenes_list)]\n",
    "coi_pgenes_tr['FLAG'] = 'COI'\n",
    "print(coi_pgenes_tr.shape)  \n",
    "\n",
    "nocoi_pgenes_tr = biomrt_can_tr_len[biomrt_tr_len['SYMBOL'].isin(pathogenic_genes_list_nocoi)]\n",
    "nocoi_pgenes_tr['FLAG'] = 'NO_COI'\n",
    "print(nocoi_pgenes_tr.shape)\n",
    "\n",
    "# concat\n",
    "genes_tr_len = pd.concat([coi_pgenes_tr,nocoi_pgenes_tr])"
   ]
  },
  {
   "cell_type": "code",
   "execution_count": 57,
   "id": "ed3c5cfe",
   "metadata": {},
   "outputs": [
    {
     "name": "stdout",
     "output_type": "stream",
     "text": [
      "(314, 6)\n",
      "(3961, 6)\n"
     ]
    },
    {
     "name": "stderr",
     "output_type": "stream",
     "text": [
      "/var/folders/sy/0s6mz48x25xdw7n08d30rp5w0000gn/T/ipykernel_7699/3068586273.py:3: UserWarning: Boolean Series key will be reindexed to match DataFrame index.\n",
      "  ecoi_pgenes_tr = biomrt_can_tr_len[biomrt_tr_len['SYMBOL'].isin(ea_coi_pgenes_list)]\n",
      "/var/folders/sy/0s6mz48x25xdw7n08d30rp5w0000gn/T/ipykernel_7699/3068586273.py:4: SettingWithCopyWarning: \n",
      "A value is trying to be set on a copy of a slice from a DataFrame.\n",
      "Try using .loc[row_indexer,col_indexer] = value instead\n",
      "\n",
      "See the caveats in the documentation: https://pandas.pydata.org/pandas-docs/stable/user_guide/indexing.html#returning-a-view-versus-a-copy\n",
      "  ecoi_pgenes_tr['FLAG'] = 'E_COI'\n",
      "/var/folders/sy/0s6mz48x25xdw7n08d30rp5w0000gn/T/ipykernel_7699/3068586273.py:7: UserWarning: Boolean Series key will be reindexed to match DataFrame index.\n",
      "  coi_pgenes_tr = biomrt_can_tr_len[biomrt_tr_len['SYMBOL'].isin(coi_pgenes_list)]\n",
      "/var/folders/sy/0s6mz48x25xdw7n08d30rp5w0000gn/T/ipykernel_7699/3068586273.py:8: SettingWithCopyWarning: \n",
      "A value is trying to be set on a copy of a slice from a DataFrame.\n",
      "Try using .loc[row_indexer,col_indexer] = value instead\n",
      "\n",
      "See the caveats in the documentation: https://pandas.pydata.org/pandas-docs/stable/user_guide/indexing.html#returning-a-view-versus-a-copy\n",
      "  coi_pgenes_tr['FLAG'] = 'COI'\n"
     ]
    }
   ],
   "source": [
    "# EA genes\n",
    "\n",
    "ecoi_pgenes_tr = biomrt_can_tr_len[biomrt_tr_len['SYMBOL'].isin(ea_coi_pgenes_list)]\n",
    "ecoi_pgenes_tr['FLAG'] = 'E_COI'\n",
    "print(ecoi_pgenes_tr.shape)\n",
    "\n",
    "coi_pgenes_tr = biomrt_can_tr_len[biomrt_tr_len['SYMBOL'].isin(coi_pgenes_list)]\n",
    "coi_pgenes_tr['FLAG'] = 'COI'\n",
    "print(coi_pgenes_tr.shape)\n",
    "\n",
    "# concat\n",
    "genes_tr_len = pd.concat([ecoi_pgenes_tr,coi_pgenes_tr])"
   ]
  },
  {
   "cell_type": "code",
   "execution_count": 58,
   "id": "9c0fea9e",
   "metadata": {},
   "outputs": [
    {
     "name": "stderr",
     "output_type": "stream",
     "text": [
      "/Users/tanya/anaconda3/lib/python3.11/site-packages/rpy2/robjects/pandas2ri.py:56: UserWarning: DataFrame contains duplicated elements in the index, which will lead to loss of the row names in the resulting data.frame\n",
      "  warnings.warn('DataFrame contains duplicated elements in the index, '\n"
     ]
    }
   ],
   "source": [
    "%%R -i genes_tr_len\n",
    "\n",
    "write.table(genes_tr_len, './plots/gene_tr_len_ea.csv', sep=',', quote=FALSE)"
   ]
  },
  {
   "cell_type": "code",
   "execution_count": 115,
   "id": "1b7fdd0a",
   "metadata": {},
   "outputs": [
    {
     "name": "stdout",
     "output_type": "stream",
     "text": [
      "\n",
      "\tWilcoxon rank sum test with continuity correction\n",
      "\n",
      "data:  genes_tr_len$Tr_length_inclUTRCDS[genes_tr_len$FLAG == \"NO_COI\"] and genes_tr_len$Tr_length_inclUTRCDS[genes_tr_len$FLAG == \"COI\"]\n",
      "W = 1892769, p-value < 2.2e-16\n",
      "alternative hypothesis: true location shift is not equal to 0\n",
      "\n"
     ]
    }
   ],
   "source": [
    "%%R -i genes_tr_len\n",
    "\n",
    "genes_tr_len <- genes_tr_len[genes_tr_len$Tr_length_inclUTRCDS >= 100, ]\n",
    "genes_tr_len <-genes_tr_len[genes_tr_len$Tr_length_inclUTRCDS <= 20000, ]\n",
    "\n",
    "wilcox.test(genes_tr_len$Tr_length_inclUTRCDS[genes_tr_len$FLAG == 'NO_COI'],\n",
    "            genes_tr_len$Tr_length_inclUTRCDS[genes_tr_len$FLAG == 'COI']) \n",
    "\n",
    "#wilcox.test(genes_tr_len$Tr_length_inclUTRCDS[genes_tr_len$FLAG == 'COI'],\n",
    "#            genes_tr_len$Tr_length_inclUTRCDS[genes_tr_len$FLAG == 'Enr_COI']) "
   ]
  },
  {
   "cell_type": "code",
   "execution_count": 120,
   "id": "d0e19e09",
   "metadata": {},
   "outputs": [
    {
     "data": {
      "image/png": "[encoded data removed]",
      "text/plain": [
       "<IPython.core.display.Image object>"
      ]
     },
     "metadata": {},
     "output_type": "display_data"
    }
   ],
   "source": [
    "%%R -i genes_tr_len\n",
    "\n",
    "genes_tr_len <- genes_tr_len[genes_tr_len$Tr_length_inclUTRCDS >= 100, ]\n",
    "genes_tr_len <-genes_tr_len[genes_tr_len$Tr_length_inclUTRCDS <= 50000, ]\n",
    "\n",
    "genes_tr_len_plt <- ggplot(na.omit(genes_tr_len[genes_tr_len$Tr_length_inclUTRCDS >= 100, ]), aes(x=FLAG, y=Tr_length_inclUTRCDS, fill=FLAG)) +\n",
    "geom_violin(alpha=0.25, trim=FALSE) + theme_bw() + theme(axis.text = element_text(size = 10),\n",
    "                                                                      axis.title =  element_text(size=14,face=\"bold\"), \n",
    "                                                        legend.position=\"none\") + #scale_fill_manual(values=c(\"#3B75E9\",\"#F32737\")) +\n",
    "scale_fill_manual(values=c(\"#833B49\", \"#256C68\")) +\n",
    "xlab('') + ylab('Transcript length')\n",
    "\n",
    "genes_tr_len_plt <- genes_tr_len_plt + geom_boxplot(width=0.1, outlier.shape = NA)\n",
    "\n",
    "genes_tr_len_plt\n",
    "\n",
    "#ggsave(\"./plots/pgenes_tr_len_plt_all.png\")"
   ]
  },
  {
   "cell_type": "markdown",
   "id": "c20e4de5",
   "metadata": {},
   "source": [
    "# Number of exons"
   ]
  },
  {
   "cell_type": "code",
   "execution_count": 59,
   "id": "a5513ad6",
   "metadata": {},
   "outputs": [
    {
     "ename": "NameError",
     "evalue": "name 'search_canonical_transcripts' is not defined",
     "output_type": "error",
     "traceback": [
      "\u001b[0;31m---------------------------------------------------------------------------\u001b[0m",
      "\u001b[0;31mNameError\u001b[0m                                 Traceback (most recent call last)",
      "Cell \u001b[0;32mIn[59], line 1\u001b[0m\n\u001b[0;32m----> 1\u001b[0m gene_canonical \u001b[38;5;241m=\u001b[39m search_canonical_transcripts(coi_ensembl, \u001b[38;5;124m'\u001b[39m\u001b[38;5;124m./data/features/canonical_transcripts.txt\u001b[39m\u001b[38;5;124m'\u001b[39m)\n",
      "\u001b[0;31mNameError\u001b[0m: name 'search_canonical_transcripts' is not defined"
     ]
    }
   ],
   "source": [
    "gene_canonical = search_canonical_transcripts(coi_ensembl, './data/features/canonical_transcripts.txt')"
   ]
  },
  {
   "cell_type": "code",
   "execution_count": null,
   "id": "d9152ca1",
   "metadata": {},
   "outputs": [],
   "source": [
    "%%R\n",
    "\n",
    "gff <- read.gff(\"./data/gencode.v45.annotation.gff3.gz\")\n",
    "\n",
    "exons <- gff %>%\n",
    "  filter(type == \"exon\") %>%\n",
    "  mutate(transcript_id = attributes %>% str_match(\"transcript_id=(.*?);\") %>% .[, 2]) %>%\n",
    "  select(-attributes)\n",
    "\n",
    "gene_exon_summary <- exons %>%\n",
    "  group_by(transcript_id) %>%\n",
    "  summarise(\n",
    "    exon_count = n(),\n",
    "    #exon_spans = paste(start, end, sep = \"-\", collapse = \";\")\n",
    "  )\n",
    "\n",
    "gene_exon_summary$transcript_id <- gsub(\"\\\\.*\",\"\",gene_exon_summary$transcript_id) \n",
    "\n",
    "write.table(gene_exon_summary, './data/exons_gencode45.csv', sep='\\t', quote=FALSE)"
   ]
  },
  {
   "cell_type": "code",
   "execution_count": 71,
   "id": "a73c4b35",
   "metadata": {},
   "outputs": [],
   "source": [
    "tx_medians[['transcript_id', 'SYMBOL']].to_csv(f'{path_to_temp}/tr_gene.csv', sep='\\t', index=False)\n",
    "tr_symbol_tbl = tx_medians[['transcript_id', 'SYMBOL']]"
   ]
  },
  {
   "cell_type": "code",
   "execution_count": 72,
   "id": "87356f68",
   "metadata": {},
   "outputs": [
    {
     "data": {
      "text/html": [
       "<div>\n",
       "<style scoped>\n",
       "    .dataframe tbody tr th:only-of-type {\n",
       "        vertical-align: middle;\n",
       "    }\n",
       "\n",
       "    .dataframe tbody tr th {\n",
       "        vertical-align: top;\n",
       "    }\n",
       "\n",
       "    .dataframe thead th {\n",
       "        text-align: right;\n",
       "    }\n",
       "</style>\n",
       "<table border=\"1\" class=\"dataframe\">\n",
       "  <thead>\n",
       "    <tr style=\"text-align: right;\">\n",
       "      <th></th>\n",
       "      <th>transcript_id</th>\n",
       "      <th>SYMBOL</th>\n",
       "    </tr>\n",
       "  </thead>\n",
       "  <tbody>\n",
       "    <tr>\n",
       "      <th>0</th>\n",
       "      <td>ENST00000000233</td>\n",
       "      <td>ARF5</td>\n",
       "    </tr>\n",
       "    <tr>\n",
       "      <th>1</th>\n",
       "      <td>ENST00000000412</td>\n",
       "      <td>M6PR</td>\n",
       "    </tr>\n",
       "  </tbody>\n",
       "</table>\n",
       "</div>"
      ],
      "text/plain": [
       "     transcript_id SYMBOL\n",
       "0  ENST00000000233   ARF5\n",
       "1  ENST00000000412   M6PR"
      ]
     },
     "execution_count": 72,
     "metadata": {},
     "output_type": "execute_result"
    }
   ],
   "source": [
    "tr_symbol_tbl.head(2)"
   ]
  },
  {
   "cell_type": "code",
   "execution_count": 73,
   "id": "834de362",
   "metadata": {},
   "outputs": [
    {
     "data": {
      "text/html": [
       "<div>\n",
       "<style scoped>\n",
       "    .dataframe tbody tr th:only-of-type {\n",
       "        vertical-align: middle;\n",
       "    }\n",
       "\n",
       "    .dataframe tbody tr th {\n",
       "        vertical-align: top;\n",
       "    }\n",
       "\n",
       "    .dataframe thead th {\n",
       "        text-align: right;\n",
       "    }\n",
       "</style>\n",
       "<table border=\"1\" class=\"dataframe\">\n",
       "  <thead>\n",
       "    <tr style=\"text-align: right;\">\n",
       "      <th></th>\n",
       "      <th>GeneID</th>\n",
       "      <th>TrID</th>\n",
       "      <th>EnCanonical</th>\n",
       "      <th>Tr_length_inclUTRCDS</th>\n",
       "      <th>SYMBOL</th>\n",
       "    </tr>\n",
       "  </thead>\n",
       "  <tbody>\n",
       "    <tr>\n",
       "      <th>0</th>\n",
       "      <td>ENSG00000210049</td>\n",
       "      <td>ENST00000387314</td>\n",
       "      <td>1.0</td>\n",
       "      <td>71</td>\n",
       "      <td>MT-TF</td>\n",
       "    </tr>\n",
       "    <tr>\n",
       "      <th>1</th>\n",
       "      <td>ENSG00000211459</td>\n",
       "      <td>ENST00000389680</td>\n",
       "      <td>1.0</td>\n",
       "      <td>954</td>\n",
       "      <td>MT-RNR1</td>\n",
       "    </tr>\n",
       "  </tbody>\n",
       "</table>\n",
       "</div>"
      ],
      "text/plain": [
       "            GeneID             TrID  EnCanonical  Tr_length_inclUTRCDS  \\\n",
       "0  ENSG00000210049  ENST00000387314          1.0                    71   \n",
       "1  ENSG00000211459  ENST00000389680          1.0                   954   \n",
       "\n",
       "    SYMBOL  \n",
       "0    MT-TF  \n",
       "1  MT-RNR1  "
      ]
     },
     "execution_count": 73,
     "metadata": {},
     "output_type": "execute_result"
    }
   ],
   "source": [
    "biomrt_can_tr_len.head(2)"
   ]
  },
  {
   "cell_type": "code",
   "execution_count": 74,
   "id": "f596d14c",
   "metadata": {},
   "outputs": [
    {
     "data": {
      "text/plain": [
       "['transcript_id',\n",
       " 'SYMBOL_x',\n",
       " 'GeneID',\n",
       " 'TrID',\n",
       " 'EnCanonical',\n",
       " 'Tr_length_inclUTRCDS',\n",
       " 'SYMBOL_y']"
      ]
     },
     "execution_count": 74,
     "metadata": {},
     "output_type": "execute_result"
    }
   ],
   "source": [
    "cantr_symbol_tbl = tr_symbol_tbl.merge(biomrt_can_tr_len, left_on=['transcript_id'], right_on=['TrID'], how=\"right\")\n",
    "list(cantr_symbol_tbl)"
   ]
  },
  {
   "cell_type": "code",
   "execution_count": 75,
   "id": "fe4e2022",
   "metadata": {},
   "outputs": [
    {
     "data": {
      "text/html": [
       "<div>\n",
       "<style scoped>\n",
       "    .dataframe tbody tr th:only-of-type {\n",
       "        vertical-align: middle;\n",
       "    }\n",
       "\n",
       "    .dataframe tbody tr th {\n",
       "        vertical-align: top;\n",
       "    }\n",
       "\n",
       "    .dataframe thead th {\n",
       "        text-align: right;\n",
       "    }\n",
       "</style>\n",
       "<table border=\"1\" class=\"dataframe\">\n",
       "  <thead>\n",
       "    <tr style=\"text-align: right;\">\n",
       "      <th></th>\n",
       "      <th>transcript_id</th>\n",
       "      <th>SYMBOL</th>\n",
       "    </tr>\n",
       "  </thead>\n",
       "  <tbody>\n",
       "    <tr>\n",
       "      <th>0</th>\n",
       "      <td>ENST00000387314</td>\n",
       "      <td>MT-TF</td>\n",
       "    </tr>\n",
       "    <tr>\n",
       "      <th>1</th>\n",
       "      <td>ENST00000389680</td>\n",
       "      <td>MT-RNR1</td>\n",
       "    </tr>\n",
       "    <tr>\n",
       "      <th>2</th>\n",
       "      <td>ENST00000387342</td>\n",
       "      <td>MT-TV</td>\n",
       "    </tr>\n",
       "    <tr>\n",
       "      <th>3</th>\n",
       "      <td>ENST00000387347</td>\n",
       "      <td>MT-RNR2</td>\n",
       "    </tr>\n",
       "    <tr>\n",
       "      <th>4</th>\n",
       "      <td>ENST00000386347</td>\n",
       "      <td>MT-TL1</td>\n",
       "    </tr>\n",
       "    <tr>\n",
       "      <th>...</th>\n",
       "      <td>...</td>\n",
       "      <td>...</td>\n",
       "    </tr>\n",
       "    <tr>\n",
       "      <th>70743</th>\n",
       "      <td>ENST00000374266</td>\n",
       "      <td>ZNF593</td>\n",
       "    </tr>\n",
       "    <tr>\n",
       "      <th>70744</th>\n",
       "      <td>ENST00000361530</td>\n",
       "      <td>CNKSR1</td>\n",
       "    </tr>\n",
       "    <tr>\n",
       "      <th>70745</th>\n",
       "      <td>ENST00000447201</td>\n",
       "      <td>ZPLD2P</td>\n",
       "    </tr>\n",
       "    <tr>\n",
       "      <th>70750</th>\n",
       "      <td>ENST00000456328</td>\n",
       "      <td>DDX11L1</td>\n",
       "    </tr>\n",
       "    <tr>\n",
       "      <th>70751</th>\n",
       "      <td>ENST00000488147</td>\n",
       "      <td>WASH7P</td>\n",
       "    </tr>\n",
       "  </tbody>\n",
       "</table>\n",
       "<p>40190 rows × 2 columns</p>\n",
       "</div>"
      ],
      "text/plain": [
       "         transcript_id   SYMBOL\n",
       "0      ENST00000387314    MT-TF\n",
       "1      ENST00000389680  MT-RNR1\n",
       "2      ENST00000387342    MT-TV\n",
       "3      ENST00000387347  MT-RNR2\n",
       "4      ENST00000386347   MT-TL1\n",
       "...                ...      ...\n",
       "70743  ENST00000374266   ZNF593\n",
       "70744  ENST00000361530   CNKSR1\n",
       "70745  ENST00000447201   ZPLD2P\n",
       "70750  ENST00000456328  DDX11L1\n",
       "70751  ENST00000488147   WASH7P\n",
       "\n",
       "[40190 rows x 2 columns]"
      ]
     },
     "execution_count": 75,
     "metadata": {},
     "output_type": "execute_result"
    }
   ],
   "source": [
    "cantr_symbol_tbl = cantr_symbol_tbl[['transcript_id', 'SYMBOL_x']]\n",
    "cantr_symbol_tbl.columns = ['transcript_id', 'SYMBOL']\n",
    "cantr_symbol_tbl = cantr_symbol_tbl.dropna()\n",
    "cantr_symbol_tbl"
   ]
  },
  {
   "cell_type": "code",
   "execution_count": 76,
   "id": "14f6599d",
   "metadata": {},
   "outputs": [
    {
     "data": {
      "text/html": [
       "<div>\n",
       "<style scoped>\n",
       "    .dataframe tbody tr th:only-of-type {\n",
       "        vertical-align: middle;\n",
       "    }\n",
       "\n",
       "    .dataframe tbody tr th {\n",
       "        vertical-align: top;\n",
       "    }\n",
       "\n",
       "    .dataframe thead th {\n",
       "        text-align: right;\n",
       "    }\n",
       "</style>\n",
       "<table border=\"1\" class=\"dataframe\">\n",
       "  <thead>\n",
       "    <tr style=\"text-align: right;\">\n",
       "      <th></th>\n",
       "      <th>GeneID</th>\n",
       "      <th>TrID</th>\n",
       "      <th>EnCanonical</th>\n",
       "      <th>Tr_length_inclUTRCDS</th>\n",
       "      <th>SYMBOL</th>\n",
       "    </tr>\n",
       "  </thead>\n",
       "  <tbody>\n",
       "    <tr>\n",
       "      <th>0</th>\n",
       "      <td>ENSG00000210049</td>\n",
       "      <td>ENST00000387314</td>\n",
       "      <td>1.0</td>\n",
       "      <td>71</td>\n",
       "      <td>MT-TF</td>\n",
       "    </tr>\n",
       "    <tr>\n",
       "      <th>1</th>\n",
       "      <td>ENSG00000211459</td>\n",
       "      <td>ENST00000389680</td>\n",
       "      <td>1.0</td>\n",
       "      <td>954</td>\n",
       "      <td>MT-RNR1</td>\n",
       "    </tr>\n",
       "    <tr>\n",
       "      <th>2</th>\n",
       "      <td>ENSG00000210077</td>\n",
       "      <td>ENST00000387342</td>\n",
       "      <td>1.0</td>\n",
       "      <td>69</td>\n",
       "      <td>MT-TV</td>\n",
       "    </tr>\n",
       "    <tr>\n",
       "      <th>3</th>\n",
       "      <td>ENSG00000210082</td>\n",
       "      <td>ENST00000387347</td>\n",
       "      <td>1.0</td>\n",
       "      <td>1559</td>\n",
       "      <td>MT-RNR2</td>\n",
       "    </tr>\n",
       "    <tr>\n",
       "      <th>4</th>\n",
       "      <td>ENSG00000209082</td>\n",
       "      <td>ENST00000386347</td>\n",
       "      <td>1.0</td>\n",
       "      <td>75</td>\n",
       "      <td>MT-TL1</td>\n",
       "    </tr>\n",
       "    <tr>\n",
       "      <th>...</th>\n",
       "      <td>...</td>\n",
       "      <td>...</td>\n",
       "      <td>...</td>\n",
       "      <td>...</td>\n",
       "      <td>...</td>\n",
       "    </tr>\n",
       "    <tr>\n",
       "      <th>277075</th>\n",
       "      <td>ENSG00000288629</td>\n",
       "      <td>ENST00000676334</td>\n",
       "      <td>1.0</td>\n",
       "      <td>63</td>\n",
       "      <td>NaN</td>\n",
       "    </tr>\n",
       "    <tr>\n",
       "      <th>277076</th>\n",
       "      <td>ENSG00000288678</td>\n",
       "      <td>ENST00000679970</td>\n",
       "      <td>1.0</td>\n",
       "      <td>66</td>\n",
       "      <td>NaN</td>\n",
       "    </tr>\n",
       "    <tr>\n",
       "      <th>277078</th>\n",
       "      <td>ENSG00000290825</td>\n",
       "      <td>ENST00000456328</td>\n",
       "      <td>1.0</td>\n",
       "      <td>1657</td>\n",
       "      <td>DDX11L2</td>\n",
       "    </tr>\n",
       "    <tr>\n",
       "      <th>277079</th>\n",
       "      <td>ENSG00000227232</td>\n",
       "      <td>ENST00000488147</td>\n",
       "      <td>1.0</td>\n",
       "      <td>1380</td>\n",
       "      <td>WASH7P</td>\n",
       "    </tr>\n",
       "    <tr>\n",
       "      <th>277080</th>\n",
       "      <td>ENSG00000290826</td>\n",
       "      <td>ENST00000642116</td>\n",
       "      <td>1.0</td>\n",
       "      <td>1414</td>\n",
       "      <td>NaN</td>\n",
       "    </tr>\n",
       "  </tbody>\n",
       "</table>\n",
       "<p>70711 rows × 5 columns</p>\n",
       "</div>"
      ],
      "text/plain": [
       "                 GeneID             TrID  EnCanonical  Tr_length_inclUTRCDS  \\\n",
       "0       ENSG00000210049  ENST00000387314          1.0                    71   \n",
       "1       ENSG00000211459  ENST00000389680          1.0                   954   \n",
       "2       ENSG00000210077  ENST00000387342          1.0                    69   \n",
       "3       ENSG00000210082  ENST00000387347          1.0                  1559   \n",
       "4       ENSG00000209082  ENST00000386347          1.0                    75   \n",
       "...                 ...              ...          ...                   ...   \n",
       "277075  ENSG00000288629  ENST00000676334          1.0                    63   \n",
       "277076  ENSG00000288678  ENST00000679970          1.0                    66   \n",
       "277078  ENSG00000290825  ENST00000456328          1.0                  1657   \n",
       "277079  ENSG00000227232  ENST00000488147          1.0                  1380   \n",
       "277080  ENSG00000290826  ENST00000642116          1.0                  1414   \n",
       "\n",
       "         SYMBOL  \n",
       "0         MT-TF  \n",
       "1       MT-RNR1  \n",
       "2         MT-TV  \n",
       "3       MT-RNR2  \n",
       "4        MT-TL1  \n",
       "...         ...  \n",
       "277075      NaN  \n",
       "277076      NaN  \n",
       "277078  DDX11L2  \n",
       "277079   WASH7P  \n",
       "277080      NaN  \n",
       "\n",
       "[70711 rows x 5 columns]"
      ]
     },
     "execution_count": 76,
     "metadata": {},
     "output_type": "execute_result"
    }
   ],
   "source": [
    "biomrt_can_tr_len"
   ]
  },
  {
   "cell_type": "code",
   "execution_count": 77,
   "id": "db92b0f5",
   "metadata": {},
   "outputs": [
    {
     "data": {
      "text/html": [
       "<div>\n",
       "<style scoped>\n",
       "    .dataframe tbody tr th:only-of-type {\n",
       "        vertical-align: middle;\n",
       "    }\n",
       "\n",
       "    .dataframe tbody tr th {\n",
       "        vertical-align: top;\n",
       "    }\n",
       "\n",
       "    .dataframe thead th {\n",
       "        text-align: right;\n",
       "    }\n",
       "</style>\n",
       "<table border=\"1\" class=\"dataframe\">\n",
       "  <thead>\n",
       "    <tr style=\"text-align: right;\">\n",
       "      <th></th>\n",
       "      <th>TrID</th>\n",
       "      <th>exon_count</th>\n",
       "    </tr>\n",
       "  </thead>\n",
       "  <tbody>\n",
       "    <tr>\n",
       "      <th>1</th>\n",
       "      <td>ENST00000000233</td>\n",
       "      <td>6</td>\n",
       "    </tr>\n",
       "    <tr>\n",
       "      <th>2</th>\n",
       "      <td>ENST00000000412</td>\n",
       "      <td>7</td>\n",
       "    </tr>\n",
       "    <tr>\n",
       "      <th>3</th>\n",
       "      <td>ENST00000000442</td>\n",
       "      <td>7</td>\n",
       "    </tr>\n",
       "    <tr>\n",
       "      <th>4</th>\n",
       "      <td>ENST00000001008</td>\n",
       "      <td>10</td>\n",
       "    </tr>\n",
       "    <tr>\n",
       "      <th>5</th>\n",
       "      <td>ENST00000001146</td>\n",
       "      <td>6</td>\n",
       "    </tr>\n",
       "    <tr>\n",
       "      <th>...</th>\n",
       "      <td>...</td>\n",
       "      <td>...</td>\n",
       "    </tr>\n",
       "    <tr>\n",
       "      <th>252926</th>\n",
       "      <td>ENST00000713916</td>\n",
       "      <td>7</td>\n",
       "    </tr>\n",
       "    <tr>\n",
       "      <th>252927</th>\n",
       "      <td>ENST00000713917</td>\n",
       "      <td>6</td>\n",
       "    </tr>\n",
       "    <tr>\n",
       "      <th>252928</th>\n",
       "      <td>ENST00000713920</td>\n",
       "      <td>8</td>\n",
       "    </tr>\n",
       "    <tr>\n",
       "      <th>252929</th>\n",
       "      <td>ENST00000713921</td>\n",
       "      <td>8</td>\n",
       "    </tr>\n",
       "    <tr>\n",
       "      <th>252930</th>\n",
       "      <td>ENST00000713922</td>\n",
       "      <td>8</td>\n",
       "    </tr>\n",
       "  </tbody>\n",
       "</table>\n",
       "<p>252930 rows × 2 columns</p>\n",
       "</div>"
      ],
      "text/plain": [
       "                   TrID  exon_count\n",
       "1       ENST00000000233           6\n",
       "2       ENST00000000412           7\n",
       "3       ENST00000000442           7\n",
       "4       ENST00000001008          10\n",
       "5       ENST00000001146           6\n",
       "...                 ...         ...\n",
       "252926  ENST00000713916           7\n",
       "252927  ENST00000713917           6\n",
       "252928  ENST00000713920           8\n",
       "252929  ENST00000713921           8\n",
       "252930  ENST00000713922           8\n",
       "\n",
       "[252930 rows x 2 columns]"
      ]
     },
     "execution_count": 77,
     "metadata": {},
     "output_type": "execute_result"
    }
   ],
   "source": [
    "n_exons = pd.read_csv('./data/features/gencode_v45_exons.csv', sep='\\t')\n",
    "\n",
    "n_exons.columns = ['TrID', 'exon_count']\n",
    "\n",
    "n_exons"
   ]
  },
  {
   "cell_type": "code",
   "execution_count": 78,
   "id": "f673cc1f",
   "metadata": {},
   "outputs": [
    {
     "data": {
      "text/html": [
       "<div>\n",
       "<style scoped>\n",
       "    .dataframe tbody tr th:only-of-type {\n",
       "        vertical-align: middle;\n",
       "    }\n",
       "\n",
       "    .dataframe tbody tr th {\n",
       "        vertical-align: top;\n",
       "    }\n",
       "\n",
       "    .dataframe thead th {\n",
       "        text-align: right;\n",
       "    }\n",
       "</style>\n",
       "<table border=\"1\" class=\"dataframe\">\n",
       "  <thead>\n",
       "    <tr style=\"text-align: right;\">\n",
       "      <th></th>\n",
       "      <th>TrID</th>\n",
       "      <th>exon_count</th>\n",
       "      <th>GeneID</th>\n",
       "      <th>EnCanonical</th>\n",
       "      <th>Tr_length_inclUTRCDS</th>\n",
       "      <th>SYMBOL</th>\n",
       "    </tr>\n",
       "  </thead>\n",
       "  <tbody>\n",
       "    <tr>\n",
       "      <th>0</th>\n",
       "      <td>ENST00000000233</td>\n",
       "      <td>6</td>\n",
       "      <td>ENSG00000004059</td>\n",
       "      <td>1.0</td>\n",
       "      <td>1032</td>\n",
       "      <td>ARF5</td>\n",
       "    </tr>\n",
       "    <tr>\n",
       "      <th>1</th>\n",
       "      <td>ENST00000000412</td>\n",
       "      <td>7</td>\n",
       "      <td>ENSG00000003056</td>\n",
       "      <td>1.0</td>\n",
       "      <td>2450</td>\n",
       "      <td>M6PR</td>\n",
       "    </tr>\n",
       "    <tr>\n",
       "      <th>2</th>\n",
       "      <td>ENST00000000442</td>\n",
       "      <td>7</td>\n",
       "      <td>ENSG00000173153</td>\n",
       "      <td>1.0</td>\n",
       "      <td>2274</td>\n",
       "      <td>ESRRA</td>\n",
       "    </tr>\n",
       "    <tr>\n",
       "      <th>3</th>\n",
       "      <td>ENST00000001008</td>\n",
       "      <td>10</td>\n",
       "      <td>ENSG00000004478</td>\n",
       "      <td>1.0</td>\n",
       "      <td>3715</td>\n",
       "      <td>FKBP4</td>\n",
       "    </tr>\n",
       "    <tr>\n",
       "      <th>4</th>\n",
       "      <td>ENST00000001146</td>\n",
       "      <td>6</td>\n",
       "      <td>ENSG00000003137</td>\n",
       "      <td>1.0</td>\n",
       "      <td>4556</td>\n",
       "      <td>CYP26B1</td>\n",
       "    </tr>\n",
       "    <tr>\n",
       "      <th>...</th>\n",
       "      <td>...</td>\n",
       "      <td>...</td>\n",
       "      <td>...</td>\n",
       "      <td>...</td>\n",
       "      <td>...</td>\n",
       "      <td>...</td>\n",
       "    </tr>\n",
       "    <tr>\n",
       "      <th>63182</th>\n",
       "      <td>ENST00000713549</td>\n",
       "      <td>3</td>\n",
       "      <td>ENSG00000285508</td>\n",
       "      <td>1.0</td>\n",
       "      <td>570</td>\n",
       "      <td>NaN</td>\n",
       "    </tr>\n",
       "    <tr>\n",
       "      <th>63183</th>\n",
       "      <td>ENST00000713558</td>\n",
       "      <td>1</td>\n",
       "      <td>ENSG00000284934</td>\n",
       "      <td>1.0</td>\n",
       "      <td>135</td>\n",
       "      <td>NaN</td>\n",
       "    </tr>\n",
       "    <tr>\n",
       "      <th>63184</th>\n",
       "      <td>ENST00000713560</td>\n",
       "      <td>3</td>\n",
       "      <td>ENSG00000293543</td>\n",
       "      <td>1.0</td>\n",
       "      <td>567</td>\n",
       "      <td>DUSP13A</td>\n",
       "    </tr>\n",
       "    <tr>\n",
       "      <th>63185</th>\n",
       "      <td>ENST00000713584</td>\n",
       "      <td>1</td>\n",
       "      <td>ENSG00000282936</td>\n",
       "      <td>1.0</td>\n",
       "      <td>3537</td>\n",
       "      <td>NaN</td>\n",
       "    </tr>\n",
       "    <tr>\n",
       "      <th>63186</th>\n",
       "      <td>ENST00000713589</td>\n",
       "      <td>5</td>\n",
       "      <td>ENSG00000205863</td>\n",
       "      <td>1.0</td>\n",
       "      <td>1402</td>\n",
       "      <td>C1QTNF9B</td>\n",
       "    </tr>\n",
       "  </tbody>\n",
       "</table>\n",
       "<p>63187 rows × 6 columns</p>\n",
       "</div>"
      ],
      "text/plain": [
       "                  TrID  exon_count           GeneID  EnCanonical  \\\n",
       "0      ENST00000000233           6  ENSG00000004059          1.0   \n",
       "1      ENST00000000412           7  ENSG00000003056          1.0   \n",
       "2      ENST00000000442           7  ENSG00000173153          1.0   \n",
       "3      ENST00000001008          10  ENSG00000004478          1.0   \n",
       "4      ENST00000001146           6  ENSG00000003137          1.0   \n",
       "...                ...         ...              ...          ...   \n",
       "63182  ENST00000713549           3  ENSG00000285508          1.0   \n",
       "63183  ENST00000713558           1  ENSG00000284934          1.0   \n",
       "63184  ENST00000713560           3  ENSG00000293543          1.0   \n",
       "63185  ENST00000713584           1  ENSG00000282936          1.0   \n",
       "63186  ENST00000713589           5  ENSG00000205863          1.0   \n",
       "\n",
       "       Tr_length_inclUTRCDS    SYMBOL  \n",
       "0                      1032      ARF5  \n",
       "1                      2450      M6PR  \n",
       "2                      2274     ESRRA  \n",
       "3                      3715     FKBP4  \n",
       "4                      4556   CYP26B1  \n",
       "...                     ...       ...  \n",
       "63182                   570       NaN  \n",
       "63183                   135       NaN  \n",
       "63184                   567   DUSP13A  \n",
       "63185                  3537       NaN  \n",
       "63186                  1402  C1QTNF9B  \n",
       "\n",
       "[63187 rows x 6 columns]"
      ]
     },
     "execution_count": 78,
     "metadata": {},
     "output_type": "execute_result"
    }
   ],
   "source": [
    "n_exons_can= n_exons.merge(biomrt_can_tr_len, on=['TrID'], how='inner')\n",
    "n_exons_can"
   ]
  },
  {
   "cell_type": "code",
   "execution_count": null,
   "id": "ca600f31",
   "metadata": {},
   "outputs": [],
   "source": [
    "# intersect with COI and NO-COI datasets\n",
    "\n",
    "# All\n",
    "coi_genes_ex = n_exons_can[n_exons_can['SYMBOL'].isin(coi_genes_list)]\n",
    "coi_genes_ex['FLAG'] = 'COI'\n",
    "\n",
    "nocoi_genes_ex = n_exons_can[n_exons_can['SYMBOL'].isin(nocoi_genes_list)]\n",
    "nocoi_genes_ex['FLAG'] = 'NO_COI'\n",
    "\n",
    "exon_count = pd.concat([coi_genes_ex, nocoi_genes_ex])\n"
   ]
  },
  {
   "cell_type": "code",
   "execution_count": 79,
   "id": "e255c462",
   "metadata": {},
   "outputs": [
    {
     "name": "stderr",
     "output_type": "stream",
     "text": [
      "/var/folders/sy/0s6mz48x25xdw7n08d30rp5w0000gn/T/ipykernel_7699/3023909197.py:5: SettingWithCopyWarning: \n",
      "A value is trying to be set on a copy of a slice from a DataFrame.\n",
      "Try using .loc[row_indexer,col_indexer] = value instead\n",
      "\n",
      "See the caveats in the documentation: https://pandas.pydata.org/pandas-docs/stable/user_guide/indexing.html#returning-a-view-versus-a-copy\n",
      "  coi_genes_ex['FLAG'] = 'COI'\n",
      "/var/folders/sy/0s6mz48x25xdw7n08d30rp5w0000gn/T/ipykernel_7699/3023909197.py:8: SettingWithCopyWarning: \n",
      "A value is trying to be set on a copy of a slice from a DataFrame.\n",
      "Try using .loc[row_indexer,col_indexer] = value instead\n",
      "\n",
      "See the caveats in the documentation: https://pandas.pydata.org/pandas-docs/stable/user_guide/indexing.html#returning-a-view-versus-a-copy\n",
      "  nocoi_genes_ex['FLAG'] = 'NO_COI'\n"
     ]
    }
   ],
   "source": [
    "# intersect with COI and NO-COI datasets\n",
    "\n",
    "# P genes\n",
    "coi_genes_ex = n_exons_can[n_exons_can['SYMBOL'].isin(coi_pgenes_list)]\n",
    "coi_genes_ex['FLAG'] = 'COI'\n",
    "\n",
    "nocoi_genes_ex = n_exons_can[n_exons_can['SYMBOL'].isin(pathogenic_genes_list_nocoi)]\n",
    "nocoi_genes_ex['FLAG'] = 'NO_COI'\n",
    "\n",
    "exon_count = pd.concat([coi_genes_ex, nocoi_genes_ex])\n"
   ]
  },
  {
   "cell_type": "code",
   "execution_count": 80,
   "id": "84bbc1fd",
   "metadata": {},
   "outputs": [],
   "source": [
    "exon_count.to_csv('./plots/exons_pgenes.csv', sep=',', index=False)"
   ]
  },
  {
   "cell_type": "code",
   "execution_count": 81,
   "id": "76969441",
   "metadata": {},
   "outputs": [
    {
     "name": "stdout",
     "output_type": "stream",
     "text": [
      "(290, 7)\n",
      "(3613, 7)\n"
     ]
    },
    {
     "name": "stderr",
     "output_type": "stream",
     "text": [
      "/var/folders/sy/0s6mz48x25xdw7n08d30rp5w0000gn/T/ipykernel_7699/1671862773.py:4: SettingWithCopyWarning: \n",
      "A value is trying to be set on a copy of a slice from a DataFrame.\n",
      "Try using .loc[row_indexer,col_indexer] = value instead\n",
      "\n",
      "See the caveats in the documentation: https://pandas.pydata.org/pandas-docs/stable/user_guide/indexing.html#returning-a-view-versus-a-copy\n",
      "  ecoi_pgenes_ex['FLAG'] = 'E_COI'\n",
      "/var/folders/sy/0s6mz48x25xdw7n08d30rp5w0000gn/T/ipykernel_7699/1671862773.py:8: SettingWithCopyWarning: \n",
      "A value is trying to be set on a copy of a slice from a DataFrame.\n",
      "Try using .loc[row_indexer,col_indexer] = value instead\n",
      "\n",
      "See the caveats in the documentation: https://pandas.pydata.org/pandas-docs/stable/user_guide/indexing.html#returning-a-view-versus-a-copy\n",
      "  coi_pgenes_ex['FLAG'] = 'COI'\n"
     ]
    }
   ],
   "source": [
    "# EA genes\n",
    "\n",
    "ecoi_pgenes_ex = n_exons_can[n_exons_can['SYMBOL'].isin(ea_coi_pgenes_list)]\n",
    "ecoi_pgenes_ex['FLAG'] = 'E_COI'\n",
    "print(ecoi_pgenes_ex.shape)\n",
    "\n",
    "coi_pgenes_ex = n_exons_can[n_exons_can['SYMBOL'].isin(coi_pgenes_list)]\n",
    "coi_pgenes_ex['FLAG'] = 'COI'\n",
    "print(coi_pgenes_ex.shape)\n",
    "\n",
    "# concat\n",
    "exon_count = pd.concat([ecoi_pgenes_ex,coi_pgenes_ex])"
   ]
  },
  {
   "cell_type": "code",
   "execution_count": 82,
   "id": "995fe22f",
   "metadata": {},
   "outputs": [],
   "source": [
    "exon_count.to_csv('./plots/exons_ea.csv', sep=',', index=False)"
   ]
  },
  {
   "cell_type": "code",
   "execution_count": 121,
   "id": "78ad10c2",
   "metadata": {},
   "outputs": [
    {
     "data": {
      "image/png": "[encoded data removed]",
      "text/plain": [
       "<IPython.core.display.Image object>"
      ]
     },
     "metadata": {},
     "output_type": "display_data"
    }
   ],
   "source": [
    "%%R -i exon_count\n",
    "\n",
    "exon_count_flt <- exon_count[exon_count$exon_count > 0, ]\n",
    "exon_count_flt <- exon_count_flt[exon_count_flt$exon_count <300, ]\n",
    "\n",
    "exon_v <- ggplot(exon_count_flt, aes(x=FLAG, y=exon_count, fill=FLAG)) +\n",
    "\n",
    "geom_violin(alpha=0.25, trim=FALSE) + theme_bw() +\n",
    "theme(axis.text = element_text(size = 10),\n",
    "      axis.title =  element_text(size=14, face=\"bold\"), legend.position = \"none\") + #scale_fill_manual(values=c(\"#3B75E9\",\"#F32737\")) +\n",
    "scale_fill_manual(values=c(\"#833B49\", \"#256C68\")) +\n",
    "xlab('') + ylab('N of exons') \n",
    "\n",
    "exon_v <- exon_v + geom_boxplot(width=0.1, outlier.shape = NA)\n",
    "exon_v"
   ]
  },
  {
   "cell_type": "code",
   "execution_count": 119,
   "id": "28cb83f9",
   "metadata": {},
   "outputs": [
    {
     "name": "stdout",
     "output_type": "stream",
     "text": [
      "\n",
      "\tWilcoxon rank sum test with continuity correction\n",
      "\n",
      "data:  exon_count$exon_count[exon_count$FLAG == \"NO_COI\"] and exon_count$exon_count[exon_count$FLAG == \"COI\"]\n",
      "W = 1516935, p-value < 2.2e-16\n",
      "alternative hypothesis: true location shift is not equal to 0\n",
      "\n"
     ]
    }
   ],
   "source": [
    "%%R\n",
    "\n",
    "exon_count <- exon_count[exon_count$exon_count > 0, ]\n",
    "wilcox.test(exon_count$exon_count[exon_count$FLAG == 'NO_COI'], exon_count$exon_count[exon_count$FLAG == 'COI']) \n",
    "#wilcox.test(exon_count$exon_count[exon_count$FLAG == 'COI'], exon_count$exon_count[exon_count$FLAG == 'Enr_COI']) "
   ]
  }
 ],
 "metadata": {
  "kernelspec": {
   "display_name": "Python 3 (ipykernel)",
   "language": "python",
   "name": "python3"
  },
  "language_info": {
   "codemirror_mode": {
    "name": "ipython",
    "version": 3
   },
   "file_extension": ".py",
   "mimetype": "text/x-python",
   "name": "python",
   "nbconvert_exporter": "python",
   "pygments_lexer": "ipython3",
   "version": "3.11.5"
  }
 },
 "nbformat": 4,
 "nbformat_minor": 5
}
