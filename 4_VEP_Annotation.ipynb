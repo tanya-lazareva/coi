{
 "cells": [
  {
   "cell_type": "markdown",
   "id": "b1991e21",
   "metadata": {},
   "source": [
    "# Library"
   ]
  },
  {
   "cell_type": "markdown",
   "id": "bc0008d6",
   "metadata": {},
   "source": [
    "## Python packages "
   ]
  },
  {
   "cell_type": "code",
   "execution_count": 1,
   "id": "367e91af",
   "metadata": {},
   "outputs": [
    {
     "name": "stderr",
     "output_type": "stream",
     "text": [
      "/Users/tanya/anaconda3/lib/python3.11/site-packages/pandas/core/arrays/masked.py:60: UserWarning: Pandas requires version '1.3.6' or newer of 'bottleneck' (version '1.3.5' currently installed).\n",
      "  from pandas.core import (\n"
     ]
    }
   ],
   "source": [
    "import pandas as pd\n",
    "import numpy as np\n",
    "import regex as re\n",
    "import rpy2\n",
    "import os\n",
    "import functools as fct\n",
    "from collections import Counter\n",
    "import pickle "
   ]
  },
  {
   "cell_type": "markdown",
   "id": "4f4499b0",
   "metadata": {},
   "source": [
    "## R packages "
   ]
  },
  {
   "cell_type": "code",
   "execution_count": 2,
   "id": "4f65391c",
   "metadata": {},
   "outputs": [],
   "source": [
    "%load_ext rpy2.ipython"
   ]
  },
  {
   "cell_type": "code",
   "execution_count": 3,
   "id": "9efc5f80",
   "metadata": {},
   "outputs": [
    {
     "data": {
      "text/plain": [
       "Use suppressPackageStartupMessages() to eliminate package startup\n",
       "messages\n",
       "\n",
       "Attaching package: ‘dplyr’\n",
       "\n",
       "The following objects are masked from ‘package:stats’:\n",
       "\n",
       "    filter, lag\n",
       "\n",
       "The following objects are masked from ‘package:base’:\n",
       "\n",
       "    intersect, setdiff, setequal, union\n",
       "\n"
      ]
     },
     "metadata": {},
     "output_type": "display_data"
    }
   ],
   "source": [
    "%%R\n",
    "library(rlang)\n",
    "library(ggplot2)\n",
    "library(dplyr)\n",
    "library(scales)\n",
    "library(reshape2)\n",
    "library(cowplot)\n",
    "library(treemapify)"
   ]
  },
  {
   "cell_type": "markdown",
   "id": "b5db9dfe",
   "metadata": {},
   "source": [
    "## Set paths "
   ]
  },
  {
   "cell_type": "code",
   "execution_count": 14,
   "id": "369f2b02",
   "metadata": {},
   "outputs": [],
   "source": [
    "path_to_vcfs = '/Users/tanya/Documents/OTT/Conflicts_ClinVar/data'   # path to initial ClinVar dfs\n",
    "path_to_gatk = '/Users/tanya/Documents/tools/gatk-4.5.0.0/gatk'\n",
    "path_to_tables = '/Users/tanya/Documents/OTT/Conflicts_ClinVar/tables'\n",
    "path_to_plots = '/Users/tanya/Documents/OTT/Conflicts_ClinVar/plots'\n",
    "path_to_temp = '/Users/tanya/Documents/OTT/Conflicts_ClinVar/temp'\n",
    "\n",
    "\n",
    "path_to_data = '/Users/tanya/Documents/OTT/Conflicts_ClinVar/data' "
   ]
  },
  {
   "cell_type": "markdown",
   "id": "2d72b5dd",
   "metadata": {},
   "source": [
    "## Load data "
   ]
  },
  {
   "cell_type": "code",
   "execution_count": 5,
   "id": "24a651c3",
   "metadata": {},
   "outputs": [],
   "source": [
    "with open(f'{path_to_temp}/coi_clnsig.pkl', 'rb') as file:  # load coi_clnsig dict\n",
    "    coi_clnsig = pickle.load(file)\n",
    "    \n",
    "with open(f'{path_to_temp}/cv_dict.pkl', 'rb') as file:  # load main dict\n",
    "    cv_dict = pickle.load(file)"
   ]
  },
  {
   "cell_type": "markdown",
   "id": "0e3e1258",
   "metadata": {},
   "source": [
    "# Collect data to VEP annotation"
   ]
  },
  {
   "cell_type": "markdown",
   "id": "5695317e",
   "metadata": {},
   "source": [
    "### COI"
   ]
  },
  {
   "cell_type": "code",
   "execution_count": 6,
   "id": "5df5e355",
   "metadata": {},
   "outputs": [
    {
     "name": "stdout",
     "output_type": "stream",
     "text": [
      "(131280, 8)\n"
     ]
    }
   ],
   "source": [
    "# List of IDs to filter by\n",
    "\n",
    "coi_ids_list = coi_clnsig.keys() \n",
    "\n",
    "# Filter rows based on ID from the list of COI\n",
    "\n",
    "coi_coords = cv_dict['clinvar_20240407'][cv_dict['clinvar_20240407']['ID'].isin(coi_ids_list)]\n",
    "\n",
    "coi_coords = coi_coords[['CHROM', 'POS', 'ID', 'REF', 'ALT', 'QUAL', 'FILTER']]\n",
    "coi_coords.columns = ['#CHROM', 'POS', 'ID', 'REF', 'ALT', 'QUAL', 'FILTER']\n",
    "coi_coords['INFO'] = ''\n",
    "\n",
    "print(coi_coords.shape)"
   ]
  },
  {
   "cell_type": "code",
   "execution_count": null,
   "id": "aaf7a7af",
   "metadata": {},
   "outputs": [],
   "source": [
    "coi_coords.to_csv(f'{path_to_temp}/COI.vcf', sep='\\t', index=False)\n",
    "\n",
    "! cat ./temp/header.vcf ./temp/COI.vcf > ./temp/coi_to_VEP.vcf\n",
    "! rm ./temp/COI.vcf"
   ]
  },
  {
   "cell_type": "code",
   "execution_count": null,
   "id": "b94c414a",
   "metadata": {},
   "outputs": [],
   "source": [
    "# cmd-line VEP annotation\n",
    "# PATH = /media/DATA/tl_projects/conflicts_clinvar/vcfs\n",
    "\n",
    "docker run --user {id_u:id_g} -v '/media/DATA/ott_ngs/data/grch38/vep':'/vep_data' \\\n",
    "        -v '/media/DATA/tl_projects/conflicts_clinvar/vcfs':'/vcfs' \\\n",
    "        -v '/media/DATA/ott_ngs/data/grch38/broad_ref':'/fasta' ensemblorg/ensembl-vep vep \\\n",
    "        --cache --offline --format vcf --vcf --force_overwrite --force --refseq  --af \\\n",
    "        --af_gnomadg --max_af --hgvs  --no_escape --canonical \\\n",
    "        --fasta /fasta/Homo_sapiens_assembly38.fasta \\\n",
    "        --dir_cache /vep_data \\\n",
    "        --dir_plugins /vep_data/Plugins \\\n",
    "        --custom /vep_data/clinvar_20230930.vcf.gz,ClinVar,vcf,exact,0,CLNSIG,CLNSIGCONF,CLNREVSTAT,CLNDN,CLNDISDBINCL  \\\n",
    "        --custom /vep_data/ruseq.sites.v1.1.vcf.gz,LOCALAFDB,vcf,exact,0,AF_healthy \\\n",
    "        --custom /vep_data/CosmicCodingMuts.vcf.gz,COSMIC,vcf,exact,0 \\\n",
    "        --plugin dbNSFP,/vep_data/dbNSFP4.1a.txt.gz,PROVEAN_pred,SIFT_pred,Polyphen2_HVAR_pred \\\n",
    "        --input_file /vcfs/coi_to_VEP.vcf  \\\n",
    "        --output_file /vcfs/COI.VEP.vcf"
   ]
  },
  {
   "cell_type": "code",
   "execution_count": null,
   "id": "7dd9fa58",
   "metadata": {},
   "outputs": [],
   "source": [
    "! bgzip -c COI.VEP.vcf > COI.VEP.vcf.gz\n",
    "! tabix -p vcf COI.VEP.vcf.gz"
   ]
  },
  {
   "cell_type": "code",
   "execution_count": null,
   "id": "3b54145d",
   "metadata": {},
   "outputs": [],
   "source": [
    "# bcftools +split-vep\n",
    "\n",
    "! bcftools +split-vep -s worst -f '%CHROM %POS %ID %REF %ALT %SYMBOL %IMPACT %Consequence %MAX_AF %MAX_AF_POPS %gnomADg_AF %gnomADg_AFR_AF %gnomADg_AMI_AF %gnomADg_AMR_AF %gnomADg_ASJ_AF %gnomADg_EAS_AF %gnomADg_FIN_AF %gnomADg_MID_AF %gnomADg_NFE_AF %gnomADg_OTH_AF %gnomADg_SAS_AF %LOCALAFDB_AF_healthy\\n' COI.VEP.vcf.gz"
   ]
  },
  {
   "cell_type": "code",
   "execution_count": 10,
   "id": "c1ed5579",
   "metadata": {},
   "outputs": [],
   "source": [
    "! awk -v OFS=\"\\t\" '$1=$1' ./temp/COI.VEP.csv > ./temp/COI1.VEP.csv\n",
    "! rm ./temp/COI.VEP.csv\n",
    "! mv ./temp/COI1.VEP.csv ./temp/COI.VEP.csv"
   ]
  },
  {
   "cell_type": "markdown",
   "id": "c3f119e1",
   "metadata": {},
   "source": [
    "### noCOI "
   ]
  },
  {
   "cell_type": "code",
   "execution_count": null,
   "id": "d3a584e7",
   "metadata": {},
   "outputs": [],
   "source": [
    "no_coi_coords =  cv_dict['clinvar_20240407'][~cv_dict['clinvar_20240407']['ID'].isin(coi_ids_list)]\n",
    "\n",
    "no_coi_coords = no_coi_coords[['CHROM', 'POS', 'ID', 'REF', 'ALT', 'QUAL','FILTER']]\n",
    "no_coi_coords.columns = ['#CHROM', 'POS', 'ID', 'REF', 'ALT', 'QUAL', 'FILTER']\n",
    "no_coi_coords['INFO'] = ''\n",
    "print(no_coi_coords.shape)"
   ]
  },
  {
   "cell_type": "code",
   "execution_count": null,
   "id": "b42fd304",
   "metadata": {},
   "outputs": [],
   "source": [
    "# cmd-line VEP annotation\n",
    "# PATH = /media/DATA/tl_projects/conflicts_clinvar/vcfs\n",
    "\n",
    "docker run --user 1003:1001 -v '/media/DATA/ott_ngs/data/grch38/vep':'/vep_data' \\\n",
    "        -v '/media/DATA/tl_projects/conflicts_clinvar/vcfs':'/vcfs' \\\n",
    "        -v '/media/DATA/ott_ngs/data/grch38/broad_ref':'/fasta' ensemblorg/ensembl-vep vep \\\n",
    "        --cache --offline --format vcf --vcf --force_overwrite --force --refseq  --af \\\n",
    "        --af_gnomadg --max_af --hgvs  --no_escape --canonical \\\n",
    "        --fasta /fasta/Homo_sapiens_assembly38.fasta \\\n",
    "        --dir_cache /vep_data \\\n",
    "        --dir_plugins /vep_data/Plugins \\\n",
    "        --custom /vep_data/clinvar_20230930.vcf.gz,ClinVar,vcf,exact,0,CLNSIG,CLNSIGCONF,CLNREVSTAT,CLNDN,CLNDISDBINCL  \\\n",
    "        --custom /vep_data/ruseq.sites.v1.1.vcf.gz,LOCALAFDB,vcf,exact,0,AF_healthy \\\n",
    "        --custom /vep_data/CosmicCodingMuts.vcf.gz,COSMIC,vcf,exact,0 \\\n",
    "        --plugin dbNSFP,/vep_data/dbNSFP4.1a.txt.gz,PROVEAN_pred,SIFT_pred,Polyphen2_HVAR_pred \\\n",
    "        --input_file /vcfs/nocoi_to_VEP.vcf  \\\n",
    "        --output_file /vcfs/no_coi_20230930.VEP.vcf"
   ]
  },
  {
   "cell_type": "code",
   "execution_count": null,
   "id": "af5be436",
   "metadata": {},
   "outputs": [],
   "source": [
    "# \n",
    "\n",
    "! bgzip -c  bgzip -c nocoi_20240407.VEP.vcf > nocoi_20240407.VEP.vcf.gz\n",
    "! tabix -p vcf nocoi_20240407.VEP.vcf.gz"
   ]
  },
  {
   "cell_type": "code",
   "execution_count": null,
   "id": "60753bea",
   "metadata": {},
   "outputs": [],
   "source": [
    "# bcftools +split-vep\n",
    "\n",
    "! bcftools +split-vep -s worst -f '%CHROM %POS %ID %REF %ALT %SYMBOL %IMPACT %Consequence %MAX_AF %MAX_AF_POPS %gnomADg_AF %gnomADg_AFR_AF %gnomADg_AMI_AF %gnomADg_AMR_AF %gnomADg_ASJ_AF %gnomADg_EAS_AF %gnomADg_FIN_AF %gnomADg_MID_AF %gnomADg_NFE_AF %gnomADg_OTH_AF %gnomADg_SAS_AF %LOCALAFDB_AF_healthy\\n' nocoi_20240407.VEP.vcf.gz > nocoi_20240407.VEP.csv"
   ]
  },
  {
   "cell_type": "code",
   "execution_count": null,
   "id": "0f0d608b",
   "metadata": {},
   "outputs": [],
   "source": [
    "! awk -v OFS=\"\\t\" '$1=$1' no_coi_20230930.VEP.csv > noCOI_20230930.VEP.csv"
   ]
  },
  {
   "cell_type": "markdown",
   "id": "e7a25757",
   "metadata": {},
   "source": [
    "## merge after VEP annotation"
   ]
  },
  {
   "cell_type": "code",
   "execution_count": 7,
   "id": "539c200f",
   "metadata": {},
   "outputs": [
    {
     "name": "stderr",
     "output_type": "stream",
     "text": [
      "/var/folders/sy/0s6mz48x25xdw7n08d30rp5w0000gn/T/ipykernel_34557/1420700278.py:3: DtypeWarning: Columns (0) have mixed types. Specify dtype option on import or set low_memory=False.\n",
      "  coi_vep = pd.read_csv(f'{path_to_tables}/COI.VEP.csv', sep='\\t', header=None)\n"
     ]
    },
    {
     "name": "stdout",
     "output_type": "stream",
     "text": [
      "(134238, 25)\n"
     ]
    },
    {
     "data": {
      "text/html": [
       "<div>\n",
       "<style scoped>\n",
       "    .dataframe tbody tr th:only-of-type {\n",
       "        vertical-align: middle;\n",
       "    }\n",
       "\n",
       "    .dataframe tbody tr th {\n",
       "        vertical-align: top;\n",
       "    }\n",
       "\n",
       "    .dataframe thead th {\n",
       "        text-align: right;\n",
       "    }\n",
       "</style>\n",
       "<table border=\"1\" class=\"dataframe\">\n",
       "  <thead>\n",
       "    <tr style=\"text-align: right;\">\n",
       "      <th></th>\n",
       "      <th>CHROM</th>\n",
       "      <th>POS</th>\n",
       "      <th>ID</th>\n",
       "      <th>REF</th>\n",
       "      <th>ALT</th>\n",
       "      <th>SYMBOL</th>\n",
       "      <th>IMPACT</th>\n",
       "      <th>Consequence</th>\n",
       "      <th>MAX_AF</th>\n",
       "      <th>MAX_AF_POPS</th>\n",
       "      <th>...</th>\n",
       "      <th>gnomADg_EAS_AF</th>\n",
       "      <th>gnomADg_FIN_AF</th>\n",
       "      <th>gnomADg_MID_AF</th>\n",
       "      <th>gnomADg_NFE_AF</th>\n",
       "      <th>gnomADg_OTH_AF</th>\n",
       "      <th>gnomADg_SAS_AF</th>\n",
       "      <th>LOCALAFDB_AF_healthy</th>\n",
       "      <th>CLNVC</th>\n",
       "      <th>CLNDISDB</th>\n",
       "      <th>CLNSIG_MASK</th>\n",
       "    </tr>\n",
       "  </thead>\n",
       "  <tbody>\n",
       "    <tr>\n",
       "      <th>0</th>\n",
       "      <td>1</td>\n",
       "      <td>930200</td>\n",
       "      <td>1043045</td>\n",
       "      <td>G</td>\n",
       "      <td>A</td>\n",
       "      <td>SAMD11</td>\n",
       "      <td>MODERATE</td>\n",
       "      <td>missense_variant</td>\n",
       "      <td>0.001348</td>\n",
       "      <td>gnomADg_EAS</td>\n",
       "      <td>...</td>\n",
       "      <td>0.001348</td>\n",
       "      <td>0</td>\n",
       "      <td>0</td>\n",
       "      <td>1.47e-05</td>\n",
       "      <td>0</td>\n",
       "      <td>0</td>\n",
       "      <td>.</td>\n",
       "      <td>NaN</td>\n",
       "      <td>NaN</td>\n",
       "      <td>COI</td>\n",
       "    </tr>\n",
       "    <tr>\n",
       "      <th>1</th>\n",
       "      <td>1</td>\n",
       "      <td>935839</td>\n",
       "      <td>1085785</td>\n",
       "      <td>C</td>\n",
       "      <td>T</td>\n",
       "      <td>SAMD11</td>\n",
       "      <td>MODERATE</td>\n",
       "      <td>missense_variant</td>\n",
       "      <td>0.005476</td>\n",
       "      <td>gnomADg_ASJ</td>\n",
       "      <td>...</td>\n",
       "      <td>0</td>\n",
       "      <td>0</td>\n",
       "      <td>0</td>\n",
       "      <td>0.0001029</td>\n",
       "      <td>0</td>\n",
       "      <td>0</td>\n",
       "      <td>.</td>\n",
       "      <td>NaN</td>\n",
       "      <td>NaN</td>\n",
       "      <td>COI</td>\n",
       "    </tr>\n",
       "    <tr>\n",
       "      <th>2</th>\n",
       "      <td>1</td>\n",
       "      <td>939117</td>\n",
       "      <td>1427749</td>\n",
       "      <td>G</td>\n",
       "      <td>A</td>\n",
       "      <td>SAMD11</td>\n",
       "      <td>MODERATE</td>\n",
       "      <td>missense_variant</td>\n",
       "      <td>0.0004776</td>\n",
       "      <td>gnomADg_OTH</td>\n",
       "      <td>...</td>\n",
       "      <td>0</td>\n",
       "      <td>0</td>\n",
       "      <td>0</td>\n",
       "      <td>2.94e-05</td>\n",
       "      <td>0.0004776</td>\n",
       "      <td>0</td>\n",
       "      <td>.</td>\n",
       "      <td>NaN</td>\n",
       "      <td>NaN</td>\n",
       "      <td>COI</td>\n",
       "    </tr>\n",
       "  </tbody>\n",
       "</table>\n",
       "<p>3 rows × 25 columns</p>\n",
       "</div>"
      ],
      "text/plain": [
       "  CHROM     POS       ID REF ALT  SYMBOL    IMPACT       Consequence  \\\n",
       "0     1  930200  1043045   G   A  SAMD11  MODERATE  missense_variant   \n",
       "1     1  935839  1085785   C   T  SAMD11  MODERATE  missense_variant   \n",
       "2     1  939117  1427749   G   A  SAMD11  MODERATE  missense_variant   \n",
       "\n",
       "      MAX_AF  MAX_AF_POPS  ... gnomADg_EAS_AF gnomADg_FIN_AF gnomADg_MID_AF  \\\n",
       "0   0.001348  gnomADg_EAS  ...       0.001348              0              0   \n",
       "1   0.005476  gnomADg_ASJ  ...              0              0              0   \n",
       "2  0.0004776  gnomADg_OTH  ...              0              0              0   \n",
       "\n",
       "  gnomADg_NFE_AF gnomADg_OTH_AF gnomADg_SAS_AF LOCALAFDB_AF_healthy CLNVC  \\\n",
       "0       1.47e-05              0              0                    .   NaN   \n",
       "1      0.0001029              0              0                    .   NaN   \n",
       "2       2.94e-05      0.0004776              0                    .   NaN   \n",
       "\n",
       "  CLNDISDB CLNSIG_MASK  \n",
       "0      NaN         COI  \n",
       "1      NaN         COI  \n",
       "2      NaN         COI  \n",
       "\n",
       "[3 rows x 25 columns]"
      ]
     },
     "execution_count": 7,
     "metadata": {},
     "output_type": "execute_result"
    }
   ],
   "source": [
    "# Load COI df\n",
    "\n",
    "coi_vep = pd.read_csv(f'{path_to_tables}/COI.VEP.csv', sep='\\t', header=None)\n",
    "coi_vep.columns = ['CHROM', 'POS', 'ID', 'REF', 'ALT', 'SYMBOL', 'IMPACT', 'Consequence', 'MAX_AF', 'MAX_AF_POPS',\n",
    "                   'gnomADg_AF', 'gnomADg_AFR_AF', 'gnomADg_AMI_AF', 'gnomADg_AMR_AF', \n",
    "                   'gnomADg_ASJ_AF', 'gnomADg_EAS_AF', 'gnomADg_FIN_AF', 'gnomADg_MID_AF',\n",
    "                   'gnomADg_NFE_AF', 'gnomADg_OTH_AF', 'gnomADg_SAS_AF', 'LOCALAFDB_AF_healthy']\n",
    "\n",
    "# add molecular change information\n",
    "\n",
    "add_info = cv_dict['clinvar_20240407'][['ID','CLNVC', 'CLNDISDB']]\n",
    "coi_vep = coi_vep.merge(add_info, on=['ID'], how='left')\n",
    "\n",
    "# mark COI\n",
    "coi_vep['CLNSIG_MASK'] = 'COI'\n",
    "print(coi_vep.shape)\n",
    "coi_vep.head(3)"
   ]
  },
  {
   "cell_type": "code",
   "execution_count": 8,
   "id": "66418bcc",
   "metadata": {},
   "outputs": [
    {
     "name": "stderr",
     "output_type": "stream",
     "text": [
      "/var/folders/sy/0s6mz48x25xdw7n08d30rp5w0000gn/T/ipykernel_34557/3745659847.py:3: DtypeWarning: Columns (0) have mixed types. Specify dtype option on import or set low_memory=False.\n",
      "  nocoi_vep = pd.read_csv(f'{path_to_tables}/nocoi_20240407.VEP.csv', sep='\\t', header=None)\n"
     ]
    },
    {
     "name": "stdout",
     "output_type": "stream",
     "text": [
      "(2591000, 25)\n"
     ]
    },
    {
     "data": {
      "text/html": [
       "<div>\n",
       "<style scoped>\n",
       "    .dataframe tbody tr th:only-of-type {\n",
       "        vertical-align: middle;\n",
       "    }\n",
       "\n",
       "    .dataframe tbody tr th {\n",
       "        vertical-align: top;\n",
       "    }\n",
       "\n",
       "    .dataframe thead th {\n",
       "        text-align: right;\n",
       "    }\n",
       "</style>\n",
       "<table border=\"1\" class=\"dataframe\">\n",
       "  <thead>\n",
       "    <tr style=\"text-align: right;\">\n",
       "      <th></th>\n",
       "      <th>CHROM</th>\n",
       "      <th>POS</th>\n",
       "      <th>ID</th>\n",
       "      <th>REF</th>\n",
       "      <th>ALT</th>\n",
       "      <th>SYMBOL</th>\n",
       "      <th>IMPACT</th>\n",
       "      <th>Consequence</th>\n",
       "      <th>MAX_AF</th>\n",
       "      <th>MAX_AF_POPS</th>\n",
       "      <th>...</th>\n",
       "      <th>gnomADg_EAS_AF</th>\n",
       "      <th>gnomADg_FIN_AF</th>\n",
       "      <th>gnomADg_MID_AF</th>\n",
       "      <th>gnomADg_NFE_AF</th>\n",
       "      <th>gnomADg_OTH_AF</th>\n",
       "      <th>gnomADg_SAS_AF</th>\n",
       "      <th>LOCALAFDB_AF_healthy</th>\n",
       "      <th>CLNVC</th>\n",
       "      <th>CLNDISDB</th>\n",
       "      <th>CLNSIG_MASK</th>\n",
       "    </tr>\n",
       "  </thead>\n",
       "  <tbody>\n",
       "    <tr>\n",
       "      <th>0</th>\n",
       "      <td>1</td>\n",
       "      <td>69134</td>\n",
       "      <td>2205837</td>\n",
       "      <td>A</td>\n",
       "      <td>G</td>\n",
       "      <td>OR4F5</td>\n",
       "      <td>MODERATE</td>\n",
       "      <td>missense_variant</td>\n",
       "      <td>0.08805</td>\n",
       "      <td>gnomADe_ASJ</td>\n",
       "      <td>...</td>\n",
       "      <td>0</td>\n",
       "      <td>0</td>\n",
       "      <td>0</td>\n",
       "      <td>0.0002006</td>\n",
       "      <td>0</td>\n",
       "      <td>0.003012</td>\n",
       "      <td>.</td>\n",
       "      <td>NaN</td>\n",
       "      <td>NaN</td>\n",
       "      <td>NaN</td>\n",
       "    </tr>\n",
       "    <tr>\n",
       "      <th>1</th>\n",
       "      <td>1</td>\n",
       "      <td>69581</td>\n",
       "      <td>2252161</td>\n",
       "      <td>C</td>\n",
       "      <td>G</td>\n",
       "      <td>OR4F5</td>\n",
       "      <td>MODERATE</td>\n",
       "      <td>missense_variant</td>\n",
       "      <td>.</td>\n",
       "      <td>.</td>\n",
       "      <td>...</td>\n",
       "      <td>.</td>\n",
       "      <td>.</td>\n",
       "      <td>.</td>\n",
       "      <td>.</td>\n",
       "      <td>.</td>\n",
       "      <td>.</td>\n",
       "      <td>.</td>\n",
       "      <td>NaN</td>\n",
       "      <td>NaN</td>\n",
       "      <td>NaN</td>\n",
       "    </tr>\n",
       "    <tr>\n",
       "      <th>2</th>\n",
       "      <td>1</td>\n",
       "      <td>69682</td>\n",
       "      <td>2396347</td>\n",
       "      <td>G</td>\n",
       "      <td>A</td>\n",
       "      <td>OR4F5</td>\n",
       "      <td>MODERATE</td>\n",
       "      <td>missense_variant</td>\n",
       "      <td>0.000631</td>\n",
       "      <td>gnomADe_AMR</td>\n",
       "      <td>...</td>\n",
       "      <td>0</td>\n",
       "      <td>0</td>\n",
       "      <td>0</td>\n",
       "      <td>0</td>\n",
       "      <td>0</td>\n",
       "      <td>0</td>\n",
       "      <td>.</td>\n",
       "      <td>NaN</td>\n",
       "      <td>NaN</td>\n",
       "      <td>NaN</td>\n",
       "    </tr>\n",
       "  </tbody>\n",
       "</table>\n",
       "<p>3 rows × 25 columns</p>\n",
       "</div>"
      ],
      "text/plain": [
       "  CHROM    POS       ID REF ALT SYMBOL    IMPACT       Consequence    MAX_AF  \\\n",
       "0     1  69134  2205837   A   G  OR4F5  MODERATE  missense_variant   0.08805   \n",
       "1     1  69581  2252161   C   G  OR4F5  MODERATE  missense_variant         .   \n",
       "2     1  69682  2396347   G   A  OR4F5  MODERATE  missense_variant  0.000631   \n",
       "\n",
       "   MAX_AF_POPS  ... gnomADg_EAS_AF gnomADg_FIN_AF gnomADg_MID_AF  \\\n",
       "0  gnomADe_ASJ  ...              0              0              0   \n",
       "1            .  ...              .              .              .   \n",
       "2  gnomADe_AMR  ...              0              0              0   \n",
       "\n",
       "  gnomADg_NFE_AF gnomADg_OTH_AF gnomADg_SAS_AF LOCALAFDB_AF_healthy CLNVC  \\\n",
       "0      0.0002006              0       0.003012                    .   NaN   \n",
       "1              .              .              .                    .   NaN   \n",
       "2              0              0              0                    .   NaN   \n",
       "\n",
       "  CLNDISDB CLNSIG_MASK  \n",
       "0      NaN         NaN  \n",
       "1      NaN         NaN  \n",
       "2      NaN         NaN  \n",
       "\n",
       "[3 rows x 25 columns]"
      ]
     },
     "execution_count": 8,
     "metadata": {},
     "output_type": "execute_result"
    }
   ],
   "source": [
    "# Load non-COI df\n",
    "\n",
    "nocoi_vep = pd.read_csv(f'{path_to_tables}/nocoi_20240407.VEP.csv', sep='\\t', header=None)\n",
    "nocoi_vep.columns = ['CHROM', 'POS', 'ID', 'REF', 'ALT', 'SYMBOL', 'IMPACT', 'Consequence', \n",
    "                       'MAX_AF', 'MAX_AF_POPS', 'gnomADg_AF', 'gnomADg_AFR_AF', 'gnomADg_AMI_AF', \n",
    "                       'gnomADg_AMR_AF','gnomADg_ASJ_AF', 'gnomADg_EAS_AF', 'gnomADg_FIN_AF', 'gnomADg_MID_AF',\n",
    "                   'gnomADg_NFE_AF', 'gnomADg_OTH_AF', 'gnomADg_SAS_AF', 'LOCALAFDB_AF_healthy']\n",
    "\n",
    "# add molecular change information and clnsig\n",
    "\n",
    "add_info = cv_dict['clinvar_20240407'][['ID','CLNVC', 'CLNDISDB','CLNSIG_MASK']]\n",
    "nocoi_vep = nocoi_vep.merge(add_info, on=['ID'], how='left')\n",
    "print(nocoi_vep.shape)\n",
    "nocoi_vep.head(3)"
   ]
  },
  {
   "cell_type": "code",
   "execution_count": 9,
   "id": "7b9cea0d",
   "metadata": {},
   "outputs": [
    {
     "data": {
      "text/plain": [
       "(2725238, 25)"
      ]
     },
     "execution_count": 9,
     "metadata": {},
     "output_type": "execute_result"
    }
   ],
   "source": [
    "# concatenate dfs\n",
    "\n",
    "vep = pd.concat([coi_vep,nocoi_vep])\n",
    "vep.shape"
   ]
  },
  {
   "cell_type": "code",
   "execution_count": 15,
   "id": "66605ccb",
   "metadata": {},
   "outputs": [
    {
     "data": {
      "text/plain": [
       "(2296245, 25)"
      ]
     },
     "execution_count": 15,
     "metadata": {},
     "output_type": "execute_result"
    }
   ],
   "source": [
    "# filter by MIM genes\n",
    "\n",
    "# BioMart data\n",
    "gene_mim = pd.read_csv(f'{path_to_data}/features/bioMart_Gene_MIM.txt', sep='\\t', keep_default_na=False)\n",
    "\n",
    "gene_mim = gene_mim[gene_mim['MIM morbid accession']!= '']\n",
    "gene_mim_glist = list(gene_mim['Gene name'].drop_duplicates())\n",
    "\n",
    "vep = vep[vep['SYMBOL'].isin(gene_mim_glist)]\n",
    "vep.shape"
   ]
  },
  {
   "cell_type": "code",
   "execution_count": 20,
   "id": "e5d57d1d",
   "metadata": {},
   "outputs": [],
   "source": [
    "vep.to_csv(f'{path_to_tables}/VEP.csv', sep=',', index = False)"
   ]
  }
 ],
 "metadata": {
  "kernelspec": {
   "display_name": "Python 3 (ipykernel)",
   "language": "python",
   "name": "python3"
  },
  "language_info": {
   "codemirror_mode": {
    "name": "ipython",
    "version": 3
   },
   "file_extension": ".py",
   "mimetype": "text/x-python",
   "name": "python",
   "nbconvert_exporter": "python",
   "pygments_lexer": "ipython3",
   "version": "3.11.5"
  }
 },
 "nbformat": 4,
 "nbformat_minor": 5
}
