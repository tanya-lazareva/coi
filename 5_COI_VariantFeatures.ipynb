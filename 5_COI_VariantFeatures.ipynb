{
 "cells": [
  {
   "cell_type": "markdown",
   "id": "11ad322a",
   "metadata": {},
   "source": [
    "# Library"
   ]
  },
  {
   "cell_type": "markdown",
   "id": "d2ce38a4",
   "metadata": {},
   "source": [
    "## Python packages "
   ]
  },
  {
   "cell_type": "code",
   "execution_count": 1,
   "id": "a6d49f6f",
   "metadata": {},
   "outputs": [
    {
     "name": "stderr",
     "output_type": "stream",
     "text": [
      "/Users/tanya/anaconda3/lib/python3.11/site-packages/pandas/core/arrays/masked.py:60: UserWarning: Pandas requires version '1.3.6' or newer of 'bottleneck' (version '1.3.5' currently installed).\n",
      "  from pandas.core import (\n"
     ]
    }
   ],
   "source": [
    "import pandas as pd\n",
    "import numpy as np\n",
    "import regex as re\n",
    "import rpy2\n",
    "import os\n",
    "import functools as fct\n",
    "from collections import Counter\n",
    "import pickle"
   ]
  },
  {
   "cell_type": "markdown",
   "id": "af3a9a03",
   "metadata": {},
   "source": [
    "## R packages"
   ]
  },
  {
   "cell_type": "code",
   "execution_count": 2,
   "id": "5b9423e6",
   "metadata": {},
   "outputs": [],
   "source": [
    "%load_ext rpy2.ipython"
   ]
  },
  {
   "cell_type": "code",
   "execution_count": 3,
   "id": "1635cd6f",
   "metadata": {},
   "outputs": [
    {
     "data": {
      "text/plain": [
       "\n",
       "Attaching package: ‘dplyr’\n",
       "\n",
       "The following objects are masked from ‘package:stats’:\n",
       "\n",
       "    filter, lag\n",
       "\n",
       "The following objects are masked from ‘package:base’:\n",
       "\n",
       "    intersect, setdiff, setequal, union\n",
       "\n"
      ]
     },
     "metadata": {},
     "output_type": "display_data"
    }
   ],
   "source": [
    "%%R\n",
    "library(rlang)\n",
    "library(ggplot2)\n",
    "library(dplyr)\n",
    "library(scales)\n",
    "library(reshape2)\n",
    "library(cowplot)"
   ]
  },
  {
   "cell_type": "markdown",
   "id": "580f0b51",
   "metadata": {},
   "source": [
    "## Set Paths "
   ]
  },
  {
   "cell_type": "code",
   "execution_count": 4,
   "id": "ab1b1c71",
   "metadata": {},
   "outputs": [],
   "source": [
    "path_to_data = '/Users/tanya/Documents/OTT/Conflicts_ClinVar/data'\n",
    "path_to_vcfs = '/Users/tanya/Documents/OTT/Conflicts_ClinVar/data/vcfs'   # path to initial ClinVar dfs\n",
    "path_to_gatk = '/Users/tanya/Documents/tools/gatk-4.5.0.0/gatk'\n",
    "path_to_tables = '/Users/tanya/Documents/OTT/Conflicts_ClinVar/tables'\n",
    "path_to_plots = '/Users/tanya/Documents/OTT/Conflicts_ClinVar/plots'\n",
    "path_to_temp = '/Users/tanya/Documents/OTT/Conflicts_ClinVar/temp'"
   ]
  },
  {
   "cell_type": "markdown",
   "id": "3657dbe9",
   "metadata": {},
   "source": [
    "## Load data "
   ]
  },
  {
   "cell_type": "code",
   "execution_count": 5,
   "id": "fa1e5f70",
   "metadata": {},
   "outputs": [
    {
     "name": "stderr",
     "output_type": "stream",
     "text": [
      "/var/folders/sy/0s6mz48x25xdw7n08d30rp5w0000gn/T/ipykernel_35060/2768848983.py:1: DtypeWarning: Columns (0) have mixed types. Specify dtype option on import or set low_memory=False.\n",
      "  vep = pd.read_csv('./tables/VEP.csv', sep=',')\n"
     ]
    },
    {
     "name": "stdout",
     "output_type": "stream",
     "text": [
      "(2296245, 25)\n"
     ]
    },
    {
     "data": {
      "text/html": [
       "<div>\n",
       "<style scoped>\n",
       "    .dataframe tbody tr th:only-of-type {\n",
       "        vertical-align: middle;\n",
       "    }\n",
       "\n",
       "    .dataframe tbody tr th {\n",
       "        vertical-align: top;\n",
       "    }\n",
       "\n",
       "    .dataframe thead th {\n",
       "        text-align: right;\n",
       "    }\n",
       "</style>\n",
       "<table border=\"1\" class=\"dataframe\">\n",
       "  <thead>\n",
       "    <tr style=\"text-align: right;\">\n",
       "      <th></th>\n",
       "      <th>CHROM</th>\n",
       "      <th>POS</th>\n",
       "      <th>ID</th>\n",
       "      <th>REF</th>\n",
       "      <th>ALT</th>\n",
       "      <th>SYMBOL</th>\n",
       "      <th>IMPACT</th>\n",
       "      <th>Consequence</th>\n",
       "      <th>MAX_AF</th>\n",
       "      <th>MAX_AF_POPS</th>\n",
       "      <th>...</th>\n",
       "      <th>gnomADg_EAS_AF</th>\n",
       "      <th>gnomADg_FIN_AF</th>\n",
       "      <th>gnomADg_MID_AF</th>\n",
       "      <th>gnomADg_NFE_AF</th>\n",
       "      <th>gnomADg_OTH_AF</th>\n",
       "      <th>gnomADg_SAS_AF</th>\n",
       "      <th>LOCALAFDB_AF_healthy</th>\n",
       "      <th>CLNVC</th>\n",
       "      <th>CLNDISDB</th>\n",
       "      <th>CLNSIG_MASK</th>\n",
       "    </tr>\n",
       "  </thead>\n",
       "  <tbody>\n",
       "    <tr>\n",
       "      <th>2296242</th>\n",
       "      <td>Y</td>\n",
       "      <td>12915989</td>\n",
       "      <td>2429753</td>\n",
       "      <td>A</td>\n",
       "      <td>AT</td>\n",
       "      <td>DDX3Y</td>\n",
       "      <td>HIGH</td>\n",
       "      <td>frameshift_variant</td>\n",
       "      <td>.</td>\n",
       "      <td>.</td>\n",
       "      <td>...</td>\n",
       "      <td>.</td>\n",
       "      <td>.</td>\n",
       "      <td>.</td>\n",
       "      <td>.</td>\n",
       "      <td>.</td>\n",
       "      <td>.</td>\n",
       "      <td>.</td>\n",
       "      <td>Duplication</td>\n",
       "      <td>Human_Phenotype_Ontology:HP:0011961,MedGen:C40...</td>\n",
       "      <td>LP</td>\n",
       "    </tr>\n",
       "    <tr>\n",
       "      <th>2296243</th>\n",
       "      <td>Y</td>\n",
       "      <td>12916632</td>\n",
       "      <td>2429754</td>\n",
       "      <td>TG</td>\n",
       "      <td>T</td>\n",
       "      <td>DDX3Y</td>\n",
       "      <td>HIGH</td>\n",
       "      <td>frameshift_variant&amp;splice_region_variant</td>\n",
       "      <td>.</td>\n",
       "      <td>.</td>\n",
       "      <td>...</td>\n",
       "      <td>.</td>\n",
       "      <td>.</td>\n",
       "      <td>.</td>\n",
       "      <td>.</td>\n",
       "      <td>.</td>\n",
       "      <td>.</td>\n",
       "      <td>.</td>\n",
       "      <td>Deletion</td>\n",
       "      <td>Human_Phenotype_Ontology:HP:0011961,MedGen:C40...</td>\n",
       "      <td>LP</td>\n",
       "    </tr>\n",
       "    <tr>\n",
       "      <th>2296244</th>\n",
       "      <td>Y</td>\n",
       "      <td>21548157</td>\n",
       "      <td>2689863</td>\n",
       "      <td>G</td>\n",
       "      <td>T</td>\n",
       "      <td>RBMY1A1</td>\n",
       "      <td>MODERATE</td>\n",
       "      <td>missense_variant</td>\n",
       "      <td>.</td>\n",
       "      <td>.</td>\n",
       "      <td>...</td>\n",
       "      <td>.</td>\n",
       "      <td>.</td>\n",
       "      <td>.</td>\n",
       "      <td>.</td>\n",
       "      <td>.</td>\n",
       "      <td>.</td>\n",
       "      <td>.</td>\n",
       "      <td>single_nucleotide_variant</td>\n",
       "      <td>MedGen:C3661900</td>\n",
       "      <td>VUS</td>\n",
       "    </tr>\n",
       "  </tbody>\n",
       "</table>\n",
       "<p>3 rows × 25 columns</p>\n",
       "</div>"
      ],
      "text/plain": [
       "        CHROM       POS       ID REF ALT   SYMBOL    IMPACT  \\\n",
       "2296242     Y  12915989  2429753   A  AT    DDX3Y      HIGH   \n",
       "2296243     Y  12916632  2429754  TG   T    DDX3Y      HIGH   \n",
       "2296244     Y  21548157  2689863   G   T  RBMY1A1  MODERATE   \n",
       "\n",
       "                                      Consequence MAX_AF MAX_AF_POPS  ...  \\\n",
       "2296242                        frameshift_variant      .           .  ...   \n",
       "2296243  frameshift_variant&splice_region_variant      .           .  ...   \n",
       "2296244                          missense_variant      .           .  ...   \n",
       "\n",
       "        gnomADg_EAS_AF gnomADg_FIN_AF gnomADg_MID_AF gnomADg_NFE_AF  \\\n",
       "2296242              .              .              .              .   \n",
       "2296243              .              .              .              .   \n",
       "2296244              .              .              .              .   \n",
       "\n",
       "        gnomADg_OTH_AF gnomADg_SAS_AF LOCALAFDB_AF_healthy  \\\n",
       "2296242              .              .                    .   \n",
       "2296243              .              .                    .   \n",
       "2296244              .              .                    .   \n",
       "\n",
       "                             CLNVC  \\\n",
       "2296242                Duplication   \n",
       "2296243                   Deletion   \n",
       "2296244  single_nucleotide_variant   \n",
       "\n",
       "                                                  CLNDISDB CLNSIG_MASK  \n",
       "2296242  Human_Phenotype_Ontology:HP:0011961,MedGen:C40...          LP  \n",
       "2296243  Human_Phenotype_Ontology:HP:0011961,MedGen:C40...          LP  \n",
       "2296244                                    MedGen:C3661900         VUS  \n",
       "\n",
       "[3 rows x 25 columns]"
      ]
     },
     "execution_count": 5,
     "metadata": {},
     "output_type": "execute_result"
    }
   ],
   "source": [
    "vep = pd.read_csv('./tables/VEP.csv', sep=',')\n",
    "print(vep.shape)\n",
    "vep.tail(3)"
   ]
  },
  {
   "cell_type": "code",
   "execution_count": 6,
   "id": "7121ea4f",
   "metadata": {},
   "outputs": [
    {
     "data": {
      "text/plain": [
       "(2296245, 26)"
      ]
     },
     "execution_count": 6,
     "metadata": {},
     "output_type": "execute_result"
    }
   ],
   "source": [
    "# add initial and clnsig to new column for COI, for non-coi NA\n",
    "\n",
    "initial_clnsig_df = pd.read_csv('./tables/initial_clnsig_df.csv', sep='\\t')\n",
    "initial_clnsig_df.columns = ['ID', 'INITIAL_CLNSIG']\n",
    "\n",
    "vep = vep.merge(initial_clnsig_df, on =['ID'], how='left')\n",
    "vep.shape"
   ]
  },
  {
   "cell_type": "code",
   "execution_count": 7,
   "id": "c242665c",
   "metadata": {},
   "outputs": [
    {
     "data": {
      "text/html": [
       "<div>\n",
       "<style scoped>\n",
       "    .dataframe tbody tr th:only-of-type {\n",
       "        vertical-align: middle;\n",
       "    }\n",
       "\n",
       "    .dataframe tbody tr th {\n",
       "        vertical-align: top;\n",
       "    }\n",
       "\n",
       "    .dataframe thead th {\n",
       "        text-align: right;\n",
       "    }\n",
       "</style>\n",
       "<table border=\"1\" class=\"dataframe\">\n",
       "  <thead>\n",
       "    <tr style=\"text-align: right;\">\n",
       "      <th></th>\n",
       "      <th>Consequence</th>\n",
       "      <th>Consequence_MASK</th>\n",
       "    </tr>\n",
       "  </thead>\n",
       "  <tbody>\n",
       "    <tr>\n",
       "      <th>0</th>\n",
       "      <td>3_prime_utr_variant</td>\n",
       "      <td>Other</td>\n",
       "    </tr>\n",
       "    <tr>\n",
       "      <th>1</th>\n",
       "      <td>5_prime_utr_variant</td>\n",
       "      <td>Other</td>\n",
       "    </tr>\n",
       "    <tr>\n",
       "      <th>2</th>\n",
       "      <td>coding_sequence_variant</td>\n",
       "      <td>Other</td>\n",
       "    </tr>\n",
       "    <tr>\n",
       "      <th>3</th>\n",
       "      <td>coding_sequence_variant&amp;3_prime_utr_variant</td>\n",
       "      <td>Other</td>\n",
       "    </tr>\n",
       "    <tr>\n",
       "      <th>4</th>\n",
       "      <td>coding_sequence_variant&amp;5_prime_utr_variant</td>\n",
       "      <td>Other</td>\n",
       "    </tr>\n",
       "  </tbody>\n",
       "</table>\n",
       "</div>"
      ],
      "text/plain": [
       "                                   Consequence Consequence_MASK\n",
       "0                          3_prime_utr_variant            Other\n",
       "1                          5_prime_utr_variant            Other\n",
       "2                      coding_sequence_variant            Other\n",
       "3  coding_sequence_variant&3_prime_utr_variant            Other\n",
       "4  coding_sequence_variant&5_prime_utr_variant            Other"
      ]
     },
     "execution_count": 7,
     "metadata": {},
     "output_type": "execute_result"
    }
   ],
   "source": [
    "# add info whether variant is  missense or pLOF\n",
    "\n",
    "mc_mask = pd.read_csv('./data/VEP_wMC_MASK.csv', sep=',')   # worst MC according to VEP annotation\n",
    "mc_mask.head()"
   ]
  },
  {
   "cell_type": "code",
   "execution_count": 8,
   "id": "6ae60a5a",
   "metadata": {},
   "outputs": [
    {
     "data": {
      "text/plain": [
       "(2296245, 27)"
      ]
     },
     "execution_count": 8,
     "metadata": {},
     "output_type": "execute_result"
    }
   ],
   "source": [
    "vep = vep.merge(mc_mask, on=['Consequence'], how='left')\n",
    "vep.shape"
   ]
  },
  {
   "cell_type": "code",
   "execution_count": 9,
   "id": "0a50d1cb",
   "metadata": {},
   "outputs": [],
   "source": [
    "vep.groupby(['CLNSIG_MASK', 'Consequence_MASK']).size().reset_index().to_csv('./test.csv')"
   ]
  },
  {
   "cell_type": "code",
   "execution_count": 12,
   "id": "09b3504a",
   "metadata": {},
   "outputs": [
    {
     "data": {
      "text/html": [
       "<div>\n",
       "<style scoped>\n",
       "    .dataframe tbody tr th:only-of-type {\n",
       "        vertical-align: middle;\n",
       "    }\n",
       "\n",
       "    .dataframe tbody tr th {\n",
       "        vertical-align: top;\n",
       "    }\n",
       "\n",
       "    .dataframe thead th {\n",
       "        text-align: right;\n",
       "    }\n",
       "</style>\n",
       "<table border=\"1\" class=\"dataframe\">\n",
       "  <thead>\n",
       "    <tr style=\"text-align: right;\">\n",
       "      <th></th>\n",
       "      <th>varid</th>\n",
       "      <th>initial_clnsig</th>\n",
       "      <th>clnsig_list</th>\n",
       "      <th>merged_list</th>\n",
       "      <th>clnsig_set</th>\n",
       "    </tr>\n",
       "  </thead>\n",
       "  <tbody>\n",
       "    <tr>\n",
       "      <th>0</th>\n",
       "      <td>9</td>\n",
       "      <td>COI</td>\n",
       "      <td>['B/LB', 'P/LP', 'P/LP', 'P/LP', 'P/LP', 'P/LP...</td>\n",
       "      <td>['Benign', 'Pathogenic', 'Pathogenic', 'Pathog...</td>\n",
       "      <td>B/LB|VUS|P/LP</td>\n",
       "    </tr>\n",
       "    <tr>\n",
       "      <th>1</th>\n",
       "      <td>10</td>\n",
       "      <td>COI</td>\n",
       "      <td>['B/LB', 'P/LP', 'P/LP', 'P/LP', 'P/LP', 'P/LP...</td>\n",
       "      <td>['Likely_benign', 'Pathogenic', 'Pathogenic', ...</td>\n",
       "      <td>B/LB|VUS|P/LP</td>\n",
       "    </tr>\n",
       "  </tbody>\n",
       "</table>\n",
       "</div>"
      ],
      "text/plain": [
       "   varid initial_clnsig                                        clnsig_list  \\\n",
       "0      9            COI  ['B/LB', 'P/LP', 'P/LP', 'P/LP', 'P/LP', 'P/LP...   \n",
       "1     10            COI  ['B/LB', 'P/LP', 'P/LP', 'P/LP', 'P/LP', 'P/LP...   \n",
       "\n",
       "                                         merged_list     clnsig_set  \n",
       "0  ['Benign', 'Pathogenic', 'Pathogenic', 'Pathog...  B/LB|VUS|P/LP  \n",
       "1  ['Likely_benign', 'Pathogenic', 'Pathogenic', ...  B/LB|VUS|P/LP  "
      ]
     },
     "execution_count": 12,
     "metadata": {},
     "output_type": "execute_result"
    }
   ],
   "source": [
    "#pd.read_csv('./temp/coi_clnsigconf_df.csv',sep='\\t').head(2)"
   ]
  },
  {
   "cell_type": "code",
   "execution_count": 14,
   "id": "fa2116d5",
   "metadata": {},
   "outputs": [],
   "source": [
    "# flt genes with at least one P\n",
    "\n",
    "#with open(\"pathogenic_genes_list\", \"rb\") as fp:   # Unpickling\n",
    "#    pathogenic_genes_list = pickle.load(fp)\n",
    "\n",
    "#vep_flt = vep[vep['SYMBOL'].isin(pathogenic_genes_list)]\n",
    "\n",
    "#vep_flt.shape\n",
    "\n",
    "#vep = vep_flt"
   ]
  },
  {
   "cell_type": "markdown",
   "id": "ec2a9373",
   "metadata": {},
   "source": [
    "# Type of variant (IMPACT)"
   ]
  },
  {
   "cell_type": "markdown",
   "id": "1d87fb75",
   "metadata": {},
   "source": [
    "### ALL "
   ]
  },
  {
   "cell_type": "code",
   "execution_count": 10,
   "id": "d93b49a3",
   "metadata": {},
   "outputs": [],
   "source": [
    "impact_stat = vep[['CLNSIG_MASK', 'IMPACT']]\n",
    "impact_stat = impact_stat.groupby(['CLNSIG_MASK', 'IMPACT']).size().to_frame(name='count').reset_index() \\\n",
    "                 .merge(impact_stat.groupby('CLNSIG_MASK')['IMPACT'].count().reset_index(name='total'), on='CLNSIG_MASK') \\\n",
    "                 .assign(prop=lambda x: x['count'] / x['total']).sort_values(by=['CLNSIG_MASK', 'IMPACT'])\n",
    "\n",
    "# reorder \n",
    "\n",
    "impact_stat['CLNSIG_MASK'] = pd.Categorical(impact_stat['CLNSIG_MASK'], categories=['COI','B', 'B/LB','LB','VUS','LP',\n",
    "                                                                            'P/LP','P','Affects', 'association',\n",
    "                                                                            'confers_sensitivity', 'drug_response',\n",
    "                                                                            'not_provided','protective','risk_factor',\n",
    "                                                                            'Uncertain_risk_allele', 'other'], ordered=True)\n",
    "impact_stat['IMPACT'] = pd.Categorical(impact_stat['IMPACT'], categories=['HIGH', 'MODERATE', 'LOW','MODIFIER'], ordered=True)"
   ]
  },
  {
   "cell_type": "code",
   "execution_count": 11,
   "id": "9cb0daff",
   "metadata": {},
   "outputs": [
    {
     "data": {
      "image/png": "[encoded data removed]",
      "text/plain": [
       "<IPython.core.display.Image object>"
      ]
     },
     "metadata": {},
     "output_type": "display_data"
    }
   ],
   "source": [
    "%%R  -i impact_stat\n",
    "\n",
    "# plot \n",
    "\n",
    "impact_plt <- ggplot(impact_stat, aes(x=CLNSIG_MASK, y=prop, fill=IMPACT)) + \n",
    "  geom_bar(stat='identity') +theme_void() +\n",
    "  theme(legend.position = \"bottom\", \n",
    "        axis.text=element_text(size=12),\n",
    "        axis.title=element_text(size=12)) + ylab('') +\n",
    "  xlab(\"\")  + scale_x_discrete(limits=rev) + scale_y_continuous(labels = percent_format()) +\n",
    "  scale_fill_manual(values = c( '#A62C2B','#B33C2C', '#9cae96', '#BCD4E6'))\n",
    "\n",
    "impact_plt <- impact_plt + theme(aspect.ratio = 1/2)  + coord_flip()\n",
    "impact_plt\n",
    "\n",
    "impact_plt\n",
    "\n",
    "#ggsave(\"./plots/impact_stat_ALL.png\")"
   ]
  },
  {
   "cell_type": "markdown",
   "id": "5a084233",
   "metadata": {},
   "source": [
    "### COI (split by initial interpretation) "
   ]
  },
  {
   "cell_type": "code",
   "execution_count": 12,
   "id": "a280eb33",
   "metadata": {},
   "outputs": [],
   "source": [
    "impact_stat = vep[['INITIAL_CLNSIG', 'IMPACT']].dropna(subset=['INITIAL_CLNSIG'])"
   ]
  },
  {
   "cell_type": "code",
   "execution_count": 13,
   "id": "5ed2a71e",
   "metadata": {},
   "outputs": [],
   "source": [
    "impact_stat = vep[['INITIAL_CLNSIG', 'IMPACT']].dropna(subset=['INITIAL_CLNSIG'])\n",
    "impact_stat = impact_stat.groupby(['INITIAL_CLNSIG', 'IMPACT']).size().to_frame(name='count').reset_index() \\\n",
    "                 .merge(impact_stat.groupby('INITIAL_CLNSIG')['IMPACT'].count().reset_index(name='total'), on='INITIAL_CLNSIG') \\\n",
    "                 .assign(prop=lambda x: x['count'] / x['total']).sort_values(by=['INITIAL_CLNSIG', 'IMPACT'])\n",
    "\n",
    "# reorder \n",
    "\n",
    "impact_stat['INITIAL_CLNSIG'] = pd.Categorical(impact_stat['INITIAL_CLNSIG'], categories=['COI','B', 'B/LB','LB','VUS','LP',\n",
    "                                                                            'P/LP','P','Affects', 'association',\n",
    "                                                                            'confers_sensitivity', 'drug_response',\n",
    "                                                                            'not_provided','protective','risk_factor',\n",
    "                                                                            'Uncertain_risk_allele', 'other'], ordered=True)\n",
    "impact_stat['IMPACT'] = pd.Categorical(impact_stat['IMPACT'], categories=['HIGH', 'MODERATE', 'LOW','MODIFIER'], ordered=True)"
   ]
  },
  {
   "cell_type": "code",
   "execution_count": 14,
   "id": "9ea505fc",
   "metadata": {},
   "outputs": [
    {
     "data": {
      "image/png": "[encoded data removed]",
      "text/plain": [
       "<IPython.core.display.Image object>"
      ]
     },
     "metadata": {},
     "output_type": "display_data"
    }
   ],
   "source": [
    "%%R  -i impact_stat\n",
    "\n",
    "# plot \n",
    "\n",
    "impact_plt <- ggplot(impact_stat, aes(x=INITIAL_CLNSIG, y=prop, fill=IMPACT)) + \n",
    "  geom_bar(stat='identity') +theme_void() +\n",
    "  theme(legend.position = \"bottom\", \n",
    "        axis.text=element_text(size=12),\n",
    "        axis.title=element_text(size=12)) + ylab('') +\n",
    "  xlab(\"\")  + scale_x_discrete(limits=rev) + scale_y_continuous(labels = percent_format()) +\n",
    "  scale_fill_manual(values = c( '#A62C2B','#B33C2C', '#9cae96', '#BCD4E6'))\n",
    "\n",
    "impact_plt <- impact_plt + theme(aspect.ratio = 1/2)  + coord_flip()\n",
    "impact_plt\n",
    "\n",
    "impact_plt\n",
    "\n",
    "#ggsave(\"./plots/impact_stat_COI.png\")"
   ]
  },
  {
   "cell_type": "markdown",
   "id": "dee8146e",
   "metadata": {},
   "source": [
    "# Molecular consequence"
   ]
  },
  {
   "cell_type": "code",
   "execution_count": 15,
   "id": "136b91d2",
   "metadata": {},
   "outputs": [],
   "source": [
    "clnvc_stat = vep[['CLNSIG_MASK', 'CLNVC']]\n",
    "clnvc_stat = clnvc_stat.groupby(['CLNSIG_MASK', 'CLNVC']).size().to_frame(name='count').reset_index() \\\n",
    "                 .merge(clnvc_stat.groupby('CLNSIG_MASK')['CLNVC'].count().reset_index(name='total'), on='CLNSIG_MASK') \\\n",
    "                 .assign(prop=lambda x: x['count'] / x['total']).sort_values(by=['CLNSIG_MASK', 'CLNVC'])\n",
    "\n",
    "clnvc_stat['CLNSIG_MASK'] = pd.Categorical(clnvc_stat['CLNSIG_MASK'], categories=['COI','B', 'B/LB','LB','VUS','LP',\n",
    "                                                                            'P/LP','P','Affects', 'association',\n",
    "                                                                            'confers_sensitivity', 'drug_response',\n",
    "                                                                            'not_provided','protective','risk_factor',\n",
    "                                                                            'Uncertain_risk_allele', 'other'], ordered=True)\n"
   ]
  },
  {
   "cell_type": "code",
   "execution_count": 16,
   "id": "58fa1cc0",
   "metadata": {},
   "outputs": [
    {
     "data": {
      "image/png": "[encoded data removed]",
      "text/plain": [
       "<IPython.core.display.Image object>"
      ]
     },
     "metadata": {},
     "output_type": "display_data"
    }
   ],
   "source": [
    "%%R -i clnvc_stat\n",
    "\n",
    "# plot \n",
    "#clnvc_stat_wo_snp <- clnvc_stat[clnvc_stat$CLNVC!='single_nucleotide_variant', ]\n",
    "\n",
    "clnvc_plt <- ggplot(clnvc_stat, aes(x=CLNSIG_MASK, y=prop, fill=CLNVC)) + \n",
    "  geom_bar(stat='identity') +theme_void() +\n",
    "  theme(legend.position = \"bottom\", \n",
    "        axis.text=element_text(size=12),\n",
    "        axis.title=element_text(size=12)) + ylab('') +\n",
    "  xlab(\"\")  + scale_x_discrete(limits=rev) + scale_y_continuous(labels = percent_format()) +\n",
    "  scale_fill_manual(values = c( '#e6bd57','#534d6b', '#5b9877', '#d67d53',\n",
    "                                '#7c98a6', '#e7a29c', '#b37486'))\n",
    "\n",
    "clnvc_plt <- clnvc_plt + theme(aspect.ratio = 1/2)  + coord_flip()\n",
    "clnvc_plt\n",
    "\n",
    "#ggsave(\"./plots/clnvc_plt.png\")"
   ]
  },
  {
   "cell_type": "markdown",
   "id": "db0aeedd",
   "metadata": {},
   "source": [
    "# Allele frequency (gnomAD/1KG)  - popmax, popmin,  global AF "
   ]
  },
  {
   "cell_type": "code",
   "execution_count": 17,
   "id": "4bea5cc9",
   "metadata": {},
   "outputs": [],
   "source": [
    "def get_min_excluding_dots(row): \n",
    "    \"\"\"\n",
    "    Function to handle dots and find minimum value\n",
    "    \"\"\"\n",
    "  # Filter out non-numeric values (including dots)\n",
    "    filtered_values = [val for val in row if str(val) != '.']\n",
    "  # If there are numeric values, return minimum, otherwise a default value (e.g., 0)\n",
    "    return min(filtered_values) if filtered_values else '.'  # Adjust default value as needed\n",
    "\n",
    "# Add a new column with min value in each row\n",
    "vep['MIN_AF'] = vep.iloc[:, 11:21].apply(get_min_excluding_dots, axis=1)"
   ]
  },
  {
   "cell_type": "code",
   "execution_count": 18,
   "id": "60f5583e",
   "metadata": {},
   "outputs": [
    {
     "name": "stderr",
     "output_type": "stream",
     "text": [
      "/var/folders/sy/0s6mz48x25xdw7n08d30rp5w0000gn/T/ipykernel_35060/335666700.py:2: SettingWithCopyWarning: \n",
      "A value is trying to be set on a copy of a slice from a DataFrame.\n",
      "Try using .loc[row_indexer,col_indexer] = value instead\n",
      "\n",
      "See the caveats in the documentation: https://pandas.pydata.org/pandas-docs/stable/user_guide/indexing.html#returning-a-view-versus-a-copy\n",
      "  gnomad_af['CLNSIG_MASK'] = pd.Categorical(gnomad_af['CLNSIG_MASK'], categories=['COI','B', 'B/LB','LB','VUS','LP',\n"
     ]
    }
   ],
   "source": [
    "gnomad_af = vep[['CLNSIG_MASK', 'gnomADg_AF', 'MAX_AF', 'MIN_AF']]\n",
    "gnomad_af['CLNSIG_MASK'] = pd.Categorical(gnomad_af['CLNSIG_MASK'], categories=['COI','B', 'B/LB','LB','VUS','LP',\n",
    "                                                                            'P/LP','P','Affects', 'association',\n",
    "                                                                            'confers_sensitivity', 'drug_response',\n",
    "                                                                            'not_provided','protective','risk_factor',\n",
    "                                                                            'Uncertain_risk_allele', 'other'], ordered=True)\n"
   ]
  },
  {
   "cell_type": "code",
   "execution_count": 19,
   "id": "51dcee88",
   "metadata": {},
   "outputs": [],
   "source": [
    "clnsig_list_cut = ['COI','B', 'B/LB','LB','VUS','LP','P/LP','P']\n",
    "\n",
    "gnomad_af = gnomad_af[gnomad_af['CLNSIG_MASK'].isin(clnsig_list_cut)]"
   ]
  },
  {
   "cell_type": "code",
   "execution_count": 22,
   "id": "e8a8cbff",
   "metadata": {},
   "outputs": [
    {
     "data": {
      "text/plain": [
       "In addition: Warning message:\n",
       "There were 3 warnings in `mutate()`.\n",
       "The first warning was:\n",
       "ℹ In argument: `gnomADg_AF = .Primitive(\"as.double\")(gnomADg_AF)`.\n",
       "Caused by warning:\n",
       "! NAs introduced by coercion\n",
       "ℹ Run `dplyr::last_dplyr_warnings()` to see the 2 remaining warnings. \n"
      ]
     },
     "metadata": {},
     "output_type": "display_data"
    }
   ],
   "source": [
    "%%R -i gnomad_af\n",
    "\n",
    "# plot popmax / popmin / AF global\n",
    "\n",
    "gnomad_af$CLNSIG_MASK <- as.factor(gnomad_af$CLNSIG_MASK)\n",
    "gnomad_af <- gnomad_af %>% mutate_if(is.character, as.numeric)"
   ]
  },
  {
   "cell_type": "code",
   "execution_count": 23,
   "id": "06667b13",
   "metadata": {},
   "outputs": [
    {
     "name": "stderr",
     "output_type": "stream",
     "text": [
      "R[write to console]: In addition: \n",
      "R[write to console]: Warning messages:\n",
      "\n",
      "R[write to console]: 1: Removed 4393 rows containing non-finite outside the scale range\n",
      "(`stat_ydensity()`). \n",
      "\n",
      "R[write to console]: 2: Removed 4393 rows containing non-finite outside the scale range\n",
      "(`stat_boxplot()`). \n",
      "\n"
     ]
    },
    {
     "data": {
      "image/png": "[encoded data removed]",
      "text/plain": [
       "<IPython.core.display.Image object>"
      ]
     },
     "metadata": {},
     "output_type": "display_data"
    }
   ],
   "source": [
    "%%R \n",
    "# plot popmax\n",
    "theme_set(theme_bw())\n",
    "af_plt <- ggplot(na.omit(gnomad_af),\n",
    "                 aes(x=CLNSIG_MASK,\n",
    "                     #y=log(MAX_AF),\n",
    "                     #y=log(MIN_AF),\n",
    "                     #y=log(gnomADg_AF),\n",
    "                     fill=CLNSIG_MASK\n",
    "                    )) + geom_violin(adjust=1.5) + geom_boxplot(width=0.1, fill='white') + theme(legend.position = \"none\", axis.text=element_text(size=12),axis.text.x = element_text(size = 11, , angle = 45, hjust=1)) + xlab(\"\") + xlab(\"\") + scale_fill_manual(values=c('#7F388B', '#698596', '#698596', '#698596',\n",
    "                                                  '#698596', '#698596', '#698596', '#698596'))\n",
    "\n",
    "af_plt\n",
    "#ggsave(\"MAXAF_plt.png\")\n",
    "#ggsave(\"MINAF_plt.png\")\n",
    "#ggsave(\"gnomADg_plt.png\")"
   ]
  },
  {
   "cell_type": "code",
   "execution_count": 24,
   "id": "9f42b565",
   "metadata": {},
   "outputs": [],
   "source": [
    "vep.to_csv(f'{path_to_tables}/VEP_jn5mod.csv', sep=',', index=False)"
   ]
  }
 ],
 "metadata": {
  "kernelspec": {
   "display_name": "Python 3 (ipykernel)",
   "language": "python",
   "name": "python3"
  },
  "language_info": {
   "codemirror_mode": {
    "name": "ipython",
    "version": 3
   },
   "file_extension": ".py",
   "mimetype": "text/x-python",
   "name": "python",
   "nbconvert_exporter": "python",
   "pygments_lexer": "ipython3",
   "version": "3.11.5"
  }
 },
 "nbformat": 4,
 "nbformat_minor": 5
}
