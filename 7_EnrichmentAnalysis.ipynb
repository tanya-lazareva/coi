{
 "cells": [
  {
   "cell_type": "markdown",
   "id": "339a8404",
   "metadata": {},
   "source": [
    "# Library"
   ]
  },
  {
   "cell_type": "markdown",
   "id": "aa5ab465",
   "metadata": {},
   "source": [
    "## Python packages "
   ]
  },
  {
   "cell_type": "code",
   "execution_count": 1,
   "id": "68af4a03",
   "metadata": {},
   "outputs": [
    {
     "name": "stderr",
     "output_type": "stream",
     "text": [
      "/Users/tanya/anaconda3/lib/python3.11/site-packages/pandas/core/arrays/masked.py:60: UserWarning: Pandas requires version '1.3.6' or newer of 'bottleneck' (version '1.3.5' currently installed).\n",
      "  from pandas.core import (\n"
     ]
    }
   ],
   "source": [
    "import pandas as pd\n",
    "import numpy as np\n",
    "import regex as re\n",
    "import rpy2\n",
    "import os\n",
    "import functools as fct\n",
    "from collections import Counter\n",
    "import pickle"
   ]
  },
  {
   "cell_type": "markdown",
   "id": "a24bdca8",
   "metadata": {},
   "source": [
    "## R packages "
   ]
  },
  {
   "cell_type": "code",
   "execution_count": 2,
   "id": "8eb5f762",
   "metadata": {},
   "outputs": [],
   "source": [
    "%load_ext rpy2.ipython"
   ]
  },
  {
   "cell_type": "code",
   "execution_count": 3,
   "id": "f9b1e589",
   "metadata": {},
   "outputs": [
    {
     "data": {
      "text/plain": [
       "\n",
       "Attaching package: ‘dplyr’\n",
       "\n",
       "The following objects are masked from ‘package:stats’:\n",
       "\n",
       "    filter, lag\n",
       "\n",
       "The following objects are masked from ‘package:base’:\n",
       "\n",
       "    intersect, setdiff, setequal, union\n",
       "\n",
       "\n",
       "Attaching package: ‘ape’\n",
       "\n",
       "The following object is masked from ‘package:dplyr’:\n",
       "\n",
       "    where\n",
       "\n"
      ]
     },
     "metadata": {},
     "output_type": "display_data"
    }
   ],
   "source": [
    "%%R\n",
    "library(rlang)\n",
    "library(ggplot2)\n",
    "library(dplyr)\n",
    "library(scales)\n",
    "library(reshape2)\n",
    "library(cowplot)\n",
    "library(ape)\n",
    "library(stringr)"
   ]
  },
  {
   "cell_type": "code",
   "execution_count": 4,
   "id": "5b72bf9b",
   "metadata": {},
   "outputs": [
    {
     "data": {
      "text/plain": [
       "\n",
       "clusterProfiler v4.10.0  For help: https://yulab-smu.top/biomedical-knowledge-mining-book/\n",
       "\n",
       "If you use clusterProfiler in published research, please cite:\n",
       "T Wu, E Hu, S Xu, M Chen, P Guo, Z Dai, T Feng, L Zhou, W Tang, L Zhan, X Fu, S Liu, X Bo, and G Yu. clusterProfiler 4.0: A universal enrichment tool for interpreting omics data. The Innovation. 2021, 2(3):100141\n",
       "\n",
       "Attaching package: ‘clusterProfiler’\n",
       "\n",
       "The following object is masked from ‘package:stats’:\n",
       "\n",
       "    filter\n",
       "\n"
      ]
     },
     "metadata": {},
     "output_type": "display_data"
    }
   ],
   "source": [
    "%%R\n",
    "# enrichment plots\n",
    "library(enrichplot)\n",
    "library(clusterProfiler)\n",
    "library(msigdbr)"
   ]
  },
  {
   "cell_type": "markdown",
   "id": "093e31e9",
   "metadata": {},
   "source": [
    "## Set path "
   ]
  },
  {
   "cell_type": "code",
   "execution_count": 5,
   "id": "6e77f10f",
   "metadata": {},
   "outputs": [],
   "source": [
    "path_to_data = '/Users/tanya/Documents/OTT/Conflicts_ClinVar/data'\n",
    "path_to_vcfs = '/Users/tanya/Documents/OTT/Conflicts_ClinVar/data/vcfs'   # path to initial ClinVar dfs\n",
    "path_to_gatk = '/Users/tanya/Documents/tools/gatk-4.5.0.0/gatk'\n",
    "path_to_tables = '/Users/tanya/Documents/OTT/Conflicts_ClinVar/tables'\n",
    "path_to_plots = '/Users/tanya/Documents/OTT/Conflicts_ClinVar/plots'\n",
    "path_to_temp = '/Users/tanya/Documents/OTT/Conflicts_ClinVar/temp'"
   ]
  },
  {
   "cell_type": "markdown",
   "id": "38337345",
   "metadata": {},
   "source": [
    "## Load data"
   ]
  },
  {
   "cell_type": "code",
   "execution_count": 7,
   "id": "0ab8f417",
   "metadata": {},
   "outputs": [
    {
     "name": "stderr",
     "output_type": "stream",
     "text": [
      "/var/folders/sy/0s6mz48x25xdw7n08d30rp5w0000gn/T/ipykernel_57606/2072638769.py:1: DtypeWarning: Columns (0,25) have mixed types. Specify dtype option on import or set low_memory=False.\n",
      "  vep = pd.read_csv(f'{path_to_tables}/VEP_jn5mod.csv', sep=',')\n"
     ]
    }
   ],
   "source": [
    "vep = pd.read_csv(f'{path_to_tables}/VEP_jn5mod.csv', sep=',')"
   ]
  },
  {
   "cell_type": "markdown",
   "id": "8c408559",
   "metadata": {},
   "source": [
    "# How many genes do have conflicting variants? "
   ]
  },
  {
   "cell_type": "code",
   "execution_count": 12,
   "id": "ce86010a",
   "metadata": {},
   "outputs": [
    {
     "data": {
      "text/plain": [
       "4702"
      ]
     },
     "execution_count": 12,
     "metadata": {},
     "output_type": "execute_result"
    }
   ],
   "source": [
    "# genes have at least one P variant\n",
    "\n",
    "pathogenic_genes_list = list(vep[vep['CLNSIG_MASK'] == 'P']['SYMBOL'].unique())\n",
    "pathogenic_genes_list = [x for x in pathogenic_genes_list if str(x) != 'nan']\n",
    "len(pathogenic_genes_list)"
   ]
  },
  {
   "cell_type": "code",
   "execution_count": 29,
   "id": "8103c7a4",
   "metadata": {},
   "outputs": [
    {
     "data": {
      "text/plain": [
       "3627"
      ]
     },
     "execution_count": 29,
     "metadata": {},
     "output_type": "execute_result"
    }
   ],
   "source": [
    "# genes  with COI  and with at least ine P\n",
    "\n",
    "coi_pgenes_list = vep[vep['CLNSIG_MASK'] == 'COI']['SYMBOL'].unique()\n",
    "\n",
    "coi_pgenes_list = [x for x in coi_pgenes_list if x in pathogenic_genes_list]\n",
    "coi_pgenes_list = [x for x in coi_pgenes_list if str(x) != 'nan']\n",
    "len(coi_pgenes_list)"
   ]
  },
  {
   "cell_type": "code",
   "execution_count": 14,
   "id": "2b9bf764",
   "metadata": {},
   "outputs": [
    {
     "data": {
      "text/plain": [
       "134238"
      ]
     },
     "execution_count": 14,
     "metadata": {},
     "output_type": "execute_result"
    }
   ],
   "source": [
    "coi_ids_list  = vep[vep['CLNSIG_MASK'] == 'COI']['ID'].unique()\n",
    "len(coi_ids_list)"
   ]
  },
  {
   "cell_type": "code",
   "execution_count": 15,
   "id": "83a99581",
   "metadata": {},
   "outputs": [
    {
     "data": {
      "text/plain": [
       "2591000"
      ]
     },
     "execution_count": 15,
     "metadata": {},
     "output_type": "execute_result"
    }
   ],
   "source": [
    "non_coi_ids_list = vep[vep['CLNSIG_MASK'] != 'COI']['ID'].unique()\n",
    "len(non_coi_ids_list)"
   ]
  },
  {
   "cell_type": "markdown",
   "id": "9ac5d9e4",
   "metadata": {},
   "source": [
    "# For how many genes is there a statistical enrichment of COI?  \n",
    "\n",
    "Hypergeometric distribution: N = all ClinVar variants, K = all conflicts, n = number of ClinVar variants in gene X, k = number of conflicts in gene X.  "
   ]
  },
  {
   "cell_type": "code",
   "execution_count": 11,
   "id": "e9c84caa",
   "metadata": {},
   "outputs": [
    {
     "data": {
      "text/html": [
       "<div>\n",
       "<style scoped>\n",
       "    .dataframe tbody tr th:only-of-type {\n",
       "        vertical-align: middle;\n",
       "    }\n",
       "\n",
       "    .dataframe tbody tr th {\n",
       "        vertical-align: top;\n",
       "    }\n",
       "\n",
       "    .dataframe thead th {\n",
       "        text-align: right;\n",
       "    }\n",
       "</style>\n",
       "<table border=\"1\" class=\"dataframe\">\n",
       "  <thead>\n",
       "    <tr style=\"text-align: right;\">\n",
       "      <th></th>\n",
       "      <th>gene</th>\n",
       "      <th>n_coi_in_gene</th>\n",
       "    </tr>\n",
       "  </thead>\n",
       "  <tbody>\n",
       "    <tr>\n",
       "      <th>461</th>\n",
       "      <td>BRCA2</td>\n",
       "      <td>5323</td>\n",
       "    </tr>\n",
       "    <tr>\n",
       "      <th>4192</th>\n",
       "      <td>TTN</td>\n",
       "      <td>3751</td>\n",
       "    </tr>\n",
       "    <tr>\n",
       "      <th>460</th>\n",
       "      <td>BRCA1</td>\n",
       "      <td>2988</td>\n",
       "    </tr>\n",
       "  </tbody>\n",
       "</table>\n",
       "</div>"
      ],
      "text/plain": [
       "       gene  n_coi_in_gene\n",
       "461   BRCA2           5323\n",
       "4192    TTN           3751\n",
       "460   BRCA1           2988"
      ]
     },
     "execution_count": 11,
     "metadata": {},
     "output_type": "execute_result"
    }
   ],
   "source": [
    "# count COI variants for gene\n",
    "\n",
    "coi_genes = vep.loc[vep['CLNSIG_MASK'] == 'COI', ['SYMBOL']]\n",
    "coi_genes_count = coi_genes.groupby(['SYMBOL']).size().reset_index().sort_values(by=[0], ascending=False)\n",
    "coi_genes_count.columns = ['gene','n_coi_in_gene']\n",
    "coi_genes_count.head(3)"
   ]
  },
  {
   "cell_type": "code",
   "execution_count": 12,
   "id": "24a8befd",
   "metadata": {},
   "outputs": [
    {
     "name": "stdout",
     "output_type": "stream",
     "text": [
      "(2120863, 26)\n"
     ]
    }
   ],
   "source": [
    "# count non-coi variants in these genes\n",
    "\n",
    "no_coi = vep.loc[~vep['ID'].isin(coi_ids_list)]\n",
    "print(no_coi.shape)"
   ]
  },
  {
   "cell_type": "code",
   "execution_count": 13,
   "id": "6460a98b",
   "metadata": {},
   "outputs": [
    {
     "name": "stdout",
     "output_type": "stream",
     "text": [
      "(4462, 3)\n"
     ]
    },
    {
     "data": {
      "text/html": [
       "<div>\n",
       "<style scoped>\n",
       "    .dataframe tbody tr th:only-of-type {\n",
       "        vertical-align: middle;\n",
       "    }\n",
       "\n",
       "    .dataframe tbody tr th {\n",
       "        vertical-align: top;\n",
       "    }\n",
       "\n",
       "    .dataframe thead th {\n",
       "        text-align: right;\n",
       "    }\n",
       "</style>\n",
       "<table border=\"1\" class=\"dataframe\">\n",
       "  <thead>\n",
       "    <tr style=\"text-align: right;\">\n",
       "      <th></th>\n",
       "      <th>gene</th>\n",
       "      <th>n_coi_in_gene</th>\n",
       "      <th>n_non_coi_in_gene</th>\n",
       "      <th>n_var_in_gene</th>\n",
       "      <th>n_total_coi</th>\n",
       "      <th>n_total_var</th>\n",
       "    </tr>\n",
       "  </thead>\n",
       "  <tbody>\n",
       "    <tr>\n",
       "      <th>0</th>\n",
       "      <td>BRCA2</td>\n",
       "      <td>5323</td>\n",
       "      <td>11663.0</td>\n",
       "      <td>16986.0</td>\n",
       "      <td>134238</td>\n",
       "      <td>2139697</td>\n",
       "    </tr>\n",
       "    <tr>\n",
       "      <th>1</th>\n",
       "      <td>TTN</td>\n",
       "      <td>3751</td>\n",
       "      <td>23141.0</td>\n",
       "      <td>26892.0</td>\n",
       "      <td>134238</td>\n",
       "      <td>2139697</td>\n",
       "    </tr>\n",
       "    <tr>\n",
       "      <th>2</th>\n",
       "      <td>BRCA1</td>\n",
       "      <td>2988</td>\n",
       "      <td>10260.0</td>\n",
       "      <td>13248.0</td>\n",
       "      <td>134238</td>\n",
       "      <td>2139697</td>\n",
       "    </tr>\n",
       "  </tbody>\n",
       "</table>\n",
       "</div>"
      ],
      "text/plain": [
       "    gene  n_coi_in_gene  n_non_coi_in_gene  n_var_in_gene  n_total_coi  \\\n",
       "0  BRCA2           5323            11663.0        16986.0       134238   \n",
       "1    TTN           3751            23141.0        26892.0       134238   \n",
       "2  BRCA1           2988            10260.0        13248.0       134238   \n",
       "\n",
       "   n_total_var  \n",
       "0      2139697  \n",
       "1      2139697  \n",
       "2      2139697  "
      ]
     },
     "execution_count": 13,
     "metadata": {},
     "output_type": "execute_result"
    }
   ],
   "source": [
    "# count non-coi variants for each gene\n",
    "no_coi_genes_count = no_coi.groupby(['SYMBOL']).size().reset_index().sort_values(by=[0], ascending=False)\n",
    "no_coi_genes_count.columns = ['gene','n_non_coi_in_gene']\n",
    "\n",
    "# collect data about coi and non-coi variants for gene\n",
    "coi_genes_ea = coi_genes_count.merge(no_coi_genes_count, on=['gene'], how='left')\n",
    "\n",
    "print(coi_genes_ea.shape)\n",
    "\n",
    "# calculate other metrics\n",
    "coi_genes_ea['n_var_in_gene'] = coi_genes_ea['n_coi_in_gene'] + coi_genes_ea['n_non_coi_in_gene']\n",
    "coi_genes_ea['n_total_coi'] = 134238\n",
    "coi_genes_ea['n_total_var'] = 2139697\n",
    "\n",
    "\n",
    "coi_genes_ea.head(3)"
   ]
  },
  {
   "cell_type": "code",
   "execution_count": 14,
   "id": "aa8658c8",
   "metadata": {},
   "outputs": [
    {
     "name": "stdout",
     "output_type": "stream",
     "text": [
      "[1] 390\n"
     ]
    }
   ],
   "source": [
    "%%R -i coi_genes_ea\n",
    "\n",
    "# Enrichment\n",
    "\n",
    "coi_genes_ea$hyper_pval <- with(coi_genes_ea, \n",
    "                                phyper(n_coi_in_gene - 1,   # k = number of conflicts in gene X\n",
    "                                       n_total_coi,         # K = all conflicts\n",
    "                                       n_total_var - n_total_coi, #  all ClinVar variants (N) - all COI (K)\n",
    "                                       n_var_in_gene,       # n = number of ClinVar variants in gene X\n",
    "                                       lower.tail = FALSE))\n",
    "\n",
    "coi_genes_ea$hyper_padj <- p.adjust(coi_genes_ea$hyper_pval, method=\"fdr\")\n",
    "\n",
    "\n",
    "coi_genes_ea_flt <-coi_genes_ea %>% \n",
    "  filter(hyper_padj <= 0.05)%>% arrange(hyper_padj)\n",
    "\n",
    "nrow(coi_genes_ea_flt)"
   ]
  },
  {
   "cell_type": "code",
   "execution_count": 16,
   "id": "d4afb9b0",
   "metadata": {},
   "outputs": [
    {
     "name": "stdout",
     "output_type": "stream",
     "text": [
      "(130806, 27)\n",
      "(2163750, 27)\n"
     ]
    }
   ],
   "source": [
    "# COI EA in genes with at least one P variant\n",
    "\n",
    "vars_in_pgenes = vep.loc[vep['SYMBOL'].isin(pathogenic_genes_list)]\n",
    "\n",
    "coi_in_pgenes = vars_in_pgenes.loc[vars_in_pgenes['ID'].isin(coi_ids_list)]\n",
    "print(coi_in_pgenes.shape)\n",
    "\n",
    "ncoi_in_pgenes = vars_in_pgenes.loc[~vars_in_pgenes['ID'].isin(coi_ids_list)]\n",
    "print(ncoi_in_pgenes.shape)"
   ]
  },
  {
   "cell_type": "code",
   "execution_count": 19,
   "id": "1f61a3ee",
   "metadata": {},
   "outputs": [
    {
     "data": {
      "text/html": [
       "<div>\n",
       "<style scoped>\n",
       "    .dataframe tbody tr th:only-of-type {\n",
       "        vertical-align: middle;\n",
       "    }\n",
       "\n",
       "    .dataframe tbody tr th {\n",
       "        vertical-align: top;\n",
       "    }\n",
       "\n",
       "    .dataframe thead th {\n",
       "        text-align: right;\n",
       "    }\n",
       "</style>\n",
       "<table border=\"1\" class=\"dataframe\">\n",
       "  <thead>\n",
       "    <tr style=\"text-align: right;\">\n",
       "      <th></th>\n",
       "      <th>gene</th>\n",
       "      <th>n_coi_in_gene</th>\n",
       "    </tr>\n",
       "  </thead>\n",
       "  <tbody>\n",
       "    <tr>\n",
       "      <th>376</th>\n",
       "      <td>BRCA2</td>\n",
       "      <td>5323</td>\n",
       "    </tr>\n",
       "    <tr>\n",
       "      <th>3426</th>\n",
       "      <td>TTN</td>\n",
       "      <td>3751</td>\n",
       "    </tr>\n",
       "    <tr>\n",
       "      <th>375</th>\n",
       "      <td>BRCA1</td>\n",
       "      <td>2988</td>\n",
       "    </tr>\n",
       "  </tbody>\n",
       "</table>\n",
       "</div>"
      ],
      "text/plain": [
       "       gene  n_coi_in_gene\n",
       "376   BRCA2           5323\n",
       "3426    TTN           3751\n",
       "375   BRCA1           2988"
      ]
     },
     "execution_count": 19,
     "metadata": {},
     "output_type": "execute_result"
    }
   ],
   "source": [
    "# number of coi in genes with at least one P\n",
    "coi_in_pgenes_count = coi_in_pgenes.groupby(['SYMBOL']).size().reset_index().sort_values(by=[0], ascending=False)\n",
    "coi_in_pgenes_count.columns = ['gene','n_coi_in_gene']\n",
    "coi_in_pgenes_count.head(3)"
   ]
  },
  {
   "cell_type": "code",
   "execution_count": 20,
   "id": "a9e2e7d1",
   "metadata": {},
   "outputs": [
    {
     "name": "stdout",
     "output_type": "stream",
     "text": [
      "(3627, 3)\n"
     ]
    },
    {
     "data": {
      "text/html": [
       "<div>\n",
       "<style scoped>\n",
       "    .dataframe tbody tr th:only-of-type {\n",
       "        vertical-align: middle;\n",
       "    }\n",
       "\n",
       "    .dataframe tbody tr th {\n",
       "        vertical-align: top;\n",
       "    }\n",
       "\n",
       "    .dataframe thead th {\n",
       "        text-align: right;\n",
       "    }\n",
       "</style>\n",
       "<table border=\"1\" class=\"dataframe\">\n",
       "  <thead>\n",
       "    <tr style=\"text-align: right;\">\n",
       "      <th></th>\n",
       "      <th>gene</th>\n",
       "      <th>n_coi_in_gene</th>\n",
       "      <th>n_non_coi_in_gene</th>\n",
       "      <th>n_var_in_gene</th>\n",
       "      <th>n_total_coi</th>\n",
       "      <th>n_total_var</th>\n",
       "    </tr>\n",
       "  </thead>\n",
       "  <tbody>\n",
       "    <tr>\n",
       "      <th>0</th>\n",
       "      <td>BRCA2</td>\n",
       "      <td>5323</td>\n",
       "      <td>12836</td>\n",
       "      <td>18159</td>\n",
       "      <td>130806</td>\n",
       "      <td>2294556</td>\n",
       "    </tr>\n",
       "    <tr>\n",
       "      <th>1</th>\n",
       "      <td>TTN</td>\n",
       "      <td>3751</td>\n",
       "      <td>26989</td>\n",
       "      <td>30740</td>\n",
       "      <td>130806</td>\n",
       "      <td>2294556</td>\n",
       "    </tr>\n",
       "    <tr>\n",
       "      <th>2</th>\n",
       "      <td>BRCA1</td>\n",
       "      <td>2988</td>\n",
       "      <td>10855</td>\n",
       "      <td>13843</td>\n",
       "      <td>130806</td>\n",
       "      <td>2294556</td>\n",
       "    </tr>\n",
       "  </tbody>\n",
       "</table>\n",
       "</div>"
      ],
      "text/plain": [
       "    gene  n_coi_in_gene  n_non_coi_in_gene  n_var_in_gene  n_total_coi  \\\n",
       "0  BRCA2           5323              12836          18159       130806   \n",
       "1    TTN           3751              26989          30740       130806   \n",
       "2  BRCA1           2988              10855          13843       130806   \n",
       "\n",
       "   n_total_var  \n",
       "0      2294556  \n",
       "1      2294556  \n",
       "2      2294556  "
      ]
     },
     "execution_count": 20,
     "metadata": {},
     "output_type": "execute_result"
    }
   ],
   "source": [
    "# number of  non-coi in genes with at least one P\n",
    "\n",
    "ncoi_in_pgenes_count = ncoi_in_pgenes.groupby(['SYMBOL']).size().reset_index().sort_values(by=[0], ascending=False)\n",
    "ncoi_in_pgenes_count.columns = ['gene','n_non_coi_in_gene']\n",
    "\n",
    "# collect data about coi and non-coi variants for gene\n",
    "coi_pgenes_ea = coi_in_pgenes_count.merge(ncoi_in_pgenes_count, on=['gene'], how='left')\n",
    "\n",
    "print(coi_pgenes_ea.shape)\n",
    "\n",
    "# calculate other metrics\n",
    "coi_pgenes_ea['n_var_in_gene'] = coi_pgenes_ea['n_coi_in_gene'] + coi_pgenes_ea['n_non_coi_in_gene']\n",
    "coi_pgenes_ea['n_total_coi'] = 130806\n",
    "coi_pgenes_ea['n_total_var'] = 2294556\n",
    "\n",
    "\n",
    "coi_pgenes_ea.head(3)"
   ]
  },
  {
   "cell_type": "code",
   "execution_count": 21,
   "id": "be9bf818",
   "metadata": {},
   "outputs": [
    {
     "name": "stdout",
     "output_type": "stream",
     "text": [
      "[1] 292\n"
     ]
    }
   ],
   "source": [
    "%%R -i coi_pgenes_ea\n",
    "\n",
    "# Enrichment\n",
    "\n",
    "coi_pgenes_ea$hyper_pval <- with(coi_pgenes_ea, \n",
    "                                phyper(n_coi_in_gene - 1,   # k = number of conflicts in gene X\n",
    "                                       n_total_coi,         # K = all conflicts\n",
    "                                       n_total_var - n_total_coi, #  all ClinVar variants (N) - all COI (K)\n",
    "                                       n_var_in_gene,       # n = number of ClinVar variants in gene X\n",
    "                                       lower.tail = FALSE))\n",
    "\n",
    "coi_pgenes_ea$hyper_padj <- p.adjust(coi_pgenes_ea$hyper_pval, method=\"fdr\")\n",
    "\n",
    "\n",
    "coi_pgenes_ea_flt <-coi_pgenes_ea %>% \n",
    "  filter(hyper_padj <= 0.05)%>% arrange(hyper_padj)\n",
    "\n",
    "nrow(coi_pgenes_ea_flt)"
   ]
  },
  {
   "cell_type": "code",
   "execution_count": 22,
   "id": "3fb7d76c",
   "metadata": {},
   "outputs": [],
   "source": [
    "%%R\n",
    "head(coi_pgenes_ea_flt)\n",
    "write.table(coi_pgenes_ea_flt, './temp/coi_pgenes_ea_flt.csv', sep='\\t', quote=FALSE)\n",
    "# features of enriched genes\n"
   ]
  },
  {
   "cell_type": "markdown",
   "id": "43b3d19a",
   "metadata": {},
   "source": [
    "# Enrichment Analysis"
   ]
  },
  {
   "cell_type": "code",
   "execution_count": 23,
   "id": "2e3380be",
   "metadata": {},
   "outputs": [
    {
     "name": "stdout",
     "output_type": "stream",
     "text": [
      "     gene n_coi_in_gene n_non_coi_in_gene n_var_in_gene n_total_coi n_total_var\n",
      "0   BRCA2          5323             12836         18159      130806     2294556\n",
      "1     TTN          3751             26989         30740      130806     2294556\n",
      "2   BRCA1          2988             10855         13843      130806     2294556\n",
      "4    MSH2          1108              5832          6940      130806     2294556\n",
      "10   APOB           691              2738          3429      130806     2294556\n",
      "16 COL6A3           601              2683          3284      130806     2294556\n",
      "      hyper_pval    hyper_padj\n",
      "0   0.000000e+00  0.000000e+00\n",
      "1   0.000000e+00  0.000000e+00\n",
      "2   0.000000e+00  0.000000e+00\n",
      "4  5.306237e-207 4.811430e-204\n",
      "10 6.080808e-184 4.411018e-181\n",
      "16 6.085897e-140 3.678925e-137\n"
     ]
    }
   ],
   "source": [
    "%%R\n",
    "\n",
    "coi_pgenes_ea <- read.csv('./temp/coi_pgenes_ea_flt.csv', sep='\\t')\n",
    "head(coi_pgenes_ea)"
   ]
  },
  {
   "cell_type": "code",
   "execution_count": 26,
   "id": "ce58612e",
   "metadata": {},
   "outputs": [
    {
     "data": {
      "image/png": "[encoded data removed]",
      "text/plain": [
       "<IPython.core.display.Image object>"
      ]
     },
     "metadata": {},
     "output_type": "display_data"
    }
   ],
   "source": [
    "%%R\n",
    "genes_plot <- enrichGO(gene = unique(coi_pgenes_ea$gene),\n",
    "                       OrgDb = \"org.Hs.eg.db\",\n",
    "                       keyType = \"SYMBOL\",\n",
    "                       #ont           = \"BP\",\n",
    "                       #ont           = \"CC\",\n",
    "                       #ont           = \"MF\",\n",
    "                       pAdjustMethod = \"fdr\",\n",
    "                       #pvalueCutoff  = 0.01,\n",
    "                       qvalueCutoff  = 0.05)\n",
    "#goplot(genes_plot)\n",
    "#barplot(genes_plot) + ggtitle(\"Biological Processes\")\n",
    "#barplot(genes_plot) + ggtitle(\"Cellular Components\")\n",
    "#barplot(genes_plot) + ggtitle(\"Molecular Functions\")\n",
    "#write.table(genes_plot,\"Genes_GO_BP.csv\",quote = F,sep = \"\\t\",row.names = F)"
   ]
  },
  {
   "cell_type": "code",
   "execution_count": 27,
   "id": "8966b4d7",
   "metadata": {},
   "outputs": [
    {
     "data": {
      "image/png": "[encoded data removed]",
      "text/plain": [
       "<IPython.core.display.Image object>"
      ]
     },
     "metadata": {},
     "output_type": "display_data"
    }
   ],
   "source": [
    "%%R\n",
    "\n",
    "#C5-HPO\n",
    "m_df <- msigdbr(species = \"Homo sapiens\")\n",
    "head(m_df) %>% as.data.frame\n",
    "m_t2g <- msigdbr(species = \"Homo sapiens\", category = \"C5\", subcategory = \"HPO\") %>% \n",
    "  dplyr::select(gs_name,gene_symbol)\n",
    "em <- enricher(unique(coi_pgenes_ea$gene), TERM2GENE=m_t2g)\n",
    "#write.table(em,\"Enrich_MSGDIB_C5_HPO_SAB.csv\",quote = F,sep = \"\\t\",row.names = F)\n",
    "\n",
    "barplot(em) + ggtitle(\"C5:HPO\")"
   ]
  },
  {
   "cell_type": "code",
   "execution_count": 28,
   "id": "3257bc65",
   "metadata": {},
   "outputs": [
    {
     "data": {
      "image/png": "[encoded data removed]",
      "text/plain": [
       "<IPython.core.display.Image object>"
      ]
     },
     "metadata": {},
     "output_type": "display_data"
    }
   ],
   "source": [
    "%%R\n",
    "\n",
    "#C2\n",
    "m_df <- msigdbr(species = \"Homo sapiens\")\n",
    "head(m_df) %>% as.data.frame\n",
    "m_t2g <- msigdbr(species = \"Homo sapiens\", category = \"C2\") %>% \n",
    "  dplyr::select(gs_name,gene_symbol)\n",
    "em <- enricher(unique(coi_pgenes_ea$gene), TERM2GENE=m_t2g)\n",
    "\n",
    "#write.table(em,\"Enrich_MSGDIB_C2_SAB.csv\",quote = F,sep = \"\\t\",row.names = F)\n",
    "\n",
    "barplot(em) + ggtitle(\"C2:CP\")\n",
    "#heatplot(em, showCategory = 15, foldChange = NULL)+ geom_point() + scale_colour_gradient(low = \"blue\", high = \"red\")"
   ]
  },
  {
   "cell_type": "code",
   "execution_count": null,
   "id": "e00b3a6b",
   "metadata": {},
   "outputs": [],
   "source": []
  }
 ],
 "metadata": {
  "kernelspec": {
   "display_name": "Python 3 (ipykernel)",
   "language": "python",
   "name": "python3"
  },
  "language_info": {
   "codemirror_mode": {
    "name": "ipython",
    "version": 3
   },
   "file_extension": ".py",
   "mimetype": "text/x-python",
   "name": "python",
   "nbconvert_exporter": "python",
   "pygments_lexer": "ipython3",
   "version": "3.11.5"
  }
 },
 "nbformat": 4,
 "nbformat_minor": 5
}
